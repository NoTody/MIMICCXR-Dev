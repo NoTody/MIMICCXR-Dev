{
 "cells": [
  {
   "cell_type": "markdown",
   "id": "53bd3cee",
   "metadata": {},
   "source": [
    "rm -rf *.csv"
   ]
  },
  {
   "cell_type": "code",
   "execution_count": 1,
   "id": "df4d5763",
   "metadata": {},
   "outputs": [
    {
     "name": "stdout",
     "output_type": "stream",
     "text": [
      "True\n",
      "Train data length: 191027\n",
      "Valid data length: 202\n",
      "Train data length: 191027\n",
      "Valid data length: 202\n"
     ]
    }
   ],
   "source": [
    "import numpy as np\n",
    "import pandas as pd\n",
    "import time\n",
    "import csv\n",
    "import random\n",
    "import matplotlib.pyplot as plt\n",
    "from PIL import Image\n",
    "from barbar import Bar\n",
    "\n",
    "import torch\n",
    "import torch.nn as nn\n",
    "import torch.optim as optim\n",
    "import torch.backends.cudnn as cudnn\n",
    "import torchvision\n",
    "import torchvision.transforms as transforms\n",
    "from torch.utils.data import Dataset\n",
    "from torch.utils.data import DataLoader\n",
    "from torch.utils.data.dataset import random_split\n",
    "\n",
    "import sklearn.metrics as metrics\n",
    "from sklearn.metrics import roc_auc_score\n",
    "\n",
    "use_gpu = torch.cuda.is_available()\n",
    "print(use_gpu)\n",
    "\n",
    "train_path = '/gpfs/data/denizlab/Datasets/Public/CheXpert-v1.0/train.csv'\n",
    "valid_path = '/gpfs/data/denizlab/Datasets/Public/CheXpert-v1.0/valid.csv'\n",
    "\n",
    "\n",
    "Traindata = pd.read_csv(train_path)\n",
    "Traindata = Traindata[Traindata['Path'].str.contains(\"frontal\")] # use only frontal images\n",
    "#Traindata = Traindata[500:]\n",
    "Traindata.to_csv('/gpfs/data/denizlab/Users/skr2369/Chexpert/CheXpert-v1/U1-V1/train_mod.csv', index = False)\n",
    "print(\"Train data length:\", len(Traindata))\n",
    "\n",
    "Validdata = pd.read_csv(valid_path)\n",
    "Validdata = Validdata[Validdata['Path'].str.contains(\"frontal\")] # use only frontal images\n",
    "Validdata.to_csv('/gpfs/data/denizlab/Users/skr2369/Chexpert/CheXpert-v1/U1-V1/valid_mod.csv', index = False)\n",
    "print(\"Valid data length:\", len(Validdata))\n",
    "\n",
    "# Testdata = Traindata.head(500) # use first 500 training data as test data (obs ratio is almost same!)\n",
    "# Testdata.to_csv('/gpfs/data/denizlab/Users/skr2369/Chexpert/CheXpert-v1/test_mod.csv', index = False)\n",
    "# print(\"Test data length:\", len(Testdata))\n",
    "\n",
    "pathFileTrain = '/gpfs/data/denizlab/Users/skr2369/Chexpert/CheXpert-v1/U1-V1/train_mod.csv'\n",
    "pathFileValid = '/gpfs/data/denizlab/Users/skr2369/Chexpert/CheXpert-v1/U1-V1/valid_mod.csv'\n",
    "# pathFileTest = '/gpfs/data/denizlab/Users/skr2369/Chexpert/CheXpert-v1/test_mod.csv'\n",
    "\n",
    "# Neural network parameters:\n",
    "nnIsTrained = False     # pre-trained using ImageNet\n",
    "nnClassCount = 14       # dimension of the output\n",
    "\n",
    "# Training settings: batch size, maximum number of epochs\n",
    "trBatchSize = 16\n",
    "trMaxEpoch = 3\n",
    "\n",
    "# Parameters related to image transforms: size of the down-scaled image, cropped image\n",
    "imgtransResize = (320, 320)\n",
    "imgtransCrop = 224\n",
    "\n",
    "# Class names\n",
    "class_names = ['No Finding', 'Enlarged Cardiomediastinum', 'Cardiomegaly', 'Lung Opacity', \n",
    "               'Lung Lesion', 'Edema', 'Consolidation', 'Pneumonia', 'Atelectasis', 'Pneumothorax', \n",
    "               'Pleural Effusion', 'Pleural Other', 'Fracture', 'Support Devices']\n",
    "\n",
    "class CheXpertDataSet(Dataset):\n",
    "    def __init__(self, data_PATH, transform = None, policy = \"ones\"):\n",
    "        \"\"\"\n",
    "        data_PATH: path to the file containing images with corresponding labels.\n",
    "        transform: optional transform to be applied on a sample.\n",
    "        Upolicy: name the policy with regard to the uncertain labels.\n",
    "        \"\"\"\n",
    "        image_names = []\n",
    "        labels = []\n",
    "\n",
    "        with open(data_PATH, \"r\") as f:\n",
    "            csvReader = csv.reader(f)\n",
    "            next(csvReader, None) # skip the header\n",
    "            for line in csvReader:\n",
    "                image_name = line[0]\n",
    "                label = line[5:]\n",
    "                \n",
    "                for i in range(14):\n",
    "                    if label[i]:\n",
    "                        a = float(label[i])\n",
    "                        if a == 1:\n",
    "                            label[i] = 1\n",
    "                        elif a == -1:\n",
    "                            if policy == \"ones\":\n",
    "                                label[i] = 1\n",
    "                            elif policy == \"zeroes\":\n",
    "                                label[i] = 0\n",
    "                            else:\n",
    "                                label[i] = 0\n",
    "                        else:\n",
    "                            label[i] = 0\n",
    "                    else:\n",
    "                        label[i] = 0\n",
    "                \n",
    "                image_names.append('/gpfs/data/denizlab/Datasets/Public/' + image_name)\n",
    "        \n",
    "#                 image_names.append('./' + image_name)\n",
    "                labels.append(label)\n",
    "\n",
    "        self.image_names = image_names\n",
    "        self.labels = labels\n",
    "        self.transform = transform\n",
    "\n",
    "    def __getitem__(self, index):\n",
    "        \"\"\"Take the index of item and returns the image and its labels\"\"\"\n",
    "        image_name = self.image_names[index]\n",
    "        image = Image.open(image_name).convert('RGB')\n",
    "        label = self.labels[index]\n",
    "        if self.transform is not None:\n",
    "            image = self.transform(image)\n",
    "        return image, torch.FloatTensor(label)\n",
    "\n",
    "    def __len__(self):\n",
    "        return len(self.image_names)\n",
    "    \n",
    "\n",
    "IMAGENET_MEAN = [0.485, 0.456, 0.406]  # mean of ImageNet dataset(for normalization)\n",
    "IMAGENET_STD = [0.229, 0.224, 0.225]   # std of ImageNet dataset(for normalization)\n",
    "\n",
    "# Tranform data\n",
    "normalize = transforms.Normalize(IMAGENET_MEAN, IMAGENET_STD)\n",
    "transformList = []\n",
    "\n",
    "transformList.append(transforms.Resize((imgtransCrop, imgtransCrop))) # 224\n",
    "# transformList.append(transforms.RandomResizedCrop(imgtransCrop))\n",
    "# transformList.append(transforms.RandomHorizontalFlip())\n",
    "transformList.append(transforms.ToTensor())\n",
    "# transformList.append(normalize)\n",
    "transformSequence = transforms.Compose(transformList)\n",
    "\n",
    "# Load dataset\n",
    "datasetTrain = CheXpertDataSet(pathFileTrain, transformSequence, policy = \"ones\")\n",
    "print(\"Train data length:\", len(datasetTrain))\n",
    "dataLoaderTrain = DataLoader(dataset=datasetTrain, batch_size=trBatchSize, shuffle=True,  num_workers=20, pin_memory=True)\n",
    "\n",
    "\n",
    "datasetValid = CheXpertDataSet(pathFileValid, transformSequence)\n",
    "print(\"Valid data length:\", len(datasetValid))\n",
    "dataLoaderVal = DataLoader(dataset = datasetValid, batch_size = trBatchSize, \n",
    "                           shuffle = False, num_workers = 2, pin_memory = True)\n",
    "\n",
    "# data(\"Test data length:\", len(datasetTest))\n",
    "\n",
    "\n",
    "class CheXpertTrainer():\n",
    "\n",
    "    def train(model, dataLoaderTrain, dataLoaderVal, nnClassCount, trMaxEpoch, checkpoint):\n",
    "        optimizer = optim.Adam(model.parameters(), lr = 0.0001, # setting optimizer & scheduler\n",
    "                               betas = (0.9, 0.999), eps = 1e-08, weight_decay = 0) \n",
    "        loss = torch.nn.BCELoss() # setting loss function\n",
    "        \n",
    "        if checkpoint != None and use_gpu: # loading checkpoint\n",
    "            modelCheckpoint = torch.load(checkpoint)\n",
    "            model.load_state_dict(modelCheckpoint['state_dict'])\n",
    "            optimizer.load_state_dict(modelCheckpoint['optimizer'])\n",
    "            \n",
    "        # Train the network\n",
    "        lossMIN = 100000\n",
    "        train_start = []\n",
    "        train_end = []\n",
    "        for epochID in range(0, trMaxEpoch):\n",
    "            train_start.append(time.time()) # training starts\n",
    "            losst = CheXpertTrainer.epochTrain(model, dataLoaderTrain, optimizer, trMaxEpoch, nnClassCount, loss)\n",
    "            train_end.append(time.time()) # training ends\n",
    "#             lossv = CheXpertTrainer.epochVal(model, dataLoaderVal, optimizer, trMaxEpoch, nnClassCount, loss)\n",
    "            print(\"Training loss: {:.3f},\".format(losst))#, \"Valid loss: {:.3f}\".format(lossv))\n",
    "            \n",
    "            if losst < lossMIN:\n",
    "                lossMIN = losst\n",
    "                torch.save({'epoch': epochID + 1, 'state_dict': model.state_dict(), \n",
    "                            'best_loss': lossMIN, 'optimizer' : optimizer.state_dict()}, \n",
    "                           'm-epoch_FL' + str(epochID + 1) + '.pth.tar')\n",
    "                print('Epoch ' + str(epochID + 1) + ' [save] loss = ' + str(losst))\n",
    "            else:\n",
    "                print('Epoch ' + str(epochID + 1) + ' [----] loss = ' + str(losst))\n",
    "\n",
    "        train_time = np.array(train_end) - np.array(train_start)\n",
    "        print(\"Training time for each epoch: {} seconds\".format(train_time.round(0)))\n",
    "        params = model.state_dict()\n",
    "        return params\n",
    "       \n",
    "        \n",
    "    def epochTrain(model, dataLoaderTrain, optimizer, epochMax, classCount, loss):\n",
    "        losstrain = 0\n",
    "        model.train()\n",
    "\n",
    "        for batchID, (varInput, target) in enumerate(Bar(dataLoaderTrain)):\n",
    "            \n",
    "            varTarget = target.cuda(non_blocking = True)\n",
    "            varOutput = model(varInput)\n",
    "            lossvalue = loss(varOutput, varTarget)\n",
    "                       \n",
    "            optimizer.zero_grad()\n",
    "            lossvalue.backward()\n",
    "            optimizer.step()\n",
    "            \n",
    "            losstrain += lossvalue.item()\n",
    "            \n",
    "        return losstrain / len(dataLoaderTrain)\n",
    "\n",
    "    \n",
    "    def computeAUROC(dataGT, dataPRED, classCount):\n",
    "        # Computes area under ROC curve \n",
    "        # dataGT: ground truth data\n",
    "        # dataPRED: predicted data\n",
    "        outAUROC = []\n",
    "        datanpGT = dataGT.cpu().numpy()\n",
    "        datanpPRED = dataPRED.cpu().numpy()\n",
    "        \n",
    "        for i in range(classCount):\n",
    "            try:\n",
    "                outAUROC.append(roc_auc_score(datanpGT[:, i], datanpPRED[:, i]))\n",
    "            except ValueError:\n",
    "                pass\n",
    "        return outAUROC\n",
    "    \n",
    "    \n",
    "    def test(model, dataLoaderTest, nnClassCount, checkpoint, class_names):\n",
    "        cudnn.benchmark = True\n",
    "        \n",
    "        if checkpoint != None and use_gpu:\n",
    "            modelCheckpoint = torch.load(checkpoint)\n",
    "            model.load_state_dict(modelCheckpoint['state_dict'])\n",
    "\n",
    "        if use_gpu:\n",
    "            outGT = torch.FloatTensor().cuda()\n",
    "            outPRED = torch.FloatTensor().cuda()\n",
    "        else:\n",
    "            outGT = torch.FloatTensor()\n",
    "            outPRED = torch.FloatTensor()\n",
    "       \n",
    "        model.eval()\n",
    "        \n",
    "        with torch.no_grad():\n",
    "            for i, (input, target) in enumerate(dataLoaderTest):\n",
    "\n",
    "                target = target.cuda()\n",
    "                outGT = torch.cat((outGT, target), 0).cuda()\n",
    "\n",
    "                bs, c, h, w = input.size()\n",
    "                varInput = input.view(-1, c, h, w)\n",
    "            \n",
    "                out = model(varInput)\n",
    "                outPRED = torch.cat((outPRED, out), 0)\n",
    "        aurocIndividual = CheXpertTrainer.computeAUROC(outGT, outPRED, nnClassCount)\n",
    "        aurocMean = np.array(aurocIndividual).mean()\n",
    "        print('AUROC mean ', aurocMean)\n",
    "        \n",
    "        for i in range (0, len(aurocIndividual)):\n",
    "            print(class_names[i], ' ', aurocIndividual[i])\n",
    "        \n",
    "        return outGT, outPRED"
   ]
  },
  {
   "cell_type": "code",
   "execution_count": 2,
   "id": "16124b8f",
   "metadata": {},
   "outputs": [],
   "source": [
    "class DenseNet121(nn.Module):\n",
    "    \"\"\"Model modified.\n",
    "    The architecture of our model is the same as standard DenseNet121\n",
    "    except the classifier layer which has an additional sigmoid function.\n",
    "    \"\"\"\n",
    "    def __init__(self, out_size):\n",
    "        super(DenseNet121, self).__init__()\n",
    "        self.densenet121 = torchvision.models.densenet121(pretrained = False)\n",
    "        num_ftrs = self.densenet121.classifier.in_features\n",
    "        self.densenet121.classifier = nn.Sequential(\n",
    "            nn.Linear(num_ftrs, out_size),\n",
    "            nn.Sigmoid()\n",
    "        )\n",
    "\n",
    "    def forward(self, x):\n",
    "        x = self.densenet121(x)\n",
    "        return x"
   ]
  },
  {
   "cell_type": "code",
   "execution_count": 3,
   "id": "2aed59d9",
   "metadata": {},
   "outputs": [],
   "source": [
    "# densenet model\n",
    "class densenet_model(nn.Module):\n",
    "    def __init__(self, size, features_dim, out_size, pretrained=False):\n",
    "        super(densenet_model, self).__init__()\n",
    "        \n",
    "        if size==121:\n",
    "            self.backbone = torchvision.models.densenet121(pretrained = False)\n",
    "        else:\n",
    "            raise NotImplementedError(f\"ResNet with size {size} is not implemented!\")\n",
    "\n",
    "        #self.backbone.conv1 = torch.nn.Conv2d(1, 64, kernel_size=(7, 7), stride=(2, 2), padding=(3, 3), bias=False)\n",
    "        self.feature_dim_in = self.backbone.classifier.in_features\n",
    "        self.backbone.classifier = nn.Linear(in_features=self.feature_dim_in, out_features=features_dim, bias=True)\n",
    "        self.classifier = nn.Sequential(\n",
    "            nn.Linear(features_dim, out_size),\n",
    "            nn.Sigmoid()\n",
    "        )\n",
    "        \n",
    "    def forward(self, x):\n",
    "        x = self.backbone(x)\n",
    "        x = self.classifier(x)\n",
    "        return x"
   ]
  },
  {
   "cell_type": "code",
   "execution_count": 6,
   "id": "df07df65",
   "metadata": {},
   "outputs": [],
   "source": [
    "# resnet model\n",
    "class resnet_model(nn.Module):\n",
    "    def __init__(self, size, features_dim, out_size, pretrained=False):\n",
    "        super(resnet_model, self).__init__()\n",
    "        \n",
    "        if size==18:\n",
    "            self.backbone = torchvision.models.resnet18(pretrained=pretrained)\n",
    "        elif size==50:\n",
    "            self.backbone = torchvision.models.resnet50(pretrained=pretrained)\n",
    "        elif size==101:\n",
    "            self.backbone = torchvision.models.resnet101(pretrained=pretrained)\n",
    "        else:\n",
    "            raise NotImplementedError(f\"ResNet with size {size} is not implemented!\")\n",
    "\n",
    "        #self.backbone.conv1 = torch.nn.Conv2d(1, 64, kernel_size=(7, 7), stride=(2, 2), padding=(3, 3), bias=False)\n",
    "        self.feature_dim_in = self.backbone.fc.weight.shape[1]\n",
    "        self.backbone.fc = nn.Linear(in_features=self.feature_dim_in, out_features=features_dim, bias=True)\n",
    "        self.classifier = nn.Sequential(\n",
    "            nn.Linear(features_dim, out_size),\n",
    "            nn.Sigmoid()\n",
    "        )\n",
    "        \n",
    "    def forward(self, x):\n",
    "        x = self.backbone(x)\n",
    "        x = self.classifier(x)\n",
    "        return x"
   ]
  },
  {
   "cell_type": "code",
   "execution_count": 7,
   "id": "18da27f8",
   "metadata": {},
   "outputs": [],
   "source": [
    "size = 50\n",
    "features_dim = 2048\n",
    "out_size = 14\n",
    "\n",
    "model = resnet_model(size, features_dim, out_size, pretrained=True).cuda() # Step 0: Initialize global model and load the model\n",
    "model = torch.nn.DataParallel(model).cuda()\n",
    "#model = model.cuda()"
   ]
  },
  {
   "cell_type": "code",
   "execution_count": 8,
   "id": "ecaa6f18",
   "metadata": {},
   "outputs": [],
   "source": [
    "# model = DenseNet121(nnClassCount).cuda() # Step 0: Initialize global model and load the model\n",
    "# model = torch.nn.DataParallel(model).cuda()"
   ]
  },
  {
   "cell_type": "code",
   "execution_count": 9,
   "id": "433d3d62",
   "metadata": {},
   "outputs": [
    {
     "name": "stdout",
     "output_type": "stream",
     "text": [
      "Performance_Check.ipynb  \u001b[0m\u001b[38;5;9mm-epoch_FL2.pth.tar\u001b[0m         \u001b[38;5;9mm-epoch_FL_ResNet3.pth.tar\u001b[0m\r\n",
      "\u001b[38;5;33m__pycache__\u001b[0m/             \u001b[38;5;9mm-epoch_FL3.pth.tar\u001b[0m         \u001b[38;5;33mmodel_saved\u001b[0m/\r\n",
      "base3.py                 \u001b[38;5;9mm-epoch_FL_ResNet1.pth.tar\u001b[0m  train_mod.csv\r\n",
      "\u001b[38;5;9mm-epoch_FL1.pth.tar\u001b[0m      \u001b[38;5;9mm-epoch_FL_ResNet2.pth.tar\u001b[0m  valid_mod.csv\r\n"
     ]
    }
   ],
   "source": [
    "ls"
   ]
  },
  {
   "cell_type": "code",
   "execution_count": 10,
   "id": "dc9ee999",
   "metadata": {},
   "outputs": [],
   "source": [
    "def load_model(load_path, model):\n",
    "    load_path = load_path\n",
    "    checkpoint = torch.load(load_path)\n",
    "    state_dict = {k.replace(\"img_backbone.\", \"module.\"): v for k, v in checkpoint['state_dict'].items()}\n",
    "    model.load_state_dict(state_dict, strict=False)"
   ]
  },
  {
   "cell_type": "markdown",
   "id": "a2af4955",
   "metadata": {},
   "source": [
    "# ResNet-50"
   ]
  },
  {
   "cell_type": "markdown",
   "id": "6d1606a9",
   "metadata": {},
   "source": [
    "## Original"
   ]
  },
  {
   "cell_type": "code",
   "execution_count": 53,
   "id": "bc14f93d",
   "metadata": {},
   "outputs": [
    {
     "name": "stdout",
     "output_type": "stream",
     "text": [
      "AUROC mean  0.8104620559715634\n",
      "No Finding   0.9134615384615385\n",
      "Enlarged Cardiomediastinum   0.5973490427098674\n",
      "Cardiomegaly   0.8078208556149733\n",
      "Lung Opacity   0.9039718451483157\n",
      "Lung Lesion   0.2587064676616916\n",
      "Edema   0.9309523809523809\n",
      "Consolidation   0.8549632352941177\n",
      "Pneumonia   0.8537371134020617\n",
      "Atelectasis   0.8056692913385827\n",
      "Pneumothorax   0.8996336996336997\n",
      "Pleural Effusion   0.9102128623188406\n",
      "Pleural Other   0.8557213930348259\n",
      "Fracture   0.9438070020594292\n"
     ]
    }
   ],
   "source": [
    "path = \"model_saved/m-epoch_FL_resnet1.pth.tar\"\n",
    "outGT, outPRED = CheXpertTrainer.test(model, dataLoaderVal, nnClassCount, path, class_names)"
   ]
  },
  {
   "cell_type": "code",
   "execution_count": 54,
   "id": "f8137b93",
   "metadata": {},
   "outputs": [
    {
     "name": "stdout",
     "output_type": "stream",
     "text": [
      "AUROC mean  0.8031102929581553\n",
      "No Finding   0.8841783216783217\n",
      "Enlarged Cardiomediastinum   0.6835542464408444\n",
      "Cardiomegaly   0.82174688057041\n",
      "Lung Opacity   0.889894419306184\n",
      "Lung Lesion   0.5174129353233831\n",
      "Edema   0.906547619047619\n",
      "Consolidation   0.85625\n",
      "Pneumonia   0.7190721649484536\n",
      "Atelectasis   0.8473490813648294\n",
      "Pneumothorax   0.882051282051282\n",
      "Pleural Effusion   0.9254981884057971\n",
      "Pleural Other   0.5621890547263682\n",
      "Fracture   0.9446896145925272\n"
     ]
    }
   ],
   "source": [
    "path1 = 'model_saved/m-epoch_FL_resnet2.pth.tar'\n",
    "outGT, outPRED = CheXpertTrainer.test(model, dataLoaderVal, nnClassCount, path1, class_names)"
   ]
  },
  {
   "cell_type": "code",
   "execution_count": 55,
   "id": "4c188789",
   "metadata": {},
   "outputs": [
    {
     "name": "stdout",
     "output_type": "stream",
     "text": [
      "AUROC mean  0.7645676928084052\n",
      "No Finding   0.8948863636363638\n",
      "Enlarged Cardiomediastinum   0.4993618065783014\n",
      "Cardiomegaly   0.7725044563279857\n",
      "Lung Opacity   0.8950226244343892\n",
      "Lung Lesion   0.3532338308457711\n",
      "Edema   0.9397321428571428\n",
      "Consolidation   0.7876838235294117\n",
      "Pneumonia   0.720360824742268\n",
      "Atelectasis   0.750236220472441\n",
      "Pneumothorax   0.9003663003663004\n",
      "Pleural Effusion   0.9199501811594204\n",
      "Pleural Other   0.572139303482587\n",
      "Fracture   0.9339021280768854\n"
     ]
    }
   ],
   "source": [
    "path3 = 'model_saved/m-epoch_FL_resnet3.pth.tar'\n",
    "outGT, outPRED = CheXpertTrainer.test(model, dataLoaderVal, nnClassCount, path3, class_names)"
   ]
  },
  {
   "cell_type": "markdown",
   "id": "88a5bbdb",
   "metadata": {},
   "source": [
    "## CLIP"
   ]
  },
  {
   "cell_type": "code",
   "execution_count": 21,
   "id": "6887590a",
   "metadata": {},
   "outputs": [],
   "source": [
    "load_path = \"model_saved/m-epoch_FL_resnet_clip1.pth.tar\"\n",
    "load_model(load_path, model)"
   ]
  },
  {
   "cell_type": "code",
   "execution_count": 22,
   "id": "52597064",
   "metadata": {},
   "outputs": [
    {
     "name": "stdout",
     "output_type": "stream",
     "text": [
      "AUROC mean  0.7850546097605867\n",
      "No Finding   0.9104020979020979\n",
      "Enlarged Cardiomediastinum   0.5553264604810997\n",
      "Cardiomegaly   0.8293226381461676\n",
      "Lung Opacity   0.9046757164404223\n",
      "Lung Lesion   0.12935323383084574\n",
      "Edema   0.9203869047619048\n",
      "Consolidation   0.871875\n",
      "Pneumonia   0.7802835051546392\n",
      "Atelectasis   0.81249343832021\n",
      "Pneumothorax   0.7501831501831502\n",
      "Pleural Effusion   0.9304800724637681\n",
      "Pleural Other   0.9253731343283582\n",
      "Fracture   0.8855545748749631\n"
     ]
    }
   ],
   "source": [
    "path = None\n",
    "outGT, outPRED = CheXpertTrainer.test(model, dataLoaderVal, nnClassCount, path, class_names)"
   ]
  },
  {
   "cell_type": "code",
   "execution_count": 23,
   "id": "5795df77",
   "metadata": {},
   "outputs": [],
   "source": [
    "load_path = \"model_saved/m-epoch_FL_resnet_clip2.pth.tar\"\n",
    "load_model(load_path, model)"
   ]
  },
  {
   "cell_type": "code",
   "execution_count": 24,
   "id": "836d28f7",
   "metadata": {
    "scrolled": true
   },
   "outputs": [
    {
     "name": "stdout",
     "output_type": "stream",
     "text": [
      "AUROC mean  0.7845261686172921\n",
      "No Finding   0.8830856643356644\n",
      "Enlarged Cardiomediastinum   0.5872361315660285\n",
      "Cardiomegaly   0.8121657754010695\n",
      "Lung Opacity   0.9130216189039718\n",
      "Lung Lesion   0.2587064676616916\n",
      "Edema   0.9227678571428571\n",
      "Consolidation   0.8801470588235294\n",
      "Pneumonia   0.7622422680412371\n",
      "Atelectasis   0.8379002624671916\n",
      "Pneumothorax   0.8212454212454213\n",
      "Pleural Effusion   0.9244791666666667\n",
      "Pleural Other   0.6517412935323383\n",
      "Fracture   0.9441012062371287\n"
     ]
    }
   ],
   "source": [
    "path = None\n",
    "outGT, outPRED = CheXpertTrainer.test(model, dataLoaderVal, nnClassCount, path, class_names)"
   ]
  },
  {
   "cell_type": "code",
   "execution_count": 25,
   "id": "5ca50633",
   "metadata": {},
   "outputs": [],
   "source": [
    "load_path = \"model_saved/m-epoch_FL_resnet_clip3.pth.tar\"\n",
    "load_model(load_path, model)"
   ]
  },
  {
   "cell_type": "code",
   "execution_count": 26,
   "id": "9554da85",
   "metadata": {},
   "outputs": [
    {
     "name": "stdout",
     "output_type": "stream",
     "text": [
      "AUROC mean  0.7430688947473681\n",
      "No Finding   0.8946678321678322\n",
      "Enlarged Cardiomediastinum   0.4203240058910162\n",
      "Cardiomegaly   0.7359625668449199\n",
      "Lung Opacity   0.8757164404223228\n",
      "Lung Lesion   0.23880597014925375\n",
      "Edema   0.934375\n",
      "Consolidation   0.805514705882353\n",
      "Pneumonia   0.720360824742268\n",
      "Atelectasis   0.7517060367454068\n",
      "Pneumothorax   0.8864468864468864\n",
      "Pleural Effusion   0.9177989130434783\n",
      "Pleural Other   0.5671641791044777\n",
      "Fracture   0.9110522702755713\n"
     ]
    }
   ],
   "source": [
    "path = None\n",
    "outGT, outPRED = CheXpertTrainer.test(model, dataLoaderVal, nnClassCount, path, class_names)"
   ]
  },
  {
   "cell_type": "markdown",
   "id": "da8bf86e",
   "metadata": {},
   "source": [
    "## VICREG"
   ]
  },
  {
   "cell_type": "code",
   "execution_count": 27,
   "id": "425f0c2c",
   "metadata": {},
   "outputs": [],
   "source": [
    "load_path = \"model_saved/m-epoch_FL_resnet_vicreg1.pth.tar\"\n",
    "load_model(load_path, model)"
   ]
  },
  {
   "cell_type": "code",
   "execution_count": 28,
   "id": "12f3a8ea",
   "metadata": {},
   "outputs": [
    {
     "name": "stdout",
     "output_type": "stream",
     "text": [
      "AUROC mean  0.7925491866489168\n",
      "No Finding   0.8961975524475525\n",
      "Enlarged Cardiomediastinum   0.5507118311242022\n",
      "Cardiomegaly   0.8053698752228163\n",
      "Lung Opacity   0.9182503770739064\n",
      "Lung Lesion   0.1840796019900498\n",
      "Edema   0.9397321428571429\n",
      "Consolidation   0.8744485294117648\n",
      "Pneumonia   0.8414948453608248\n",
      "Atelectasis   0.8115485564304462\n",
      "Pneumothorax   0.797069597069597\n",
      "Pleural Effusion   0.9042119565217391\n",
      "Pleural Other   0.8905472636815921\n",
      "Fracture   0.8894772972442875\n"
     ]
    }
   ],
   "source": [
    "path = None\n",
    "outGT, outPRED = CheXpertTrainer.test(model, dataLoaderVal, nnClassCount, path, class_names)"
   ]
  },
  {
   "cell_type": "code",
   "execution_count": 29,
   "id": "5f8f4452",
   "metadata": {},
   "outputs": [],
   "source": [
    "load_path = \"model_saved/m-epoch_FL_resnet_vicreg2.pth.tar\"\n",
    "load_model(load_path, model)"
   ]
  },
  {
   "cell_type": "code",
   "execution_count": 30,
   "id": "aace3cc3",
   "metadata": {
    "scrolled": true
   },
   "outputs": [
    {
     "name": "stdout",
     "output_type": "stream",
     "text": [
      "AUROC mean  0.8021283203509278\n",
      "No Finding   0.8868006993006993\n",
      "Enlarged Cardiomediastinum   0.5948944526264115\n",
      "Cardiomegaly   0.8043672014260249\n",
      "Lung Opacity   0.9060834590246356\n",
      "Lung Lesion   0.48756218905472637\n",
      "Edema   0.9209821428571429\n",
      "Consolidation   0.8380514705882354\n",
      "Pneumonia   0.7003865979381443\n",
      "Atelectasis   0.8300262467191601\n",
      "Pneumothorax   0.8769230769230769\n",
      "Pleural Effusion   0.9151947463768116\n",
      "Pleural Other   0.736318407960199\n",
      "Fracture   0.9300774737667942\n"
     ]
    }
   ],
   "source": [
    "path = None\n",
    "outGT, outPRED = CheXpertTrainer.test(model, dataLoaderVal, nnClassCount, path, class_names)"
   ]
  },
  {
   "cell_type": "code",
   "execution_count": 31,
   "id": "a145ae69",
   "metadata": {},
   "outputs": [],
   "source": [
    "load_path = \"model_saved/m-epoch_FL_resnet_vicreg3.pth.tar\"\n",
    "load_model(load_path, model)"
   ]
  },
  {
   "cell_type": "code",
   "execution_count": 32,
   "id": "20408b9b",
   "metadata": {},
   "outputs": [
    {
     "name": "stdout",
     "output_type": "stream",
     "text": [
      "AUROC mean  0.8048243759954641\n",
      "No Finding   0.8876748251748252\n",
      "Enlarged Cardiomediastinum   0.5553264604810998\n",
      "Cardiomegaly   0.8188502673796791\n",
      "Lung Opacity   0.8900955253896431\n",
      "Lung Lesion   0.4626865671641791\n",
      "Edema   0.9375\n",
      "Consolidation   0.8286764705882352\n",
      "Pneumonia   0.7390463917525774\n",
      "Atelectasis   0.7725984251968503\n",
      "Pneumothorax   0.8358974358974359\n",
      "Pleural Effusion   0.9167798913043479\n",
      "Pleural Other   0.8905472636815921\n",
      "Fracture   0.9270373639305678\n"
     ]
    }
   ],
   "source": [
    "path = None\n",
    "outGT, outPRED = CheXpertTrainer.test(model, dataLoaderVal, nnClassCount, path, class_names)"
   ]
  },
  {
   "cell_type": "markdown",
   "id": "f8706b4f",
   "metadata": {},
   "source": [
    "## SIMCLR"
   ]
  },
  {
   "cell_type": "code",
   "execution_count": 33,
   "id": "8a64f5c8",
   "metadata": {
    "scrolled": true
   },
   "outputs": [
    {
     "ename": "FileNotFoundError",
     "evalue": "[Errno 2] No such file or directory: 'model_saved/m-epoch_FL_resnet_simclr1.pth.tar'",
     "output_type": "error",
     "traceback": [
      "\u001b[0;31m---------------------------------------------------------------------------\u001b[0m",
      "\u001b[0;31mFileNotFoundError\u001b[0m                         Traceback (most recent call last)",
      "Input \u001b[0;32mIn [33]\u001b[0m, in \u001b[0;36m<cell line: 2>\u001b[0;34m()\u001b[0m\n\u001b[1;32m      1\u001b[0m load_path \u001b[38;5;241m=\u001b[39m \u001b[38;5;124m\"\u001b[39m\u001b[38;5;124mmodel_saved/m-epoch_FL_resnet_simclr1.pth.tar\u001b[39m\u001b[38;5;124m\"\u001b[39m\n\u001b[0;32m----> 2\u001b[0m \u001b[43mload_model\u001b[49m\u001b[43m(\u001b[49m\u001b[43mload_path\u001b[49m\u001b[43m,\u001b[49m\u001b[43m \u001b[49m\u001b[43mmodel\u001b[49m\u001b[43m)\u001b[49m\n",
      "Input \u001b[0;32mIn [8]\u001b[0m, in \u001b[0;36mload_model\u001b[0;34m(load_path, model)\u001b[0m\n\u001b[1;32m      1\u001b[0m \u001b[38;5;28;01mdef\u001b[39;00m \u001b[38;5;21mload_model\u001b[39m(load_path, model):\n\u001b[1;32m      2\u001b[0m     load_path \u001b[38;5;241m=\u001b[39m load_path\n\u001b[0;32m----> 3\u001b[0m     checkpoint \u001b[38;5;241m=\u001b[39m \u001b[43mtorch\u001b[49m\u001b[38;5;241;43m.\u001b[39;49m\u001b[43mload\u001b[49m\u001b[43m(\u001b[49m\u001b[43mload_path\u001b[49m\u001b[43m)\u001b[49m\n\u001b[1;32m      4\u001b[0m     state_dict \u001b[38;5;241m=\u001b[39m {k\u001b[38;5;241m.\u001b[39mreplace(\u001b[38;5;124m\"\u001b[39m\u001b[38;5;124mimg_backbone.\u001b[39m\u001b[38;5;124m\"\u001b[39m, \u001b[38;5;124m\"\u001b[39m\u001b[38;5;124mmodule.\u001b[39m\u001b[38;5;124m\"\u001b[39m): v \u001b[38;5;28;01mfor\u001b[39;00m k, v \u001b[38;5;129;01min\u001b[39;00m checkpoint[\u001b[38;5;124m'\u001b[39m\u001b[38;5;124mstate_dict\u001b[39m\u001b[38;5;124m'\u001b[39m]\u001b[38;5;241m.\u001b[39mitems()}\n\u001b[1;32m      5\u001b[0m     model\u001b[38;5;241m.\u001b[39mload_state_dict(state_dict, strict\u001b[38;5;241m=\u001b[39m\u001b[38;5;28;01mFalse\u001b[39;00m)\n",
      "File \u001b[0;32m/gpfs/share/skynet/apps/anaconda3/envs/opence_env_1.5.1/lib/python3.8/site-packages/torch/serialization.py:594\u001b[0m, in \u001b[0;36mload\u001b[0;34m(f, map_location, pickle_module, **pickle_load_args)\u001b[0m\n\u001b[1;32m    591\u001b[0m \u001b[38;5;28;01mif\u001b[39;00m \u001b[38;5;124m'\u001b[39m\u001b[38;5;124mencoding\u001b[39m\u001b[38;5;124m'\u001b[39m \u001b[38;5;129;01mnot\u001b[39;00m \u001b[38;5;129;01min\u001b[39;00m pickle_load_args\u001b[38;5;241m.\u001b[39mkeys():\n\u001b[1;32m    592\u001b[0m     pickle_load_args[\u001b[38;5;124m'\u001b[39m\u001b[38;5;124mencoding\u001b[39m\u001b[38;5;124m'\u001b[39m] \u001b[38;5;241m=\u001b[39m \u001b[38;5;124m'\u001b[39m\u001b[38;5;124mutf-8\u001b[39m\u001b[38;5;124m'\u001b[39m\n\u001b[0;32m--> 594\u001b[0m \u001b[38;5;28;01mwith\u001b[39;00m \u001b[43m_open_file_like\u001b[49m\u001b[43m(\u001b[49m\u001b[43mf\u001b[49m\u001b[43m,\u001b[49m\u001b[43m \u001b[49m\u001b[38;5;124;43m'\u001b[39;49m\u001b[38;5;124;43mrb\u001b[39;49m\u001b[38;5;124;43m'\u001b[39;49m\u001b[43m)\u001b[49m \u001b[38;5;28;01mas\u001b[39;00m opened_file:\n\u001b[1;32m    595\u001b[0m     \u001b[38;5;28;01mif\u001b[39;00m _is_zipfile(opened_file):\n\u001b[1;32m    596\u001b[0m         \u001b[38;5;66;03m# The zipfile reader is going to advance the current file position.\u001b[39;00m\n\u001b[1;32m    597\u001b[0m         \u001b[38;5;66;03m# If we want to actually tail call to torch.jit.load, we need to\u001b[39;00m\n\u001b[1;32m    598\u001b[0m         \u001b[38;5;66;03m# reset back to the original position.\u001b[39;00m\n\u001b[1;32m    599\u001b[0m         orig_position \u001b[38;5;241m=\u001b[39m opened_file\u001b[38;5;241m.\u001b[39mtell()\n",
      "File \u001b[0;32m/gpfs/share/skynet/apps/anaconda3/envs/opence_env_1.5.1/lib/python3.8/site-packages/torch/serialization.py:230\u001b[0m, in \u001b[0;36m_open_file_like\u001b[0;34m(name_or_buffer, mode)\u001b[0m\n\u001b[1;32m    228\u001b[0m \u001b[38;5;28;01mdef\u001b[39;00m \u001b[38;5;21m_open_file_like\u001b[39m(name_or_buffer, mode):\n\u001b[1;32m    229\u001b[0m     \u001b[38;5;28;01mif\u001b[39;00m _is_path(name_or_buffer):\n\u001b[0;32m--> 230\u001b[0m         \u001b[38;5;28;01mreturn\u001b[39;00m \u001b[43m_open_file\u001b[49m\u001b[43m(\u001b[49m\u001b[43mname_or_buffer\u001b[49m\u001b[43m,\u001b[49m\u001b[43m \u001b[49m\u001b[43mmode\u001b[49m\u001b[43m)\u001b[49m\n\u001b[1;32m    231\u001b[0m     \u001b[38;5;28;01melse\u001b[39;00m:\n\u001b[1;32m    232\u001b[0m         \u001b[38;5;28;01mif\u001b[39;00m \u001b[38;5;124m'\u001b[39m\u001b[38;5;124mw\u001b[39m\u001b[38;5;124m'\u001b[39m \u001b[38;5;129;01min\u001b[39;00m mode:\n",
      "File \u001b[0;32m/gpfs/share/skynet/apps/anaconda3/envs/opence_env_1.5.1/lib/python3.8/site-packages/torch/serialization.py:211\u001b[0m, in \u001b[0;36m_open_file.__init__\u001b[0;34m(self, name, mode)\u001b[0m\n\u001b[1;32m    210\u001b[0m \u001b[38;5;28;01mdef\u001b[39;00m \u001b[38;5;21m__init__\u001b[39m(\u001b[38;5;28mself\u001b[39m, name, mode):\n\u001b[0;32m--> 211\u001b[0m     \u001b[38;5;28msuper\u001b[39m(_open_file, \u001b[38;5;28mself\u001b[39m)\u001b[38;5;241m.\u001b[39m\u001b[38;5;21m__init__\u001b[39m(\u001b[38;5;28;43mopen\u001b[39;49m\u001b[43m(\u001b[49m\u001b[43mname\u001b[49m\u001b[43m,\u001b[49m\u001b[43m \u001b[49m\u001b[43mmode\u001b[49m\u001b[43m)\u001b[49m)\n",
      "\u001b[0;31mFileNotFoundError\u001b[0m: [Errno 2] No such file or directory: 'model_saved/m-epoch_FL_resnet_simclr1.pth.tar'"
     ]
    }
   ],
   "source": [
    "load_path = \"model_saved/m-epoch_FL_resnet_simclr1.pth.tar\"\n",
    "load_model(load_path, model)"
   ]
  },
  {
   "cell_type": "code",
   "execution_count": null,
   "id": "b9837d43",
   "metadata": {},
   "outputs": [],
   "source": [
    "path = None\n",
    "outGT, outPRED = CheXpertTrainer.test(model, dataLoaderVal, nnClassCount, path, class_names)"
   ]
  },
  {
   "cell_type": "code",
   "execution_count": null,
   "id": "5d7951e1",
   "metadata": {},
   "outputs": [],
   "source": [
    "load_path = \"model_saved/m-epoch_FL_resnet_simclr2.pth.tar\"\n",
    "load_model(load_path, model)"
   ]
  },
  {
   "cell_type": "code",
   "execution_count": null,
   "id": "836d28f7",
   "metadata": {
    "scrolled": true
   },
   "outputs": [],
   "source": [
    "path = None\n",
    "outGT, outPRED = CheXpertTrainer.test(model, dataLoaderVal, nnClassCount, path, class_names)"
   ]
  },
  {
   "cell_type": "code",
   "execution_count": null,
   "id": "5ca50633",
   "metadata": {},
   "outputs": [],
   "source": [
    "load_path = \"model_saved/m-epoch_FL_resnet_simclr3.pth.tar\"\n",
    "load_model(load_path, model)"
   ]
  },
  {
   "cell_type": "code",
   "execution_count": null,
   "id": "9554da85",
   "metadata": {},
   "outputs": [],
   "source": [
    "path = None\n",
    "outGT, outPRED = CheXpertTrainer.test(model, dataLoaderVal, nnClassCount, path, class_names)"
   ]
  },
  {
   "cell_type": "markdown",
   "id": "8f1a58e9",
   "metadata": {},
   "source": [
    "## SLIP VICREG"
   ]
  },
  {
   "cell_type": "code",
   "execution_count": 56,
   "id": "bcdd7c52",
   "metadata": {},
   "outputs": [],
   "source": [
    "load_path = \"model_saved/m-epoch_FL_resnet_slip_vicreg1.pth.tar\"\n",
    "load_model(load_path, model)"
   ]
  },
  {
   "cell_type": "code",
   "execution_count": 57,
   "id": "6a0cd757",
   "metadata": {},
   "outputs": [
    {
     "name": "stdout",
     "output_type": "stream",
     "text": [
      "AUROC mean  0.8038563979964762\n",
      "No Finding   0.9226398601398601\n",
      "Enlarged Cardiomediastinum   0.5632793323514973\n",
      "Cardiomegaly   0.8006907308377896\n",
      "Lung Opacity   0.9069884364002011\n",
      "Lung Lesion   0.16417910447761197\n",
      "Edema   0.9247023809523809\n",
      "Consolidation   0.8810661764705883\n",
      "Pneumonia   0.8440721649484536\n",
      "Atelectasis   0.8316010498687664\n",
      "Pneumothorax   0.863003663003663\n",
      "Pleural Effusion   0.9121376811594203\n",
      "Pleural Other   0.900497512437811\n",
      "Fracture   0.9352750809061487\n"
     ]
    }
   ],
   "source": [
    "path = None\n",
    "outGT, outPRED = CheXpertTrainer.test(model, dataLoaderVal, nnClassCount, path, class_names)"
   ]
  },
  {
   "cell_type": "code",
   "execution_count": 58,
   "id": "0ff3ff33",
   "metadata": {},
   "outputs": [],
   "source": [
    "load_path = \"model_saved/m-epoch_FL_resnet_slip_vicreg2.pth.tar\"\n",
    "load_model(load_path, model)"
   ]
  },
  {
   "cell_type": "code",
   "execution_count": 59,
   "id": "0e0b8b9b",
   "metadata": {},
   "outputs": [
    {
     "name": "stdout",
     "output_type": "stream",
     "text": [
      "AUROC mean  0.805049788904861\n",
      "No Finding   0.895979020979021\n",
      "Enlarged Cardiomediastinum   0.6374079528718705\n",
      "Cardiomegaly   0.8074866310160427\n",
      "Lung Opacity   0.9169431875314229\n",
      "Lung Lesion   0.6766169154228856\n",
      "Edema   0.9083333333333332\n",
      "Consolidation   0.8536764705882353\n",
      "Pneumonia   0.6829896907216494\n",
      "Atelectasis   0.8362204724409449\n",
      "Pneumothorax   0.8813186813186813\n",
      "Pleural Effusion   0.9091938405797102\n",
      "Pleural Other   0.5124378109452736\n",
      "Fracture   0.9470432480141218\n"
     ]
    }
   ],
   "source": [
    "path = None\n",
    "outGT, outPRED = CheXpertTrainer.test(model, dataLoaderVal, nnClassCount, path, class_names)"
   ]
  },
  {
   "cell_type": "code",
   "execution_count": 60,
   "id": "99b2fdcb",
   "metadata": {},
   "outputs": [],
   "source": [
    "load_path = \"model_saved/m-epoch_FL_resnet_slip_vicreg3.pth.tar\"\n",
    "load_model(load_path, model)"
   ]
  },
  {
   "cell_type": "code",
   "execution_count": 61,
   "id": "14023cb1",
   "metadata": {},
   "outputs": [
    {
     "name": "stdout",
     "output_type": "stream",
     "text": [
      "AUROC mean  0.778471190916727\n",
      "No Finding   0.8782779720279721\n",
      "Enlarged Cardiomediastinum   0.4930780559646539\n",
      "Cardiomegaly   0.8109402852049911\n",
      "Lung Opacity   0.8913021618903972\n",
      "Lung Lesion   0.48258706467661694\n",
      "Edema   0.9272321428571428\n",
      "Consolidation   0.81875\n",
      "Pneumonia   0.7467783505154639\n",
      "Atelectasis   0.7795275590551181\n",
      "Pneumothorax   0.8234432234432234\n",
      "Pleural Effusion   0.9233469202898551\n",
      "Pleural Other   0.6119402985074627\n",
      "Fracture   0.9329214474845543\n"
     ]
    }
   ],
   "source": [
    "path = None\n",
    "outGT, outPRED = CheXpertTrainer.test(model, dataLoaderVal, nnClassCount, path, class_names)"
   ]
  },
  {
   "cell_type": "markdown",
   "id": "4ed1b957",
   "metadata": {},
   "source": [
    "## SLIP SIMCLR"
   ]
  },
  {
   "cell_type": "code",
   "execution_count": 15,
   "id": "bcdd7c52",
   "metadata": {},
   "outputs": [
    {
     "data": {
      "text/plain": [
       "<All keys matched successfully>"
      ]
     },
     "execution_count": 15,
     "metadata": {},
     "output_type": "execute_result"
    }
   ],
   "source": [
    "load_path = \"model_saved/m-epoch_FL_resnet_slip_simclr1.pth.tar\"\n",
    "load_model(load_path, model)"
   ]
  },
  {
   "cell_type": "code",
   "execution_count": 16,
   "id": "6a0cd757",
   "metadata": {},
   "outputs": [
    {
     "name": "stdout",
     "output_type": "stream",
     "text": [
      "AUROC mean  0.803878516772615\n",
      "No Finding   0.9045017482517482\n",
      "Enlarged Cardiomediastinum   0.5430535100638194\n",
      "Cardiomegaly   0.7784090909090909\n",
      "Lung Opacity   0.9035696329813977\n",
      "Lung Lesion   0.263681592039801\n",
      "Edema   0.9444940476190475\n",
      "Consolidation   0.8788602941176471\n",
      "Pneumonia   0.8840206185567011\n",
      "Atelectasis   0.8062992125984253\n",
      "Pneumothorax   0.7948717948717949\n",
      "Pleural Effusion   0.9155344202898551\n",
      "Pleural Other   0.900497512437811\n",
      "Fracture   0.932627243306855\n"
     ]
    }
   ],
   "source": [
    "path = None\n",
    "outGT, outPRED = CheXpertTrainer.test(model, dataLoaderVal, nnClassCount, path, class_names)"
   ]
  },
  {
   "cell_type": "code",
   "execution_count": 17,
   "id": "0ff3ff33",
   "metadata": {},
   "outputs": [
    {
     "data": {
      "text/plain": [
       "<All keys matched successfully>"
      ]
     },
     "execution_count": 17,
     "metadata": {},
     "output_type": "execute_result"
    }
   ],
   "source": [
    "load_path = \"model_saved/m-epoch_FL_resnet_slip_simclr2.pth.tar\"\n",
    "load_model(load_path, model)"
   ]
  },
  {
   "cell_type": "code",
   "execution_count": 18,
   "id": "0e0b8b9b",
   "metadata": {},
   "outputs": [
    {
     "name": "stdout",
     "output_type": "stream",
     "text": [
      "AUROC mean  0.7795935015911231\n",
      "No Finding   0.8809003496503496\n",
      "Enlarged Cardiomediastinum   0.6040255277368679\n",
      "Cardiomegaly   0.8382352941176471\n",
      "Lung Opacity   0.8882855706385119\n",
      "Lung Lesion   0.1990049751243781\n",
      "Edema   0.9214285714285714\n",
      "Consolidation   0.8816176470588235\n",
      "Pneumonia   0.7332474226804123\n",
      "Atelectasis   0.8316010498687664\n",
      "Pneumothorax   0.8644688644688645\n",
      "Pleural Effusion   0.9236865942028984\n",
      "Pleural Other   0.6467661691542288\n",
      "Fracture   0.9214474845542806\n"
     ]
    }
   ],
   "source": [
    "path = None\n",
    "outGT, outPRED = CheXpertTrainer.test(model, dataLoaderVal, nnClassCount, path, class_names)"
   ]
  },
  {
   "cell_type": "code",
   "execution_count": 19,
   "id": "99b2fdcb",
   "metadata": {},
   "outputs": [
    {
     "data": {
      "text/plain": [
       "<All keys matched successfully>"
      ]
     },
     "execution_count": 19,
     "metadata": {},
     "output_type": "execute_result"
    }
   ],
   "source": [
    "load_path = \"model_saved/m-epoch_FL_resnet_slip_simclr3.pth.tar\"\n",
    "load_model(load_path, model)"
   ]
  },
  {
   "cell_type": "code",
   "execution_count": 20,
   "id": "14023cb1",
   "metadata": {
    "scrolled": true
   },
   "outputs": [
    {
     "name": "stdout",
     "output_type": "stream",
     "text": [
      "AUROC mean  0.8498214434252501\n",
      "No Finding   0.884833916083916\n",
      "Enlarged Cardiomediastinum   0.6593028964162985\n",
      "Cardiomegaly   0.8182932263814616\n",
      "Lung Opacity   0.8970336852689794\n",
      "Lung Lesion   0.8855721393034826\n",
      "Edema   0.932142857142857\n",
      "Consolidation   0.8591911764705882\n",
      "Pneumonia   0.7918814432989691\n",
      "Atelectasis   0.8090288713910762\n",
      "Pneumothorax   0.8424908424908425\n",
      "Pleural Effusion   0.9173460144927537\n",
      "Pleural Other   0.8059701492537313\n",
      "Fracture   0.9445915465332941\n"
     ]
    }
   ],
   "source": [
    "path = None\n",
    "outGT, outPRED = CheXpertTrainer.test(model, dataLoaderVal, nnClassCount, path, class_names)"
   ]
  },
  {
   "cell_type": "markdown",
   "id": "3b101b87",
   "metadata": {},
   "source": [
    "# DENSENET"
   ]
  },
  {
   "cell_type": "code",
   "execution_count": 46,
   "id": "18da27f8",
   "metadata": {},
   "outputs": [],
   "source": [
    "size = 121\n",
    "features_dim = 2048\n",
    "out_size = 14\n",
    "\n",
    "model = densenet_model(size, features_dim, out_size, pretrained=True).cuda() # Step 0: Initialize global model and load the model\n",
    "model = torch.nn.DataParallel(model).cuda()\n",
    "#model = model.cuda()"
   ]
  },
  {
   "cell_type": "code",
   "execution_count": 47,
   "id": "433d3d62",
   "metadata": {},
   "outputs": [
    {
     "name": "stdout",
     "output_type": "stream",
     "text": [
      "Performance_Check.ipynb  \u001b[0m\u001b[38;5;9mm-epoch_FL2.pth.tar\u001b[0m         \u001b[38;5;9mm-epoch_FL_ResNet3.pth.tar\u001b[0m\r\n",
      "\u001b[38;5;33m__pycache__\u001b[0m/             \u001b[38;5;9mm-epoch_FL3.pth.tar\u001b[0m         \u001b[38;5;33mmodel_saved\u001b[0m/\r\n",
      "base3.py                 \u001b[38;5;9mm-epoch_FL_ResNet1.pth.tar\u001b[0m  train_mod.csv\r\n",
      "\u001b[38;5;9mm-epoch_FL1.pth.tar\u001b[0m      \u001b[38;5;9mm-epoch_FL_ResNet2.pth.tar\u001b[0m  valid_mod.csv\r\n"
     ]
    }
   ],
   "source": [
    "ls"
   ]
  },
  {
   "cell_type": "code",
   "execution_count": 48,
   "id": "dc9ee999",
   "metadata": {},
   "outputs": [],
   "source": [
    "def load_model(load_path, model):\n",
    "    load_path = load_path\n",
    "    checkpoint = torch.load(load_path)\n",
    "    state_dict = {k.replace(\"img_backbone.\", \"module.\"): v for k, v in checkpoint['state_dict'].items()}\n",
    "    model.load_state_dict(state_dict, strict=False)"
   ]
  },
  {
   "cell_type": "markdown",
   "id": "f58b5c04",
   "metadata": {},
   "source": [
    "## Original"
   ]
  },
  {
   "cell_type": "code",
   "execution_count": 49,
   "id": "fef9e080",
   "metadata": {},
   "outputs": [],
   "source": [
    "load_path = \"model_saved/m-epoch_FL_densenet1.pth.tar\"\n",
    "load_model(load_path, model)"
   ]
  },
  {
   "cell_type": "code",
   "execution_count": 50,
   "id": "52597064",
   "metadata": {},
   "outputs": [
    {
     "name": "stdout",
     "output_type": "stream",
     "text": [
      "AUROC mean  0.8228874986115555\n",
      "No Finding   0.9071241258741258\n",
      "Enlarged Cardiomediastinum   0.5201767304860089\n",
      "Cardiomegaly   0.8358957219251337\n",
      "Lung Opacity   0.9156359979889391\n",
      "Lung Lesion   0.34328358208955223\n",
      "Edema   0.9342261904761905\n",
      "Consolidation   0.8536764705882354\n",
      "Pneumonia   0.8395618556701031\n",
      "Atelectasis   0.8192125984251969\n",
      "Pneumothorax   0.9472527472527472\n",
      "Pleural Effusion   0.9311594202898551\n",
      "Pleural Other   0.9104477611940298\n",
      "Fracture   0.9398842796901049\n"
     ]
    }
   ],
   "source": [
    "path = None\n",
    "outGT, outPRED = CheXpertTrainer.test(model, dataLoaderVal, nnClassCount, path, class_names)"
   ]
  },
  {
   "cell_type": "code",
   "execution_count": 51,
   "id": "5795df77",
   "metadata": {},
   "outputs": [],
   "source": [
    "load_path = \"model_saved/m-epoch_FL_densenet2.pth.tar\"\n",
    "load_model(load_path, model)"
   ]
  },
  {
   "cell_type": "code",
   "execution_count": 52,
   "id": "836d28f7",
   "metadata": {
    "scrolled": true
   },
   "outputs": [
    {
     "name": "stdout",
     "output_type": "stream",
     "text": [
      "AUROC mean  0.7934229595768966\n",
      "No Finding   0.9112762237762237\n",
      "Enlarged Cardiomediastinum   0.4650957290132548\n",
      "Cardiomegaly   0.7631461675579323\n",
      "Lung Opacity   0.9166415284062344\n",
      "Lung Lesion   0.29850746268656714\n",
      "Edema   0.9525297619047619\n",
      "Consolidation   0.8284926470588235\n",
      "Pneumonia   0.714561855670103\n",
      "Atelectasis   0.8035695538057743\n",
      "Pneumothorax   0.9164835164835164\n",
      "Pleural Effusion   0.9421422101449275\n",
      "Pleural Other   0.8606965174129353\n",
      "Fracture   0.9413553005786015\n"
     ]
    }
   ],
   "source": [
    "path = None\n",
    "outGT, outPRED = CheXpertTrainer.test(model, dataLoaderVal, nnClassCount, path, class_names)"
   ]
  },
  {
   "cell_type": "code",
   "execution_count": 53,
   "id": "5ca50633",
   "metadata": {},
   "outputs": [],
   "source": [
    "load_path = \"model_saved/m-epoch_FL_densenet3.pth.tar\"\n",
    "load_model(load_path, model)"
   ]
  },
  {
   "cell_type": "code",
   "execution_count": 54,
   "id": "9554da85",
   "metadata": {
    "scrolled": true
   },
   "outputs": [
    {
     "name": "stdout",
     "output_type": "stream",
     "text": [
      "AUROC mean  0.8654556482082858\n",
      "No Finding   0.895104895104895\n",
      "Enlarged Cardiomediastinum   0.6635247913598429\n",
      "Cardiomegaly   0.827874331550802\n",
      "Lung Opacity   0.902262443438914\n",
      "Lung Lesion   0.7960199004975125\n",
      "Edema   0.9450892857142857\n",
      "Consolidation   0.8650735294117646\n",
      "Pneumonia   0.7693298969072164\n",
      "Atelectasis   0.8415748031496063\n",
      "Pneumothorax   0.9106227106227107\n",
      "Pleural Effusion   0.9279891304347826\n",
      "Pleural Other   0.9601990049751243\n",
      "Fracture   0.946258703540257\n"
     ]
    }
   ],
   "source": [
    "path = None\n",
    "outGT, outPRED = CheXpertTrainer.test(model, dataLoaderVal, nnClassCount, path, class_names)"
   ]
  },
  {
   "cell_type": "markdown",
   "id": "b6d3f55c",
   "metadata": {},
   "source": [
    "## VICREG"
   ]
  },
  {
   "cell_type": "code",
   "execution_count": 55,
   "id": "fef9e080",
   "metadata": {},
   "outputs": [],
   "source": [
    "load_path = \"model_saved/m-epoch_FL_densenet_vicreg1.pth.tar\"\n",
    "load_model(load_path, model)"
   ]
  },
  {
   "cell_type": "code",
   "execution_count": 56,
   "id": "52597064",
   "metadata": {},
   "outputs": [
    {
     "name": "stdout",
     "output_type": "stream",
     "text": [
      "AUROC mean  0.773355224480067\n",
      "No Finding   0.9088723776223776\n",
      "Enlarged Cardiomediastinum   0.47206676485027\n",
      "Cardiomegaly   0.8315508021390375\n",
      "Lung Opacity   0.9243841126194068\n",
      "Lung Lesion   0.07462686567164178\n",
      "Edema   0.9313988095238095\n",
      "Consolidation   0.8352941176470587\n",
      "Pneumonia   0.7474226804123711\n",
      "Atelectasis   0.8152230971128609\n",
      "Pneumothorax   0.8498168498168498\n",
      "Pleural Effusion   0.9210824275362319\n",
      "Pleural Other   0.8159203980099503\n",
      "Fracture   0.9259586152790036\n"
     ]
    }
   ],
   "source": [
    "path = None\n",
    "outGT, outPRED = CheXpertTrainer.test(model, dataLoaderVal, nnClassCount, path, class_names)"
   ]
  },
  {
   "cell_type": "code",
   "execution_count": 57,
   "id": "5795df77",
   "metadata": {},
   "outputs": [],
   "source": [
    "load_path = \"model_saved/m-epoch_FL_densenet_vicreg2.pth.tar\"\n",
    "load_model(load_path, model)"
   ]
  },
  {
   "cell_type": "code",
   "execution_count": 58,
   "id": "836d28f7",
   "metadata": {
    "scrolled": true
   },
   "outputs": [
    {
     "name": "stdout",
     "output_type": "stream",
     "text": [
      "AUROC mean  0.7666066957800765\n",
      "No Finding   0.8828671328671329\n",
      "Enlarged Cardiomediastinum   0.3346097201767305\n",
      "Cardiomegaly   0.7811942959001781\n",
      "Lung Opacity   0.9139265962795374\n",
      "Lung Lesion   0.14427860696517414\n",
      "Edema   0.9501488095238095\n",
      "Consolidation   0.8553308823529412\n",
      "Pneumonia   0.7783505154639174\n",
      "Atelectasis   0.7880314960629922\n",
      "Pneumothorax   0.8227106227106227\n",
      "Pleural Effusion   0.9367074275362319\n",
      "Pleural Other   0.8606965174129353\n",
      "Fracture   0.9170344218887908\n"
     ]
    }
   ],
   "source": [
    "path = None\n",
    "outGT, outPRED = CheXpertTrainer.test(model, dataLoaderVal, nnClassCount, path, class_names)"
   ]
  },
  {
   "cell_type": "code",
   "execution_count": 59,
   "id": "5ca50633",
   "metadata": {},
   "outputs": [],
   "source": [
    "load_path = \"model_saved/m-epoch_FL_densenet_vicreg3.pth.tar\"\n",
    "load_model(load_path, model)"
   ]
  },
  {
   "cell_type": "code",
   "execution_count": 60,
   "id": "9554da85",
   "metadata": {
    "scrolled": true
   },
   "outputs": [
    {
     "name": "stdout",
     "output_type": "stream",
     "text": [
      "AUROC mean  0.8320824658707987\n",
      "No Finding   0.8905157342657342\n",
      "Enlarged Cardiomediastinum   0.6018654884634266\n",
      "Cardiomegaly   0.8540552584670231\n",
      "Lung Opacity   0.8956259426847663\n",
      "Lung Lesion   0.7562189054726368\n",
      "Edema   0.9330357142857143\n",
      "Consolidation   0.8514705882352941\n",
      "Pneumonia   0.7390463917525774\n",
      "Atelectasis   0.8282414698162729\n",
      "Pneumothorax   0.8146520146520146\n",
      "Pleural Effusion   0.9222146739130436\n",
      "Pleural Other   0.8308457711442786\n",
      "Fracture   0.8992841031675983\n"
     ]
    }
   ],
   "source": [
    "path = None\n",
    "outGT, outPRED = CheXpertTrainer.test(model, dataLoaderVal, nnClassCount, path, class_names)"
   ]
  },
  {
   "cell_type": "markdown",
   "id": "d3ead791",
   "metadata": {},
   "source": [
    "## SIMCLR"
   ]
  },
  {
   "cell_type": "code",
   "execution_count": 61,
   "id": "fb4eda56",
   "metadata": {
    "scrolled": true
   },
   "outputs": [],
   "source": [
    "load_path = \"model_saved/m-epoch_FL_densenet_simclr1.pth.tar\"\n",
    "load_model(load_path, model)"
   ]
  },
  {
   "cell_type": "code",
   "execution_count": 62,
   "id": "52597064",
   "metadata": {},
   "outputs": [
    {
     "name": "stdout",
     "output_type": "stream",
     "text": [
      "AUROC mean  0.8091532008730893\n",
      "No Finding   0.9029720279720279\n",
      "Enlarged Cardiomediastinum   0.48335787923416795\n",
      "Cardiomegaly   0.8595142602495544\n",
      "Lung Opacity   0.9252890899949724\n",
      "Lung Lesion   0.154228855721393\n",
      "Edema   0.9311011904761904\n",
      "Consolidation   0.8647058823529412\n",
      "Pneumonia   0.8402061855670102\n",
      "Atelectasis   0.826981627296588\n",
      "Pneumothorax   0.9113553113553114\n",
      "Pleural Effusion   0.9326313405797102\n",
      "Pleural Other   0.9601990049751243\n",
      "Fracture   0.9264489555751692\n"
     ]
    }
   ],
   "source": [
    "path = None\n",
    "outGT, outPRED = CheXpertTrainer.test(model, dataLoaderVal, nnClassCount, path, class_names)"
   ]
  },
  {
   "cell_type": "code",
   "execution_count": 63,
   "id": "5795df77",
   "metadata": {},
   "outputs": [],
   "source": [
    "load_path = \"model_saved/m-epoch_FL_densenet_simclr2.pth.tar\"\n",
    "load_model(load_path, model)"
   ]
  },
  {
   "cell_type": "code",
   "execution_count": 64,
   "id": "836d28f7",
   "metadata": {
    "scrolled": true
   },
   "outputs": [
    {
     "name": "stdout",
     "output_type": "stream",
     "text": [
      "AUROC mean  0.8390430767577498\n",
      "No Finding   0.8909527972027972\n",
      "Enlarged Cardiomediastinum   0.4679430535100638\n",
      "Cardiomegaly   0.8150623885918004\n",
      "Lung Opacity   0.9048768225238814\n",
      "Lung Lesion   0.7164179104477613\n",
      "Edema   0.9552083333333333\n",
      "Consolidation   0.8400735294117647\n",
      "Pneumonia   0.7525773195876289\n",
      "Atelectasis   0.7959055118110236\n",
      "Pneumothorax   0.9252747252747253\n",
      "Pleural Effusion   0.9437273550724636\n",
      "Pleural Other   0.9701492537313433\n",
      "Fracture   0.9293909973521624\n"
     ]
    }
   ],
   "source": [
    "path = None\n",
    "outGT, outPRED = CheXpertTrainer.test(model, dataLoaderVal, nnClassCount, path, class_names)"
   ]
  },
  {
   "cell_type": "code",
   "execution_count": 65,
   "id": "5ca50633",
   "metadata": {},
   "outputs": [],
   "source": [
    "load_path = \"model_saved/m-epoch_FL_densenet_simclr3.pth.tar\"\n",
    "load_model(load_path, model)"
   ]
  },
  {
   "cell_type": "code",
   "execution_count": 66,
   "id": "9554da85",
   "metadata": {},
   "outputs": [
    {
     "name": "stdout",
     "output_type": "stream",
     "text": [
      "AUROC mean  0.8708237216443782\n",
      "No Finding   0.8813374125874126\n",
      "Enlarged Cardiomediastinum   0.6653902798232696\n",
      "Cardiomegaly   0.8373440285204992\n",
      "Lung Opacity   0.9008547008547009\n",
      "Lung Lesion   0.9701492537313433\n",
      "Edema   0.933779761904762\n",
      "Consolidation   0.8525735294117647\n",
      "Pneumonia   0.7280927835051546\n",
      "Atelectasis   0.8233070866141732\n",
      "Pneumothorax   0.8717948717948718\n",
      "Pleural Effusion   0.9381793478260869\n",
      "Pleural Other   0.9651741293532339\n",
      "Fracture   0.952731195449642\n"
     ]
    }
   ],
   "source": [
    "path = None\n",
    "outGT, outPRED = CheXpertTrainer.test(model, dataLoaderVal, nnClassCount, path, class_names)"
   ]
  },
  {
   "cell_type": "markdown",
   "id": "8f1a58e9",
   "metadata": {},
   "source": [
    "## SLIP VICREG"
   ]
  },
  {
   "cell_type": "code",
   "execution_count": 67,
   "id": "bcdd7c52",
   "metadata": {},
   "outputs": [],
   "source": [
    "load_path = \"model_saved/m-epoch_FL_densenet_slip_vicreg1.pth.tar\"\n",
    "load_model(load_path, model)"
   ]
  },
  {
   "cell_type": "code",
   "execution_count": 68,
   "id": "6a0cd757",
   "metadata": {},
   "outputs": [
    {
     "name": "stdout",
     "output_type": "stream",
     "text": [
      "AUROC mean  0.7999846600703714\n",
      "No Finding   0.9012237762237763\n",
      "Enlarged Cardiomediastinum   0.4978890525282278\n",
      "Cardiomegaly   0.838903743315508\n",
      "Lung Opacity   0.9194570135746606\n",
      "Lung Lesion   0.2885572139303483\n",
      "Edema   0.9334821428571428\n",
      "Consolidation   0.8512867647058824\n",
      "Pneumonia   0.7635309278350515\n",
      "Atelectasis   0.8086089238845146\n",
      "Pneumothorax   0.8644688644688644\n",
      "Pleural Effusion   0.917572463768116\n",
      "Pleural Other   0.8756218905472637\n",
      "Fracture   0.9391978032754731\n"
     ]
    }
   ],
   "source": [
    "path = None\n",
    "outGT, outPRED = CheXpertTrainer.test(model, dataLoaderVal, nnClassCount, path, class_names)"
   ]
  },
  {
   "cell_type": "code",
   "execution_count": 69,
   "id": "0ff3ff33",
   "metadata": {},
   "outputs": [],
   "source": [
    "load_path = \"model_saved/m-epoch_FL_densenet_slip_vicreg2.pth.tar\"\n",
    "load_model(load_path, model)"
   ]
  },
  {
   "cell_type": "code",
   "execution_count": 70,
   "id": "0e0b8b9b",
   "metadata": {},
   "outputs": [
    {
     "name": "stdout",
     "output_type": "stream",
     "text": [
      "AUROC mean  0.8083247080162441\n",
      "No Finding   0.8970716783216783\n",
      "Enlarged Cardiomediastinum   0.5162493863524791\n",
      "Cardiomegaly   0.8069295900178253\n",
      "Lung Opacity   0.9165409753645047\n",
      "Lung Lesion   0.2935323383084577\n",
      "Edema   0.9507440476190475\n",
      "Consolidation   0.8533088235294117\n",
      "Pneumonia   0.7918814432989691\n",
      "Atelectasis   0.7990551181102362\n",
      "Pneumothorax   0.8937728937728937\n",
      "Pleural Effusion   0.9276494565217391\n",
      "Pleural Other   0.9154228855721394\n",
      "Fracture   0.9460625674217906\n"
     ]
    }
   ],
   "source": [
    "path = None\n",
    "outGT, outPRED = CheXpertTrainer.test(model, dataLoaderVal, nnClassCount, path, class_names)"
   ]
  },
  {
   "cell_type": "code",
   "execution_count": 71,
   "id": "99b2fdcb",
   "metadata": {},
   "outputs": [],
   "source": [
    "load_path = \"model_saved/m-epoch_FL_densenet_slip_vicreg3.pth.tar\"\n",
    "load_model(load_path, model)"
   ]
  },
  {
   "cell_type": "code",
   "execution_count": 72,
   "id": "14023cb1",
   "metadata": {},
   "outputs": [
    {
     "name": "stdout",
     "output_type": "stream",
     "text": [
      "AUROC mean  0.8209272752227904\n",
      "No Finding   0.8841783216783217\n",
      "Enlarged Cardiomediastinum   0.6059891998036327\n",
      "Cardiomegaly   0.8082664884135472\n",
      "Lung Opacity   0.8830568124685771\n",
      "Lung Lesion   0.6019900497512438\n",
      "Edema   0.9333333333333333\n",
      "Consolidation   0.8420955882352942\n",
      "Pneumonia   0.7326030927835051\n",
      "Atelectasis   0.8161679790026247\n",
      "Pneumothorax   0.8036630036630037\n",
      "Pleural Effusion   0.9291213768115942\n",
      "Pleural Other   0.8756218905472637\n",
      "Fracture   0.9559674414043347\n"
     ]
    }
   ],
   "source": [
    "path = None\n",
    "outGT, outPRED = CheXpertTrainer.test(model, dataLoaderVal, nnClassCount, path, class_names)"
   ]
  },
  {
   "cell_type": "markdown",
   "id": "db113429",
   "metadata": {},
   "source": [
    "## SLIP SIMCLR"
   ]
  },
  {
   "cell_type": "code",
   "execution_count": 73,
   "id": "bcdd7c52",
   "metadata": {},
   "outputs": [],
   "source": [
    "load_path = \"model_saved/m-epoch_FL_densenet_slip_simclr1.pth.tar\"\n",
    "load_model(load_path, model)"
   ]
  },
  {
   "cell_type": "code",
   "execution_count": 74,
   "id": "6a0cd757",
   "metadata": {},
   "outputs": [
    {
     "name": "stdout",
     "output_type": "stream",
     "text": [
      "AUROC mean  0.8302012123159446\n",
      "No Finding   0.913243006993007\n",
      "Enlarged Cardiomediastinum   0.5894943544428081\n",
      "Cardiomegaly   0.8382352941176471\n",
      "Lung Opacity   0.9135243841126194\n",
      "Lung Lesion   0.42288557213930345\n",
      "Edema   0.9297619047619048\n",
      "Consolidation   0.8663602941176471\n",
      "Pneumonia   0.851159793814433\n",
      "Atelectasis   0.8241469816272965\n",
      "Pneumothorax   0.8901098901098901\n",
      "Pleural Effusion   0.9276494565217391\n",
      "Pleural Other   0.8855721393034826\n",
      "Fracture   0.9404726880455035\n"
     ]
    }
   ],
   "source": [
    "path = None\n",
    "outGT, outPRED = CheXpertTrainer.test(model, dataLoaderVal, nnClassCount, path, class_names)"
   ]
  },
  {
   "cell_type": "code",
   "execution_count": 75,
   "id": "0ff3ff33",
   "metadata": {},
   "outputs": [],
   "source": [
    "load_path = \"model_saved/m-epoch_FL_densenet_slip_simclr2.pth.tar\"\n",
    "load_model(load_path, model)"
   ]
  },
  {
   "cell_type": "code",
   "execution_count": 76,
   "id": "0e0b8b9b",
   "metadata": {},
   "outputs": [
    {
     "name": "stdout",
     "output_type": "stream",
     "text": [
      "AUROC mean  0.8024862679409466\n",
      "No Finding   0.9088723776223777\n",
      "Enlarged Cardiomediastinum   0.5056455571919489\n",
      "Cardiomegaly   0.7906639928698753\n",
      "Lung Opacity   0.9152337858220211\n",
      "Lung Lesion   0.20398009950248752\n",
      "Edema   0.9571428571428571\n",
      "Consolidation   0.8428308823529412\n",
      "Pneumonia   0.7938144329896908\n",
      "Atelectasis   0.7799475065616799\n",
      "Pneumothorax   0.9472527472527472\n",
      "Pleural Effusion   0.9358016304347826\n",
      "Pleural Other   0.9253731343283582\n",
      "Fracture   0.9257624791605374\n"
     ]
    }
   ],
   "source": [
    "path = None\n",
    "outGT, outPRED = CheXpertTrainer.test(model, dataLoaderVal, nnClassCount, path, class_names)"
   ]
  },
  {
   "cell_type": "code",
   "execution_count": 77,
   "id": "99b2fdcb",
   "metadata": {},
   "outputs": [],
   "source": [
    "load_path = \"model_saved/m-epoch_FL_densenet_slip_simclr3.pth.tar\"\n",
    "load_model(load_path, model)"
   ]
  },
  {
   "cell_type": "code",
   "execution_count": 78,
   "id": "14023cb1",
   "metadata": {},
   "outputs": [
    {
     "name": "stdout",
     "output_type": "stream",
     "text": [
      "AUROC mean  0.8499568525547764\n",
      "No Finding   0.8981643356643356\n",
      "Enlarged Cardiomediastinum   0.6579283259695631\n",
      "Cardiomegaly   0.8108288770053476\n",
      "Lung Opacity   0.901458019105078\n",
      "Lung Lesion   0.6467661691542288\n",
      "Edema   0.9369047619047619\n",
      "Consolidation   0.8753676470588236\n",
      "Pneumonia   0.8144329896907216\n",
      "Atelectasis   0.822992125984252\n",
      "Pneumothorax   0.8717948717948718\n",
      "Pleural Effusion   0.936141304347826\n",
      "Pleural Other   0.9203980099502488\n",
      "Fracture   0.956261645582034\n"
     ]
    }
   ],
   "source": [
    "path = None\n",
    "outGT, outPRED = CheXpertTrainer.test(model, dataLoaderVal, nnClassCount, path, class_names)"
   ]
  },
  {
   "cell_type": "markdown",
   "id": "ca04dc72",
   "metadata": {},
   "source": [
    "# Linear Probing"
   ]
  },
  {
   "cell_type": "markdown",
   "id": "6d1606a9",
   "metadata": {},
   "source": [
    "## Original"
   ]
  },
  {
   "cell_type": "code",
   "execution_count": 12,
   "id": "bc14f93d",
   "metadata": {},
   "outputs": [
    {
     "name": "stdout",
     "output_type": "stream",
     "text": [
      "AUROC mean  0.6419114160440883\n",
      "No Finding   0.8540209790209791\n",
      "Enlarged Cardiomediastinum   0.4559646539027983\n",
      "Cardiomegaly   0.6678921568627452\n",
      "Lung Opacity   0.808044243338361\n",
      "Lung Lesion   0.04477611940298509\n",
      "Edema   0.7950892857142857\n",
      "Consolidation   0.7922794117647058\n",
      "Pneumonia   0.6623711340206185\n",
      "Atelectasis   0.7633595800524935\n",
      "Pneumothorax   0.7494505494505495\n",
      "Pleural Effusion   0.7778532608695653\n",
      "Pleural Other   0.25373134328358204\n",
      "Fracture   0.7200156908894774\n"
     ]
    }
   ],
   "source": [
    "path = \"model_saved/m-epoch_FL_resnet_lp1.pth.tar\"\n",
    "outGT, outPRED = CheXpertTrainer.test(model, dataLoaderVal, nnClassCount, path, class_names)"
   ]
  },
  {
   "cell_type": "code",
   "execution_count": 13,
   "id": "f8137b93",
   "metadata": {},
   "outputs": [
    {
     "name": "stdout",
     "output_type": "stream",
     "text": [
      "AUROC mean  0.6551112739068264\n",
      "No Finding   0.8690996503496503\n",
      "Enlarged Cardiomediastinum   0.4251350024545901\n",
      "Cardiomegaly   0.6705659536541889\n",
      "Lung Opacity   0.804927099044746\n",
      "Lung Lesion   0.02487562189054726\n",
      "Edema   0.8133928571428571\n",
      "Consolidation   0.7860294117647059\n",
      "Pneumonia   0.7203608247422681\n",
      "Atelectasis   0.7596850393700787\n",
      "Pneumothorax   0.747985347985348\n",
      "Pleural Effusion   0.7793251811594203\n",
      "Pleural Other   0.3830845771144279\n",
      "Fracture   0.7319799941159163\n"
     ]
    }
   ],
   "source": [
    "path1 = 'model_saved/m-epoch_FL_resnet_lp2.pth.tar'\n",
    "outGT, outPRED = CheXpertTrainer.test(model, dataLoaderVal, nnClassCount, path1, class_names)"
   ]
  },
  {
   "cell_type": "code",
   "execution_count": 14,
   "id": "4c188789",
   "metadata": {},
   "outputs": [
    {
     "name": "stdout",
     "output_type": "stream",
     "text": [
      "AUROC mean  0.6628867769265889\n",
      "No Finding   0.8721590909090909\n",
      "Enlarged Cardiomediastinum   0.4705940108001964\n",
      "Cardiomegaly   0.6727941176470589\n",
      "Lung Opacity   0.8143790849673203\n",
      "Lung Lesion   0.02487562189054726\n",
      "Edema   0.8165178571428572\n",
      "Consolidation   0.8001838235294118\n",
      "Pneumonia   0.731958762886598\n",
      "Atelectasis   0.7649343832020997\n",
      "Pneumothorax   0.7289377289377289\n",
      "Pleural Effusion   0.7924592391304348\n",
      "Pleural Other   0.3980099502487562\n",
      "Fracture   0.7297244287535549\n"
     ]
    }
   ],
   "source": [
    "path3 = 'model_saved/m-epoch_FL_resnet_lp3.pth.tar'\n",
    "outGT, outPRED = CheXpertTrainer.test(model, dataLoaderVal, nnClassCount, path3, class_names)"
   ]
  },
  {
   "cell_type": "markdown",
   "id": "88a5bbdb",
   "metadata": {},
   "source": [
    "## CLIP"
   ]
  },
  {
   "cell_type": "code",
   "execution_count": 15,
   "id": "6887590a",
   "metadata": {},
   "outputs": [],
   "source": [
    "load_path = \"model_saved/m-epoch_FL_resnet_clip_lp1.pth.tar\"\n",
    "load_model(load_path, model)"
   ]
  },
  {
   "cell_type": "code",
   "execution_count": 16,
   "id": "52597064",
   "metadata": {},
   "outputs": [
    {
     "name": "stdout",
     "output_type": "stream",
     "text": [
      "AUROC mean  0.5740112820066824\n",
      "No Finding   0.5563811188811189\n",
      "Enlarged Cardiomediastinum   0.3696612665684831\n",
      "Cardiomegaly   0.5424465240641712\n",
      "Lung Opacity   0.6083459024635495\n",
      "Lung Lesion   0.900497512437811\n",
      "Edema   0.5626488095238096\n",
      "Consolidation   0.7503676470588235\n",
      "Pneumonia   0.7016752577319587\n",
      "Atelectasis   0.5956955380577429\n",
      "Pneumothorax   0.5655677655677656\n",
      "Pleural Effusion   0.6913496376811595\n",
      "Pleural Other   0.13432835820895528\n",
      "Fracture   0.483181327841522\n"
     ]
    }
   ],
   "source": [
    "path = None\n",
    "outGT, outPRED = CheXpertTrainer.test(model, dataLoaderVal, nnClassCount, path, class_names)"
   ]
  },
  {
   "cell_type": "code",
   "execution_count": 17,
   "id": "5795df77",
   "metadata": {},
   "outputs": [],
   "source": [
    "load_path = \"model_saved/m-epoch_FL_resnet_clip_lp2.pth.tar\"\n",
    "load_model(load_path, model)"
   ]
  },
  {
   "cell_type": "code",
   "execution_count": 18,
   "id": "836d28f7",
   "metadata": {
    "scrolled": true
   },
   "outputs": [
    {
     "name": "stdout",
     "output_type": "stream",
     "text": [
      "AUROC mean  0.5800559281393045\n",
      "No Finding   0.5749562937062936\n",
      "Enlarged Cardiomediastinum   0.3858615611192931\n",
      "Cardiomegaly   0.5482397504456328\n",
      "Lung Opacity   0.6190045248868778\n",
      "Lung Lesion   0.8855721393034826\n",
      "Edema   0.5686011904761904\n",
      "Consolidation   0.7255514705882353\n",
      "Pneumonia   0.6804123711340206\n",
      "Atelectasis   0.6121784776902885\n",
      "Pneumothorax   0.5377289377289377\n",
      "Pleural Effusion   0.7093523550724639\n",
      "Pleural Other   0.1990049751243781\n",
      "Fracture   0.4942630185348632\n"
     ]
    }
   ],
   "source": [
    "path = None\n",
    "outGT, outPRED = CheXpertTrainer.test(model, dataLoaderVal, nnClassCount, path, class_names)"
   ]
  },
  {
   "cell_type": "code",
   "execution_count": 20,
   "id": "5ca50633",
   "metadata": {},
   "outputs": [],
   "source": [
    "load_path = \"model_saved/m-epoch_FL_resnet_clip_lp3.pth.tar\"\n",
    "load_model(load_path, model)"
   ]
  },
  {
   "cell_type": "code",
   "execution_count": 21,
   "id": "9554da85",
   "metadata": {},
   "outputs": [
    {
     "name": "stdout",
     "output_type": "stream",
     "text": [
      "AUROC mean  0.5760752692652003\n",
      "No Finding   0.5751748251748252\n",
      "Enlarged Cardiomediastinum   0.3806578301423662\n",
      "Cardiomegaly   0.5007798573975044\n",
      "Lung Opacity   0.6239316239316239\n",
      "Lung Lesion   0.8407960199004976\n",
      "Edema   0.5770833333333333\n",
      "Consolidation   0.7235294117647059\n",
      "Pneumonia   0.6514175257731959\n",
      "Atelectasis   0.6299212598425197\n",
      "Pneumothorax   0.5487179487179488\n",
      "Pleural Effusion   0.6493432971014492\n",
      "Pleural Other   0.2885572139303483\n",
      "Fracture   0.4990683534372855\n"
     ]
    }
   ],
   "source": [
    "path = None\n",
    "outGT, outPRED = CheXpertTrainer.test(model, dataLoaderVal, nnClassCount, path, class_names)"
   ]
  },
  {
   "cell_type": "markdown",
   "id": "da8bf86e",
   "metadata": {},
   "source": [
    "## VICREG"
   ]
  },
  {
   "cell_type": "code",
   "execution_count": 22,
   "id": "425f0c2c",
   "metadata": {},
   "outputs": [],
   "source": [
    "load_path = \"model_saved/m-epoch_FL_resnet_vicreg_lp1.pth.tar\"\n",
    "load_model(load_path, model)"
   ]
  },
  {
   "cell_type": "code",
   "execution_count": 23,
   "id": "12f3a8ea",
   "metadata": {},
   "outputs": [
    {
     "name": "stdout",
     "output_type": "stream",
     "text": [
      "AUROC mean  0.7204818627489432\n",
      "No Finding   0.8953234265734266\n",
      "Enlarged Cardiomediastinum   0.593127147766323\n",
      "Cardiomegaly   0.686608734402852\n",
      "Lung Opacity   0.8393162393162393\n",
      "Lung Lesion   0.05970149253731338\n",
      "Edema   0.8998511904761903\n",
      "Consolidation   0.8380514705882353\n",
      "Pneumonia   0.7261597938144331\n",
      "Atelectasis   0.7783727034120735\n",
      "Pneumothorax   0.8388278388278388\n",
      "Pleural Effusion   0.8125000000000001\n",
      "Pleural Other   0.6716417910447761\n",
      "Fracture   0.7267823869765617\n"
     ]
    }
   ],
   "source": [
    "path = None\n",
    "outGT, outPRED = CheXpertTrainer.test(model, dataLoaderVal, nnClassCount, path, class_names)"
   ]
  },
  {
   "cell_type": "code",
   "execution_count": 24,
   "id": "5f8f4452",
   "metadata": {},
   "outputs": [],
   "source": [
    "load_path = \"model_saved/m-epoch_FL_resnet_vicreg_lp2.pth.tar\"\n",
    "load_model(load_path, model)"
   ]
  },
  {
   "cell_type": "code",
   "execution_count": 25,
   "id": "aace3cc3",
   "metadata": {
    "scrolled": true
   },
   "outputs": [
    {
     "name": "stdout",
     "output_type": "stream",
     "text": [
      "AUROC mean  0.7203766446149019\n",
      "No Finding   0.9034090909090909\n",
      "Enlarged Cardiomediastinum   0.5671084928816887\n",
      "Cardiomegaly   0.6910650623885918\n",
      "Lung Opacity   0.8396178984414279\n",
      "Lung Lesion   0.03482587064676612\n",
      "Edema   0.9019345238095238\n",
      "Consolidation   0.8352941176470587\n",
      "Pneumonia   0.7564432989690721\n",
      "Atelectasis   0.7722834645669292\n",
      "Pneumothorax   0.8285714285714285\n",
      "Pleural Effusion   0.8114809782608695\n",
      "Pleural Other   0.6865671641791045\n",
      "Fracture   0.7362949887221732\n"
     ]
    }
   ],
   "source": [
    "path = None\n",
    "outGT, outPRED = CheXpertTrainer.test(model, dataLoaderVal, nnClassCount, path, class_names)"
   ]
  },
  {
   "cell_type": "code",
   "execution_count": 26,
   "id": "a145ae69",
   "metadata": {},
   "outputs": [],
   "source": [
    "load_path = \"model_saved/m-epoch_FL_resnet_vicreg_lp3.pth.tar\"\n",
    "load_model(load_path, model)"
   ]
  },
  {
   "cell_type": "code",
   "execution_count": 27,
   "id": "20408b9b",
   "metadata": {},
   "outputs": [
    {
     "name": "stdout",
     "output_type": "stream",
     "text": [
      "AUROC mean  0.7344333555610798\n",
      "No Finding   0.9060314685314685\n",
      "Enlarged Cardiomediastinum   0.6237604320078547\n",
      "Cardiomegaly   0.7027629233511586\n",
      "Lung Opacity   0.844746103569633\n",
      "Lung Lesion   0.03482587064676612\n",
      "Edema   0.9026785714285714\n",
      "Consolidation   0.8389705882352941\n",
      "Pneumonia   0.7693298969072164\n",
      "Atelectasis   0.7785826771653543\n",
      "Pneumothorax   0.8043956043956043\n",
      "Pleural Effusion   0.8268795289855073\n",
      "Pleural Other   0.7761194029850746\n",
      "Fracture   0.7385505540845347\n"
     ]
    }
   ],
   "source": [
    "path = None\n",
    "outGT, outPRED = CheXpertTrainer.test(model, dataLoaderVal, nnClassCount, path, class_names)"
   ]
  },
  {
   "cell_type": "markdown",
   "id": "f8706b4f",
   "metadata": {},
   "source": [
    "## SIMCLR"
   ]
  },
  {
   "cell_type": "code",
   "execution_count": 28,
   "id": "8a64f5c8",
   "metadata": {
    "scrolled": true
   },
   "outputs": [],
   "source": [
    "load_path = \"model_saved/m-epoch_FL_resnet_simclr_lp1.pth.tar\"\n",
    "load_model(load_path, model)"
   ]
  },
  {
   "cell_type": "code",
   "execution_count": 29,
   "id": "b9837d43",
   "metadata": {},
   "outputs": [
    {
     "name": "stdout",
     "output_type": "stream",
     "text": [
      "AUROC mean  0.7250383930746747\n",
      "No Finding   0.8988199300699301\n",
      "Enlarged Cardiomediastinum   0.6108001963672066\n",
      "Cardiomegaly   0.7182486631016043\n",
      "Lung Opacity   0.8560080442433383\n",
      "Lung Lesion   0.04477611940298509\n",
      "Edema   0.9052083333333334\n",
      "Consolidation   0.8628676470588235\n",
      "Pneumonia   0.6920103092783505\n",
      "Atelectasis   0.7733333333333333\n",
      "Pneumothorax   0.8183150183150183\n",
      "Pleural Effusion   0.8548460144927537\n",
      "Pleural Other   0.6567164179104478\n",
      "Fracture   0.7335490830636461\n"
     ]
    }
   ],
   "source": [
    "path = None\n",
    "outGT, outPRED = CheXpertTrainer.test(model, dataLoaderVal, nnClassCount, path, class_names)"
   ]
  },
  {
   "cell_type": "code",
   "execution_count": 30,
   "id": "5795df77",
   "metadata": {},
   "outputs": [],
   "source": [
    "load_path = \"model_saved/m-epoch_FL_resnet_simclr_lp2.pth.tar\"\n",
    "load_model(load_path, model)"
   ]
  },
  {
   "cell_type": "code",
   "execution_count": 31,
   "id": "836d28f7",
   "metadata": {
    "scrolled": true
   },
   "outputs": [
    {
     "name": "stdout",
     "output_type": "stream",
     "text": [
      "AUROC mean  0.7257449372900044\n",
      "No Finding   0.8975087412587412\n",
      "Enlarged Cardiomediastinum   0.5447226313205694\n",
      "Cardiomegaly   0.713903743315508\n",
      "Lung Opacity   0.8543991955756661\n",
      "Lung Lesion   0.03482587064676612\n",
      "Edema   0.9110119047619047\n",
      "Consolidation   0.8715073529411765\n",
      "Pneumonia   0.7429123711340206\n",
      "Atelectasis   0.7723884514435696\n",
      "Pneumothorax   0.7978021978021979\n",
      "Pleural Effusion   0.8624320652173912\n",
      "Pleural Other   0.691542288557214\n",
      "Fracture   0.7397273707953319\n"
     ]
    }
   ],
   "source": [
    "path = None\n",
    "outGT, outPRED = CheXpertTrainer.test(model, dataLoaderVal, nnClassCount, path, class_names)"
   ]
  },
  {
   "cell_type": "code",
   "execution_count": 32,
   "id": "5ca50633",
   "metadata": {},
   "outputs": [],
   "source": [
    "load_path = \"model_saved/m-epoch_FL_resnet_simclr_lp3.pth.tar\"\n",
    "load_model(load_path, model)"
   ]
  },
  {
   "cell_type": "code",
   "execution_count": 33,
   "id": "9554da85",
   "metadata": {},
   "outputs": [
    {
     "name": "stdout",
     "output_type": "stream",
     "text": [
      "AUROC mean  0.7350559938392067\n",
      "No Finding   0.906687062937063\n",
      "Enlarged Cardiomediastinum   0.6691212567501228\n",
      "Cardiomegaly   0.7151292335115864\n",
      "Lung Opacity   0.8518853695324284\n",
      "Lung Lesion   0.04975124378109452\n",
      "Edema   0.9141369047619047\n",
      "Consolidation   0.8683823529411765\n",
      "Pneumonia   0.7673969072164949\n",
      "Atelectasis   0.7792125984251969\n",
      "Pneumothorax   0.780952380952381\n",
      "Pleural Effusion   0.8653759057971014\n",
      "Pleural Other   0.6417910447761195\n",
      "Fracture   0.7459056585270177\n"
     ]
    }
   ],
   "source": [
    "path = None\n",
    "outGT, outPRED = CheXpertTrainer.test(model, dataLoaderVal, nnClassCount, path, class_names)"
   ]
  },
  {
   "cell_type": "markdown",
   "id": "8f1a58e9",
   "metadata": {},
   "source": [
    "## SLIP VICREG"
   ]
  },
  {
   "cell_type": "code",
   "execution_count": 34,
   "id": "bcdd7c52",
   "metadata": {},
   "outputs": [],
   "source": [
    "load_path = \"model_saved/m-epoch_FL_resnet_slip_vicreg_lp1.pth.tar\"\n",
    "load_model(load_path, model)"
   ]
  },
  {
   "cell_type": "code",
   "execution_count": 35,
   "id": "6a0cd757",
   "metadata": {},
   "outputs": [
    {
     "name": "stdout",
     "output_type": "stream",
     "text": [
      "AUROC mean  0.7293614136277273\n",
      "No Finding   0.888986013986014\n",
      "Enlarged Cardiomediastinum   0.5621993127147766\n",
      "Cardiomegaly   0.749108734402852\n",
      "Lung Opacity   0.8316742081447964\n",
      "Lung Lesion   0.14925373134328357\n",
      "Edema   0.8761904761904762\n",
      "Consolidation   0.8534926470588236\n",
      "Pneumonia   0.7880154639175259\n",
      "Atelectasis   0.779002624671916\n",
      "Pneumothorax   0.8036630036630037\n",
      "Pleural Effusion   0.7963088768115942\n",
      "Pleural Other   0.7114427860696517\n",
      "Fracture   0.692360498185741\n"
     ]
    }
   ],
   "source": [
    "path = None\n",
    "outGT, outPRED = CheXpertTrainer.test(model, dataLoaderVal, nnClassCount, path, class_names)"
   ]
  },
  {
   "cell_type": "code",
   "execution_count": 36,
   "id": "0ff3ff33",
   "metadata": {},
   "outputs": [],
   "source": [
    "load_path = \"model_saved/m-epoch_FL_resnet_slip_vicreg_lp2.pth.tar\"\n",
    "load_model(load_path, model)"
   ]
  },
  {
   "cell_type": "code",
   "execution_count": 37,
   "id": "0e0b8b9b",
   "metadata": {},
   "outputs": [
    {
     "name": "stdout",
     "output_type": "stream",
     "text": [
      "AUROC mean  0.7320789913239374\n",
      "No Finding   0.8913898601398602\n",
      "Enlarged Cardiomediastinum   0.5668139420716741\n",
      "Cardiomegaly   0.7391934046345812\n",
      "Lung Opacity   0.8381096028154852\n",
      "Lung Lesion   0.10447761194029848\n",
      "Edema   0.8831845238095238\n",
      "Consolidation   0.8558823529411765\n",
      "Pneumonia   0.7963917525773196\n",
      "Atelectasis   0.7760629921259843\n",
      "Pneumothorax   0.8329670329670329\n",
      "Pleural Effusion   0.8020833333333334\n",
      "Pleural Other   0.7313432835820896\n",
      "Fracture   0.6991271942728253\n"
     ]
    }
   ],
   "source": [
    "path = None\n",
    "outGT, outPRED = CheXpertTrainer.test(model, dataLoaderVal, nnClassCount, path, class_names)"
   ]
  },
  {
   "cell_type": "code",
   "execution_count": 38,
   "id": "99b2fdcb",
   "metadata": {},
   "outputs": [],
   "source": [
    "load_path = \"model_saved/m-epoch_FL_resnet_slip_vicreg_lp3.pth.tar\"\n",
    "load_model(load_path, model)"
   ]
  },
  {
   "cell_type": "code",
   "execution_count": 39,
   "id": "14023cb1",
   "metadata": {},
   "outputs": [
    {
     "name": "stdout",
     "output_type": "stream",
     "text": [
      "AUROC mean  0.7310885846417412\n",
      "No Finding   0.8933566433566433\n",
      "Enlarged Cardiomediastinum   0.587039764359352\n",
      "Cardiomegaly   0.7416443850267379\n",
      "Lung Opacity   0.8430367018602313\n",
      "Lung Lesion   0.02985074626865669\n",
      "Edema   0.890327380952381\n",
      "Consolidation   0.8599264705882352\n",
      "Pneumonia   0.8041237113402062\n",
      "Atelectasis   0.7801574803149607\n",
      "Pneumothorax   0.8263736263736263\n",
      "Pleural Effusion   0.8115942028985507\n",
      "Pleural Other   0.736318407960199\n",
      "Fracture   0.7004020790428558\n"
     ]
    }
   ],
   "source": [
    "path = None\n",
    "outGT, outPRED = CheXpertTrainer.test(model, dataLoaderVal, nnClassCount, path, class_names)"
   ]
  },
  {
   "cell_type": "markdown",
   "id": "4ed1b957",
   "metadata": {},
   "source": [
    "## SLIP SIMCLR"
   ]
  },
  {
   "cell_type": "code",
   "execution_count": 40,
   "id": "bcdd7c52",
   "metadata": {},
   "outputs": [],
   "source": [
    "load_path = \"model_saved/m-epoch_FL_resnet_slip_simclr_lp1.pth.tar\"\n",
    "load_model(load_path, model)"
   ]
  },
  {
   "cell_type": "code",
   "execution_count": 41,
   "id": "6a0cd757",
   "metadata": {},
   "outputs": [
    {
     "name": "stdout",
     "output_type": "stream",
     "text": [
      "AUROC mean  0.7158631496456963\n",
      "No Finding   0.892263986013986\n",
      "Enlarged Cardiomediastinum   0.5434462444771724\n",
      "Cardiomegaly   0.7174688057040999\n",
      "Lung Opacity   0.8522875816993464\n",
      "Lung Lesion   0.01990049751243783\n",
      "Edema   0.8708333333333333\n",
      "Consolidation   0.8713235294117647\n",
      "Pneumonia   0.8189432989690721\n",
      "Atelectasis   0.7864566929133858\n",
      "Pneumothorax   0.6871794871794872\n",
      "Pleural Effusion   0.8144248188405797\n",
      "Pleural Other   0.7412935323383085\n",
      "Fracture   0.6903991370010787\n"
     ]
    }
   ],
   "source": [
    "path = None\n",
    "outGT, outPRED = CheXpertTrainer.test(model, dataLoaderVal, nnClassCount, path, class_names)"
   ]
  },
  {
   "cell_type": "code",
   "execution_count": 42,
   "id": "0ff3ff33",
   "metadata": {},
   "outputs": [],
   "source": [
    "load_path = \"model_saved/m-epoch_FL_resnet_slip_simclr_lp2.pth.tar\"\n",
    "load_model(load_path, model)"
   ]
  },
  {
   "cell_type": "code",
   "execution_count": 43,
   "id": "0e0b8b9b",
   "metadata": {},
   "outputs": [
    {
     "name": "stdout",
     "output_type": "stream",
     "text": [
      "AUROC mean  0.7197351246800687\n",
      "No Finding   0.8975087412587414\n",
      "Enlarged Cardiomediastinum   0.507707412862052\n",
      "Cardiomegaly   0.723150623885918\n",
      "Lung Opacity   0.8514831573655104\n",
      "Lung Lesion   0.02487562189054726\n",
      "Edema   0.8863095238095238\n",
      "Consolidation   0.8737132352941177\n",
      "Pneumonia   0.8060567010309279\n",
      "Atelectasis   0.7828871391076115\n",
      "Pneumothorax   0.7135531135531135\n",
      "Pleural Effusion   0.8179347826086957\n",
      "Pleural Other   0.7661691542288558\n",
      "Fracture   0.705207413945278\n"
     ]
    }
   ],
   "source": [
    "path = None\n",
    "outGT, outPRED = CheXpertTrainer.test(model, dataLoaderVal, nnClassCount, path, class_names)"
   ]
  },
  {
   "cell_type": "code",
   "execution_count": 44,
   "id": "99b2fdcb",
   "metadata": {},
   "outputs": [],
   "source": [
    "load_path = \"model_saved/m-epoch_FL_resnet_slip_simclr_lp3.pth.tar\"\n",
    "load_model(load_path, model)"
   ]
  },
  {
   "cell_type": "code",
   "execution_count": 45,
   "id": "14023cb1",
   "metadata": {
    "scrolled": true
   },
   "outputs": [
    {
     "name": "stdout",
     "output_type": "stream",
     "text": [
      "AUROC mean  0.7306897074943385\n",
      "No Finding   0.8964160839160839\n",
      "Enlarged Cardiomediastinum   0.5680903289150712\n",
      "Cardiomegaly   0.7249331550802139\n",
      "Lung Opacity   0.8507792860734037\n",
      "Lung Lesion   0.04477611940298509\n",
      "Edema   0.8956845238095238\n",
      "Consolidation   0.8783088235294119\n",
      "Pneumonia   0.7880154639175259\n",
      "Atelectasis   0.7783727034120735\n",
      "Pneumothorax   0.7406593406593407\n",
      "Pleural Effusion   0.8195199275362319\n",
      "Pleural Other   0.8009950248756219\n",
      "Fracture   0.7124154162989114\n"
     ]
    }
   ],
   "source": [
    "path = None\n",
    "outGT, outPRED = CheXpertTrainer.test(model, dataLoaderVal, nnClassCount, path, class_names)"
   ]
  },
  {
   "cell_type": "code",
   "execution_count": null,
   "id": "3a18ca53",
   "metadata": {},
   "outputs": [],
   "source": []
  },
  {
   "cell_type": "markdown",
   "id": "e2df78ab",
   "metadata": {},
   "source": [
    "             Atelectasis       Cardiomegaly       Consolidation       Edema Pleural      Effusion\n",
    "PAPER:  0.858(0.806,0.910)  0.832(0.773,0.890)  0.899(0.854,0.944)  0.941(0.903,0.980)  0.934(0.901,0.967)\n",
    "Result:    0.85070              0.84569               0.88235              0.90595          0.92142\n"
   ]
  }
 ],
 "metadata": {
  "kernelspec": {
   "display_name": "Python 3 (ipykernel)",
   "language": "python",
   "name": "python3"
  },
  "language_info": {
   "codemirror_mode": {
    "name": "ipython",
    "version": 3
   },
   "file_extension": ".py",
   "mimetype": "text/x-python",
   "name": "python",
   "nbconvert_exporter": "python",
   "pygments_lexer": "ipython3",
   "version": "3.8.12"
  }
 },
 "nbformat": 4,
 "nbformat_minor": 5
}
