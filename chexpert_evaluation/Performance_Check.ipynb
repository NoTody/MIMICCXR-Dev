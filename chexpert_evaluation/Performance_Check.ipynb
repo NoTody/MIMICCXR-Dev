{
 "cells": [
  {
   "cell_type": "markdown",
   "id": "53bd3cee",
   "metadata": {},
   "source": [
    "rm -rf *.csv"
   ]
  },
  {
   "cell_type": "code",
   "execution_count": 1,
   "id": "df4d5763",
   "metadata": {},
   "outputs": [
    {
     "name": "stdout",
     "output_type": "stream",
     "text": [
      "True\n",
      "Train data length: 191027\n",
      "Valid data length: 202\n",
      "Train data length: 191027\n",
      "Valid data length: 202\n"
     ]
    }
   ],
   "source": [
    "import numpy as np\n",
    "import pandas as pd\n",
    "import time\n",
    "import csv\n",
    "import random\n",
    "import matplotlib.pyplot as plt\n",
    "from PIL import Image\n",
    "from barbar import Bar\n",
    "\n",
    "import torch\n",
    "import torch.nn as nn\n",
    "import torch.optim as optim\n",
    "import torch.backends.cudnn as cudnn\n",
    "import torchvision\n",
    "import torchvision.transforms as transforms\n",
    "from torch.utils.data import Dataset\n",
    "from torch.utils.data import DataLoader\n",
    "from torch.utils.data.dataset import random_split\n",
    "\n",
    "import sklearn.metrics as metrics\n",
    "from sklearn.metrics import roc_auc_score\n",
    "\n",
    "use_gpu = torch.cuda.is_available()\n",
    "print(use_gpu)\n",
    "\n",
    "train_path = '/gpfs/data/denizlab/Datasets/Public/CheXpert-v1.0/train.csv'\n",
    "valid_path = '/gpfs/data/denizlab/Datasets/Public/CheXpert-v1.0/valid.csv'\n",
    "\n",
    "\n",
    "Traindata = pd.read_csv(train_path)\n",
    "Traindata = Traindata[Traindata['Path'].str.contains(\"frontal\")] # use only frontal images\n",
    "#Traindata = Traindata[500:]\n",
    "Traindata.to_csv('/gpfs/data/denizlab/Users/skr2369/Chexpert/CheXpert-v1/U1-V1/train_mod.csv', index = False)\n",
    "print(\"Train data length:\", len(Traindata))\n",
    "\n",
    "Validdata = pd.read_csv(valid_path)\n",
    "Validdata = Validdata[Validdata['Path'].str.contains(\"frontal\")] # use only frontal images\n",
    "Validdata.to_csv('/gpfs/data/denizlab/Users/skr2369/Chexpert/CheXpert-v1/U1-V1/valid_mod.csv', index = False)\n",
    "print(\"Valid data length:\", len(Validdata))\n",
    "\n",
    "# Testdata = Traindata.head(500) # use first 500 training data as test data (obs ratio is almost same!)\n",
    "# Testdata.to_csv('/gpfs/data/denizlab/Users/skr2369/Chexpert/CheXpert-v1/test_mod.csv', index = False)\n",
    "# print(\"Test data length:\", len(Testdata))\n",
    "\n",
    "pathFileTrain = '/gpfs/data/denizlab/Users/skr2369/Chexpert/CheXpert-v1/U1-V1/train_mod.csv'\n",
    "pathFileValid = '/gpfs/data/denizlab/Users/skr2369/Chexpert/CheXpert-v1/U1-V1/valid_mod.csv'\n",
    "# pathFileTest = '/gpfs/data/denizlab/Users/skr2369/Chexpert/CheXpert-v1/test_mod.csv'\n",
    "\n",
    "# Neural network parameters:\n",
    "nnIsTrained = False     # pre-trained using ImageNet\n",
    "nnClassCount = 14       # dimension of the output\n",
    "\n",
    "# Training settings: batch size, maximum number of epochs\n",
    "trBatchSize = 16\n",
    "trMaxEpoch = 3\n",
    "\n",
    "# Parameters related to image transforms: size of the down-scaled image, cropped image\n",
    "imgtransResize = (320, 320)\n",
    "imgtransCrop = 224\n",
    "\n",
    "# Class names\n",
    "class_names = ['No Finding', 'Enlarged Cardiomediastinum', 'Cardiomegaly', 'Lung Opacity', \n",
    "               'Lung Lesion', 'Edema', 'Consolidation', 'Pneumonia', 'Atelectasis', 'Pneumothorax', \n",
    "               'Pleural Effusion', 'Pleural Other', 'Fracture', 'Support Devices']\n",
    "\n",
    "class CheXpertDataSet(Dataset):\n",
    "    def __init__(self, data_PATH, transform = None, policy = \"ones\"):\n",
    "        \"\"\"\n",
    "        data_PATH: path to the file containing images with corresponding labels.\n",
    "        transform: optional transform to be applied on a sample.\n",
    "        Upolicy: name the policy with regard to the uncertain labels.\n",
    "        \"\"\"\n",
    "        image_names = []\n",
    "        labels = []\n",
    "\n",
    "        with open(data_PATH, \"r\") as f:\n",
    "            csvReader = csv.reader(f)\n",
    "            next(csvReader, None) # skip the header\n",
    "            for line in csvReader:\n",
    "                image_name = line[0]\n",
    "                label = line[5:]\n",
    "                \n",
    "                for i in range(14):\n",
    "                    if label[i]:\n",
    "                        a = float(label[i])\n",
    "                        if a == 1:\n",
    "                            label[i] = 1\n",
    "                        elif a == -1:\n",
    "                            if policy == \"ones\":\n",
    "                                label[i] = 1\n",
    "                            elif policy == \"zeroes\":\n",
    "                                label[i] = 0\n",
    "                            else:\n",
    "                                label[i] = 0\n",
    "                        else:\n",
    "                            label[i] = 0\n",
    "                    else:\n",
    "                        label[i] = 0\n",
    "                \n",
    "                image_names.append('/gpfs/data/denizlab/Datasets/Public/' + image_name)\n",
    "        \n",
    "#                 image_names.append('./' + image_name)\n",
    "                labels.append(label)\n",
    "\n",
    "        self.image_names = image_names\n",
    "        self.labels = labels\n",
    "        self.transform = transform\n",
    "\n",
    "    def __getitem__(self, index):\n",
    "        \"\"\"Take the index of item and returns the image and its labels\"\"\"\n",
    "        image_name = self.image_names[index]\n",
    "        image = Image.open(image_name).convert('RGB')\n",
    "        label = self.labels[index]\n",
    "        if self.transform is not None:\n",
    "            image = self.transform(image)\n",
    "        return image, torch.FloatTensor(label)\n",
    "\n",
    "    def __len__(self):\n",
    "        return len(self.image_names)\n",
    "    \n",
    "\n",
    "IMAGENET_MEAN = [0.485, 0.456, 0.406]  # mean of ImageNet dataset(for normalization)\n",
    "IMAGENET_STD = [0.229, 0.224, 0.225]   # std of ImageNet dataset(for normalization)\n",
    "\n",
    "# Tranform data\n",
    "normalize = transforms.Normalize(IMAGENET_MEAN, IMAGENET_STD)\n",
    "transformList = []\n",
    "\n",
    "transformList.append(transforms.Resize((imgtransCrop, imgtransCrop))) # 224\n",
    "# transformList.append(transforms.RandomResizedCrop(imgtransCrop))\n",
    "# transformList.append(transforms.RandomHorizontalFlip())\n",
    "transformList.append(transforms.ToTensor())\n",
    "# transformList.append(normalize)\n",
    "transformSequence = transforms.Compose(transformList)\n",
    "\n",
    "# Load dataset\n",
    "datasetTrain = CheXpertDataSet(pathFileTrain, transformSequence, policy = \"ones\")\n",
    "print(\"Train data length:\", len(datasetTrain))\n",
    "dataLoaderTrain = DataLoader(dataset=datasetTrain, batch_size=trBatchSize, shuffle=True,  num_workers=20, pin_memory=True)\n",
    "\n",
    "\n",
    "datasetValid = CheXpertDataSet(pathFileValid, transformSequence)\n",
    "print(\"Valid data length:\", len(datasetValid))\n",
    "dataLoaderVal = DataLoader(dataset = datasetValid, batch_size = trBatchSize, \n",
    "                           shuffle = False, num_workers = 2, pin_memory = True)\n",
    "\n",
    "# data(\"Test data length:\", len(datasetTest))\n",
    "\n",
    "\n",
    "class CheXpertTrainer():\n",
    "\n",
    "    def train(model, dataLoaderTrain, dataLoaderVal, nnClassCount, trMaxEpoch, checkpoint):\n",
    "        optimizer = optim.Adam(model.parameters(), lr = 0.0001, # setting optimizer & scheduler\n",
    "                               betas = (0.9, 0.999), eps = 1e-08, weight_decay = 0) \n",
    "        loss = torch.nn.BCELoss() # setting loss function\n",
    "        \n",
    "        if checkpoint != None and use_gpu: # loading checkpoint\n",
    "            modelCheckpoint = torch.load(checkpoint)\n",
    "            model.load_state_dict(modelCheckpoint['state_dict'])\n",
    "            optimizer.load_state_dict(modelCheckpoint['optimizer'])\n",
    "            \n",
    "        # Train the network\n",
    "        lossMIN = 100000\n",
    "        train_start = []\n",
    "        train_end = []\n",
    "        for epochID in range(0, trMaxEpoch):\n",
    "            train_start.append(time.time()) # training starts\n",
    "            losst = CheXpertTrainer.epochTrain(model, dataLoaderTrain, optimizer, trMaxEpoch, nnClassCount, loss)\n",
    "            train_end.append(time.time()) # training ends\n",
    "#             lossv = CheXpertTrainer.epochVal(model, dataLoaderVal, optimizer, trMaxEpoch, nnClassCount, loss)\n",
    "            print(\"Training loss: {:.3f},\".format(losst))#, \"Valid loss: {:.3f}\".format(lossv))\n",
    "            \n",
    "            if losst < lossMIN:\n",
    "                lossMIN = losst\n",
    "                torch.save({'epoch': epochID + 1, 'state_dict': model.state_dict(), \n",
    "                            'best_loss': lossMIN, 'optimizer' : optimizer.state_dict()}, \n",
    "                           'm-epoch_FL' + str(epochID + 1) + '.pth.tar')\n",
    "                print('Epoch ' + str(epochID + 1) + ' [save] loss = ' + str(losst))\n",
    "            else:\n",
    "                print('Epoch ' + str(epochID + 1) + ' [----] loss = ' + str(losst))\n",
    "\n",
    "        train_time = np.array(train_end) - np.array(train_start)\n",
    "        print(\"Training time for each epoch: {} seconds\".format(train_time.round(0)))\n",
    "        params = model.state_dict()\n",
    "        return params\n",
    "       \n",
    "        \n",
    "    def epochTrain(model, dataLoaderTrain, optimizer, epochMax, classCount, loss):\n",
    "        losstrain = 0\n",
    "        model.train()\n",
    "\n",
    "        for batchID, (varInput, target) in enumerate(Bar(dataLoaderTrain)):\n",
    "            \n",
    "            varTarget = target.cuda(non_blocking = True)\n",
    "            varOutput = model(varInput)\n",
    "            lossvalue = loss(varOutput, varTarget)\n",
    "                       \n",
    "            optimizer.zero_grad()\n",
    "            lossvalue.backward()\n",
    "            optimizer.step()\n",
    "            \n",
    "            losstrain += lossvalue.item()\n",
    "            \n",
    "        return losstrain / len(dataLoaderTrain)\n",
    "\n",
    "    \n",
    "    def computeAUROC(dataGT, dataPRED, classCount):\n",
    "        # Computes area under ROC curve \n",
    "        # dataGT: ground truth data\n",
    "        # dataPRED: predicted data\n",
    "        outAUROC = []\n",
    "        datanpGT = dataGT.cpu().numpy()\n",
    "        datanpPRED = dataPRED.cpu().numpy()\n",
    "        \n",
    "        for i in range(classCount):\n",
    "            try:\n",
    "                outAUROC.append(roc_auc_score(datanpGT[:, i], datanpPRED[:, i]))\n",
    "            except ValueError:\n",
    "                pass\n",
    "        return outAUROC\n",
    "    \n",
    "    \n",
    "    def test(model, dataLoaderTest, nnClassCount, checkpoint, class_names):\n",
    "        cudnn.benchmark = True\n",
    "        \n",
    "        if checkpoint != None and use_gpu:\n",
    "            modelCheckpoint = torch.load(checkpoint)\n",
    "            model.load_state_dict(modelCheckpoint['state_dict'])\n",
    "\n",
    "        if use_gpu:\n",
    "            outGT = torch.FloatTensor().cuda()\n",
    "            outPRED = torch.FloatTensor().cuda()\n",
    "        else:\n",
    "            outGT = torch.FloatTensor()\n",
    "            outPRED = torch.FloatTensor()\n",
    "       \n",
    "        model.eval()\n",
    "        \n",
    "        with torch.no_grad():\n",
    "            for i, (input, target) in enumerate(dataLoaderTest):\n",
    "\n",
    "                target = target.cuda()\n",
    "                outGT = torch.cat((outGT, target), 0).cuda()\n",
    "\n",
    "                bs, c, h, w = input.size()\n",
    "                varInput = input.view(-1, c, h, w)\n",
    "            \n",
    "                out = model(varInput)\n",
    "                outPRED = torch.cat((outPRED, out), 0)\n",
    "        aurocIndividual = CheXpertTrainer.computeAUROC(outGT, outPRED, nnClassCount)\n",
    "        aurocMean = np.array(aurocIndividual).mean()\n",
    "        print('AUROC mean ', aurocMean)\n",
    "        \n",
    "        for i in range (0, len(aurocIndividual)):\n",
    "            print(class_names[i], ' ', aurocIndividual[i])\n",
    "        \n",
    "        return outGT, outPRED"
   ]
  },
  {
   "cell_type": "code",
   "execution_count": 2,
   "id": "16124b8f",
   "metadata": {},
   "outputs": [],
   "source": [
    "class DenseNet121(nn.Module):\n",
    "    \"\"\"Model modified.\n",
    "    The architecture of our model is the same as standard DenseNet121\n",
    "    except the classifier layer which has an additional sigmoid function.\n",
    "    \"\"\"\n",
    "    def __init__(self, out_size):\n",
    "        super(DenseNet121, self).__init__()\n",
    "        self.densenet121 = torchvision.models.densenet121(pretrained = False)\n",
    "        num_ftrs = self.densenet121.classifier.in_features\n",
    "        self.densenet121.classifier = nn.Sequential(\n",
    "            nn.Linear(num_ftrs, out_size),\n",
    "            nn.Sigmoid()\n",
    "        )\n",
    "\n",
    "    def forward(self, x):\n",
    "        x = self.densenet121(x)\n",
    "        return x"
   ]
  },
  {
   "cell_type": "code",
   "execution_count": 103,
   "id": "2aed59d9",
   "metadata": {},
   "outputs": [],
   "source": [
    "# densenet model\n",
    "class densenet_model(nn.Module):\n",
    "    def __init__(self, size, features_dim, out_size, pretrained=False):\n",
    "        super(densenet_model, self).__init__()\n",
    "        \n",
    "        if size==121:\n",
    "            self.backbone = torchvision.models.densenet121(pretrained = False)\n",
    "        else:\n",
    "            raise NotImplementedError(f\"ResNet with size {size} is not implemented!\")\n",
    "\n",
    "        #self.backbone.conv1 = torch.nn.Conv2d(1, 64, kernel_size=(7, 7), stride=(2, 2), padding=(3, 3), bias=False)\n",
    "        self.feature_dim_in = self.backbone.classifier.in_features\n",
    "        #self.backbone.classifier = nn.Linear(in_features=self.feature_dim_in, out_features=features_dim, bias=True)\n",
    "        self.backbone.classifier = nn.Identity()\n",
    "        self.classifier = nn.Sequential(\n",
    "            nn.Linear(features_dim, out_size),\n",
    "            nn.Sigmoid()\n",
    "        )\n",
    "        \n",
    "    def forward(self, x):\n",
    "        x = self.backbone(x)\n",
    "        x = self.classifier(x)\n",
    "        return x"
   ]
  },
  {
   "cell_type": "code",
   "execution_count": 19,
   "id": "df07df65",
   "metadata": {},
   "outputs": [],
   "source": [
    "# resnet model\n",
    "class resnet_model(nn.Module):\n",
    "    def __init__(self, size, features_dim, out_size, pretrained=False):\n",
    "        super(resnet_model, self).__init__()\n",
    "        \n",
    "        if size==18:\n",
    "            self.backbone = torchvision.models.resnet18(pretrained=pretrained)\n",
    "        elif size==50:\n",
    "            self.backbone = torchvision.models.resnet50(pretrained=pretrained)\n",
    "        elif size==101:\n",
    "            self.backbone = torchvision.models.resnet101(pretrained=pretrained)\n",
    "        else:\n",
    "            raise NotImplementedError(f\"ResNet with size {size} is not implemented!\")\n",
    "\n",
    "        #self.backbone.conv1 = torch.nn.Conv2d(1, 64, kernel_size=(7, 7), stride=(2, 2), padding=(3, 3), bias=False)\n",
    "        self.feature_dim_in = self.backbone.fc.weight.shape[1]\n",
    "        #self.backbone.fc = nn.Linear(in_features=self.feature_dim_in, out_features=features_dim, bias=True)\n",
    "        self.backbone.fc = nn.Identity()\n",
    "        self.classifier = nn.Sequential(\n",
    "            nn.Linear(features_dim, out_size),\n",
    "            nn.Sigmoid()\n",
    "        )\n",
    "        \n",
    "    def forward(self, x):\n",
    "        x = self.backbone(x)\n",
    "        x = self.classifier(x)\n",
    "        return x"
   ]
  },
  {
   "cell_type": "code",
   "execution_count": 5,
   "id": "b4f21b91",
   "metadata": {},
   "outputs": [],
   "source": [
    "# vit model\n",
    "class vit_model(nn.Module):\n",
    "    def __init__(self, size, features_dim, out_size, pretrained=False, freeze_pos_embed=False, **kwargs):\n",
    "        super(vit_model, self).__init__()\n",
    "        \n",
    "        if freeze_pos_embed:\n",
    "            pass\n",
    "        else:\n",
    "            if size==\"base\":\n",
    "                model_kwargs = dict(\n",
    "                    patch_size=16, embed_dim=768, depth=12, num_heads=12, num_classes=0, **kwargs\n",
    "                )\n",
    "                self.backbone = _create_vision_transformer(\"vit_base_patch16_224\", pretrained=pretrained, **model_kwargs)\n",
    "            else:\n",
    "                pass\n",
    "\n",
    "        self.classifier = nn.Sequential(\n",
    "            nn.Linear(features_dim, out_size),\n",
    "            nn.Sigmoid()\n",
    "        )\n",
    "        \n",
    "    def forward(self, x):\n",
    "        x = self.backbone(x)\n",
    "        x = self.classifier(x)\n",
    "        return x"
   ]
  },
  {
   "cell_type": "code",
   "execution_count": 104,
   "id": "18da27f8",
   "metadata": {},
   "outputs": [],
   "source": [
    "size = 121\n",
    "features_dim = 1024\n",
    "out_size = 14\n",
    "\n",
    "model = densenet_model(size, features_dim, out_size, pretrained=True).cuda() # Step 0: Initialize global model and load the model\n",
    "model = torch.nn.DataParallel(model).cuda()\n",
    "#model = model.cuda()"
   ]
  },
  {
   "cell_type": "code",
   "execution_count": 7,
   "id": "f72eb5ba",
   "metadata": {},
   "outputs": [
    {
     "name": "stderr",
     "output_type": "stream",
     "text": [
      "/gpfs/share/skynet/apps/anaconda3/envs/opence_env_1.5.1/lib/python3.8/site-packages/apex/pyprof/__init__.py:5: FutureWarning: pyprof will be removed by the end of June, 2022\n",
      "  warnings.warn(\"pyprof will be removed by the end of June, 2022\", FutureWarning)\n"
     ]
    }
   ],
   "source": [
    "from timm.models.vision_transformer import _create_vision_transformer\n",
    "from timm.models.layers import PatchEmbed\n",
    "from timm.models.vision_transformer import VisionTransformer, _cfg"
   ]
  },
  {
   "cell_type": "code",
   "execution_count": 8,
   "id": "caf34338",
   "metadata": {},
   "outputs": [],
   "source": [
    "size = \"base\"\n",
    "features_dim = 768\n",
    "out_size = nnClassCount\n",
    "model = vit_model(size, features_dim, out_size, pretrained=True).cuda() # Step 0: Initialize global model and load the m\n",
    "model = torch.nn.DataParallel(model).cuda()"
   ]
  },
  {
   "cell_type": "code",
   "execution_count": 6,
   "id": "ecaa6f18",
   "metadata": {},
   "outputs": [],
   "source": [
    "# model = DenseNet121(nnClassCount).cuda() # Step 0: Initialize global model and load the model\n",
    "# model = torch.nn.DataParallel(model).cuda()"
   ]
  },
  {
   "cell_type": "code",
   "execution_count": 9,
   "id": "433d3d62",
   "metadata": {},
   "outputs": [
    {
     "name": "stdout",
     "output_type": "stream",
     "text": [
      "DENSENET_SIMCLR.err       VIT_CLIP.out         \u001b[0m\u001b[38;5;9mm-epoch_FL2.pth.tar\u001b[0m\r\n",
      "DENSENET_SIMCLR.out       VIT_SIMCLR.err       \u001b[38;5;9mm-epoch_FL3.pth.tar\u001b[0m\r\n",
      "DENSENET_SLIP_SIMCLR.err  VIT_SIMCLR.out       \u001b[38;5;9mm-epoch_FL_ResNet1.pth.tar\u001b[0m\r\n",
      "DENSENET_SLIP_SIMCLR.out  VIT_SLIP_VICREG.err  \u001b[38;5;9mm-epoch_FL_ResNet2.pth.tar\u001b[0m\r\n",
      "DENSENET_SLIP_VICREG.err  VIT_SLIP_VICREG.out  \u001b[38;5;9mm-epoch_FL_ResNet3.pth.tar\u001b[0m\r\n",
      "DENSENET_SLIP_VICREG.out  VIT_VICREG.err       \u001b[38;5;33mmodel_saved\u001b[0m/\r\n",
      "DENSENET_VICREG.err       VIT_VICREG.out       submitit.bsub\r\n",
      "DENSENET_VICREG.out       \u001b[38;5;33m__pycache__\u001b[0m/         train_mod.csv\r\n",
      "Performance_Check.ipynb   base3.py             valid_mod.csv\r\n",
      "VIT_CLIP.err              \u001b[38;5;9mm-epoch_FL1.pth.tar\u001b[0m\r\n"
     ]
    }
   ],
   "source": [
    "ls"
   ]
  },
  {
   "cell_type": "code",
   "execution_count": 21,
   "id": "dc9ee999",
   "metadata": {},
   "outputs": [],
   "source": [
    "def load_model(load_path, model):\n",
    "    load_path = load_path\n",
    "    checkpoint = torch.load(load_path)\n",
    "    state_dict = {k.replace(\"img_backbone.\", \"module.\"): v for k, v in checkpoint['state_dict'].items()}\n",
    "    model.load_state_dict(state_dict, strict=False)"
   ]
  },
  {
   "cell_type": "markdown",
   "id": "a2af4955",
   "metadata": {},
   "source": [
    "# ResNet-50"
   ]
  },
  {
   "cell_type": "markdown",
   "id": "6d1606a9",
   "metadata": {},
   "source": [
    "## Original"
   ]
  },
  {
   "cell_type": "code",
   "execution_count": 53,
   "id": "bc14f93d",
   "metadata": {},
   "outputs": [
    {
     "name": "stdout",
     "output_type": "stream",
     "text": [
      "AUROC mean  0.8104620559715634\n",
      "No Finding   0.9134615384615385\n",
      "Enlarged Cardiomediastinum   0.5973490427098674\n",
      "Cardiomegaly   0.8078208556149733\n",
      "Lung Opacity   0.9039718451483157\n",
      "Lung Lesion   0.2587064676616916\n",
      "Edema   0.9309523809523809\n",
      "Consolidation   0.8549632352941177\n",
      "Pneumonia   0.8537371134020617\n",
      "Atelectasis   0.8056692913385827\n",
      "Pneumothorax   0.8996336996336997\n",
      "Pleural Effusion   0.9102128623188406\n",
      "Pleural Other   0.8557213930348259\n",
      "Fracture   0.9438070020594292\n"
     ]
    }
   ],
   "source": [
    "path = \"model_saved/m-epoch_FL_resnet1.pth.tar\"\n",
    "outGT, outPRED = CheXpertTrainer.test(model, dataLoaderVal, nnClassCount, path, class_names)"
   ]
  },
  {
   "cell_type": "code",
   "execution_count": 54,
   "id": "f8137b93",
   "metadata": {},
   "outputs": [
    {
     "name": "stdout",
     "output_type": "stream",
     "text": [
      "AUROC mean  0.8031102929581553\n",
      "No Finding   0.8841783216783217\n",
      "Enlarged Cardiomediastinum   0.6835542464408444\n",
      "Cardiomegaly   0.82174688057041\n",
      "Lung Opacity   0.889894419306184\n",
      "Lung Lesion   0.5174129353233831\n",
      "Edema   0.906547619047619\n",
      "Consolidation   0.85625\n",
      "Pneumonia   0.7190721649484536\n",
      "Atelectasis   0.8473490813648294\n",
      "Pneumothorax   0.882051282051282\n",
      "Pleural Effusion   0.9254981884057971\n",
      "Pleural Other   0.5621890547263682\n",
      "Fracture   0.9446896145925272\n"
     ]
    }
   ],
   "source": [
    "path1 = 'model_saved/m-epoch_FL_resnet2.pth.tar'\n",
    "outGT, outPRED = CheXpertTrainer.test(model, dataLoaderVal, nnClassCount, path1, class_names)"
   ]
  },
  {
   "cell_type": "code",
   "execution_count": 55,
   "id": "4c188789",
   "metadata": {},
   "outputs": [
    {
     "name": "stdout",
     "output_type": "stream",
     "text": [
      "AUROC mean  0.7645676928084052\n",
      "No Finding   0.8948863636363638\n",
      "Enlarged Cardiomediastinum   0.4993618065783014\n",
      "Cardiomegaly   0.7725044563279857\n",
      "Lung Opacity   0.8950226244343892\n",
      "Lung Lesion   0.3532338308457711\n",
      "Edema   0.9397321428571428\n",
      "Consolidation   0.7876838235294117\n",
      "Pneumonia   0.720360824742268\n",
      "Atelectasis   0.750236220472441\n",
      "Pneumothorax   0.9003663003663004\n",
      "Pleural Effusion   0.9199501811594204\n",
      "Pleural Other   0.572139303482587\n",
      "Fracture   0.9339021280768854\n"
     ]
    }
   ],
   "source": [
    "path3 = 'model_saved/m-epoch_FL_resnet3.pth.tar'\n",
    "outGT, outPRED = CheXpertTrainer.test(model, dataLoaderVal, nnClassCount, path3, class_names)"
   ]
  },
  {
   "cell_type": "markdown",
   "id": "88a5bbdb",
   "metadata": {},
   "source": [
    "## CLIP"
   ]
  },
  {
   "cell_type": "code",
   "execution_count": 64,
   "id": "6887590a",
   "metadata": {},
   "outputs": [],
   "source": [
    "load_path = \"model_saved/m-epoch_FL_resnet_clip_lp1.pth.tar\"\n",
    "load_model(load_path, model)"
   ]
  },
  {
   "cell_type": "code",
   "execution_count": 65,
   "id": "52597064",
   "metadata": {},
   "outputs": [
    {
     "name": "stdout",
     "output_type": "stream",
     "text": [
      "AUROC mean  0.6313265872784167\n",
      "No Finding   0.6579982517482517\n",
      "Enlarged Cardiomediastinum   0.4764850270004909\n",
      "Cardiomegaly   0.6485071301247772\n",
      "Lung Opacity   0.6543991955756662\n",
      "Lung Lesion   0.37810945273631846\n",
      "Edema   0.5888392857142857\n",
      "Consolidation   0.6878676470588235\n",
      "Pneumonia   0.630798969072165\n",
      "Atelectasis   0.6629921259842521\n",
      "Pneumothorax   0.7553113553113553\n",
      "Pleural Effusion   0.6661005434782609\n",
      "Pleural Other   0.8308457711442786\n",
      "Fracture   0.5689908796704913\n"
     ]
    }
   ],
   "source": [
    "path = None\n",
    "outGT, outPRED = CheXpertTrainer.test(model, dataLoaderVal, nnClassCount, path, class_names)"
   ]
  },
  {
   "cell_type": "code",
   "execution_count": 66,
   "id": "5795df77",
   "metadata": {},
   "outputs": [],
   "source": [
    "load_path = \"model_saved/m-epoch_FL_resnet_clip_lp2.pth.tar\"\n",
    "load_model(load_path, model)"
   ]
  },
  {
   "cell_type": "code",
   "execution_count": 67,
   "id": "836d28f7",
   "metadata": {
    "scrolled": true
   },
   "outputs": [
    {
     "name": "stdout",
     "output_type": "stream",
     "text": [
      "AUROC mean  0.6627435475137265\n",
      "No Finding   0.6848776223776223\n",
      "Enlarged Cardiomediastinum   0.45645557191948943\n",
      "Cardiomegaly   0.6723484848484849\n",
      "Lung Opacity   0.6712921065862243\n",
      "Lung Lesion   0.5472636815920398\n",
      "Edema   0.6141369047619047\n",
      "Consolidation   0.7251838235294117\n",
      "Pneumonia   0.6417525773195876\n",
      "Atelectasis   0.6873490813648293\n",
      "Pneumothorax   0.7216117216117216\n",
      "Pleural Effusion   0.6873867753623188\n",
      "Pleural Other   0.9303482587064676\n",
      "Fracture   0.5756595076983426\n"
     ]
    }
   ],
   "source": [
    "path = None\n",
    "outGT, outPRED = CheXpertTrainer.test(model, dataLoaderVal, nnClassCount, path, class_names)"
   ]
  },
  {
   "cell_type": "code",
   "execution_count": 68,
   "id": "5ca50633",
   "metadata": {},
   "outputs": [],
   "source": [
    "load_path = \"model_saved/m-epoch_FL_resnet_clip_lp3.pth.tar\"\n",
    "load_model(load_path, model)"
   ]
  },
  {
   "cell_type": "code",
   "execution_count": 69,
   "id": "9554da85",
   "metadata": {},
   "outputs": [
    {
     "name": "stdout",
     "output_type": "stream",
     "text": [
      "AUROC mean  0.6620178315650629\n",
      "No Finding   0.7200611888111889\n",
      "Enlarged Cardiomediastinum   0.4436917034855179\n",
      "Cardiomegaly   0.6926247771836007\n",
      "Lung Opacity   0.6779286073403721\n",
      "Lung Lesion   0.592039800995025\n",
      "Edema   0.6188988095238095\n",
      "Consolidation   0.7136029411764706\n",
      "Pneumonia   0.597938144329897\n",
      "Atelectasis   0.6798950131233595\n",
      "Pneumothorax   0.6564102564102564\n",
      "Pleural Effusion   0.7002943840579711\n",
      "Pleural Other   0.9353233830845771\n",
      "Fracture   0.5775228008237717\n"
     ]
    }
   ],
   "source": [
    "path = None\n",
    "outGT, outPRED = CheXpertTrainer.test(model, dataLoaderVal, nnClassCount, path, class_names)"
   ]
  },
  {
   "cell_type": "markdown",
   "id": "da8bf86e",
   "metadata": {},
   "source": [
    "## VICREG"
   ]
  },
  {
   "cell_type": "code",
   "execution_count": 70,
   "id": "425f0c2c",
   "metadata": {},
   "outputs": [],
   "source": [
    "load_path = \"model_saved/m-epoch_FL_resnet_vicreg_lp1.pth.tar\"\n",
    "load_model(load_path, model)"
   ]
  },
  {
   "cell_type": "code",
   "execution_count": 71,
   "id": "12f3a8ea",
   "metadata": {
    "scrolled": true
   },
   "outputs": [
    {
     "name": "stdout",
     "output_type": "stream",
     "text": [
      "AUROC mean  0.7476982794136359\n",
      "No Finding   0.920236013986014\n",
      "Enlarged Cardiomediastinum   0.6136475208640157\n",
      "Cardiomegaly   0.7240418894830659\n",
      "Lung Opacity   0.8330819507290095\n",
      "Lung Lesion   0.0\n",
      "Edema   0.8938988095238095\n",
      "Consolidation   0.859375\n",
      "Pneumonia   0.838917525773196\n",
      "Atelectasis   0.7845669291338583\n",
      "Pneumothorax   0.854945054945055\n",
      "Pleural Effusion   0.8343523550724637\n",
      "Pleural Other   0.8507462686567164\n",
      "Fracture   0.7122683142100619\n"
     ]
    }
   ],
   "source": [
    "path = None\n",
    "outGT, outPRED = CheXpertTrainer.test(model, dataLoaderVal, nnClassCount, path, class_names)"
   ]
  },
  {
   "cell_type": "code",
   "execution_count": 72,
   "id": "5f8f4452",
   "metadata": {},
   "outputs": [],
   "source": [
    "load_path = \"model_saved/m-epoch_FL_resnet_vicreg_lp2.pth.tar\"\n",
    "load_model(load_path, model)"
   ]
  },
  {
   "cell_type": "code",
   "execution_count": 73,
   "id": "aace3cc3",
   "metadata": {
    "scrolled": true
   },
   "outputs": [
    {
     "name": "stdout",
     "output_type": "stream",
     "text": [
      "AUROC mean  0.7434389552364055\n",
      "No Finding   0.9213286713286714\n",
      "Enlarged Cardiomediastinum   0.578105056455572\n",
      "Cardiomegaly   0.7302807486631017\n",
      "Lung Opacity   0.8398190045248869\n",
      "Lung Lesion   0.0\n",
      "Edema   0.8999999999999999\n",
      "Consolidation   0.8632352941176471\n",
      "Pneumonia   0.82409793814433\n",
      "Atelectasis   0.791496062992126\n",
      "Pneumothorax   0.8249084249084248\n",
      "Pleural Effusion   0.8367300724637682\n",
      "Pleural Other   0.845771144278607\n",
      "Fracture   0.7089340001961362\n"
     ]
    }
   ],
   "source": [
    "path = None\n",
    "outGT, outPRED = CheXpertTrainer.test(model, dataLoaderVal, nnClassCount, path, class_names)"
   ]
  },
  {
   "cell_type": "code",
   "execution_count": 74,
   "id": "a145ae69",
   "metadata": {},
   "outputs": [],
   "source": [
    "load_path = \"model_saved/m-epoch_FL_resnet_vicreg_lp3.pth.tar\"\n",
    "load_model(load_path, model)"
   ]
  },
  {
   "cell_type": "code",
   "execution_count": 75,
   "id": "20408b9b",
   "metadata": {},
   "outputs": [
    {
     "name": "stdout",
     "output_type": "stream",
     "text": [
      "AUROC mean  0.741722452848864\n",
      "No Finding   0.9191433566433567\n",
      "Enlarged Cardiomediastinum   0.5983308787432499\n",
      "Cardiomegaly   0.7274955436720142\n",
      "Lung Opacity   0.8510809451985922\n",
      "Lung Lesion   0.0\n",
      "Edema   0.9007440476190476\n",
      "Consolidation   0.8595588235294118\n",
      "Pneumonia   0.8260309278350516\n",
      "Atelectasis   0.791286089238845\n",
      "Pneumothorax   0.7985347985347985\n",
      "Pleural Effusion   0.846580615942029\n",
      "Pleural Other   0.8109452736318408\n",
      "Fracture   0.7126605864469943\n"
     ]
    }
   ],
   "source": [
    "path = None\n",
    "outGT, outPRED = CheXpertTrainer.test(model, dataLoaderVal, nnClassCount, path, class_names)"
   ]
  },
  {
   "cell_type": "markdown",
   "id": "f8706b4f",
   "metadata": {},
   "source": [
    "## SIMCLR"
   ]
  },
  {
   "cell_type": "code",
   "execution_count": 76,
   "id": "8a64f5c8",
   "metadata": {
    "scrolled": true
   },
   "outputs": [],
   "source": [
    "load_path = \"model_saved/m-epoch_FL_resnet_simclr_lp1.pth.tar\"\n",
    "load_model(load_path, model)"
   ]
  },
  {
   "cell_type": "code",
   "execution_count": 77,
   "id": "b9837d43",
   "metadata": {},
   "outputs": [
    {
     "name": "stdout",
     "output_type": "stream",
     "text": [
      "AUROC mean  0.7426349191011945\n",
      "No Finding   0.9036276223776224\n",
      "Enlarged Cardiomediastinum   0.5560137457044674\n",
      "Cardiomegaly   0.7540106951871658\n",
      "Lung Opacity   0.844746103569633\n",
      "Lung Lesion   0.00995024875621886\n",
      "Edema   0.9081845238095237\n",
      "Consolidation   0.8448529411764706\n",
      "Pneumonia   0.7789948453608246\n",
      "Atelectasis   0.7870866141732284\n",
      "Pneumothorax   0.8695970695970695\n",
      "Pleural Effusion   0.8594882246376812\n",
      "Pleural Other   0.8159203980099503\n",
      "Fracture   0.7217809159556733\n"
     ]
    }
   ],
   "source": [
    "path = None\n",
    "outGT, outPRED = CheXpertTrainer.test(model, dataLoaderVal, nnClassCount, path, class_names)"
   ]
  },
  {
   "cell_type": "code",
   "execution_count": 78,
   "id": "5d7951e1",
   "metadata": {},
   "outputs": [],
   "source": [
    "load_path = \"model_saved/m-epoch_FL_resnet_simclr_lp2.pth.tar\"\n",
    "load_model(load_path, model)"
   ]
  },
  {
   "cell_type": "code",
   "execution_count": 79,
   "id": "44dee4a6",
   "metadata": {
    "scrolled": true
   },
   "outputs": [
    {
     "name": "stdout",
     "output_type": "stream",
     "text": [
      "AUROC mean  0.7424789327341933\n",
      "No Finding   0.8977272727272727\n",
      "Enlarged Cardiomediastinum   0.5472754050073638\n",
      "Cardiomegaly   0.7663770053475936\n",
      "Lung Opacity   0.8582202111613876\n",
      "Lung Lesion   0.00995024875621886\n",
      "Edema   0.9107142857142857\n",
      "Consolidation   0.8511029411764706\n",
      "Pneumonia   0.7725515463917525\n",
      "Atelectasis   0.7886614173228345\n",
      "Pneumothorax   0.8600732600732601\n",
      "Pleural Effusion   0.8633378623188406\n",
      "Pleural Other   0.7960199004975125\n",
      "Fracture   0.7302147690497205\n"
     ]
    }
   ],
   "source": [
    "path = None\n",
    "outGT, outPRED = CheXpertTrainer.test(model, dataLoaderVal, nnClassCount, path, class_names)"
   ]
  },
  {
   "cell_type": "code",
   "execution_count": 80,
   "id": "ba554dc2",
   "metadata": {},
   "outputs": [],
   "source": [
    "load_path = \"model_saved/m-epoch_FL_resnet_simclr_lp3.pth.tar\"\n",
    "load_model(load_path, model)"
   ]
  },
  {
   "cell_type": "code",
   "execution_count": 81,
   "id": "9394a760",
   "metadata": {},
   "outputs": [
    {
     "name": "stdout",
     "output_type": "stream",
     "text": [
      "AUROC mean  0.7420404182204514\n",
      "No Finding   0.9014423076923077\n",
      "Enlarged Cardiomediastinum   0.5640648011782032\n",
      "Cardiomegaly   0.7584670231729055\n",
      "Lung Opacity   0.8564102564102565\n",
      "Lung Lesion   0.00497512437810943\n",
      "Edema   0.9138392857142856\n",
      "Consolidation   0.8544117647058824\n",
      "Pneumonia   0.776417525773196\n",
      "Atelectasis   0.7844619422572179\n",
      "Pneumothorax   0.8454212454212454\n",
      "Pleural Effusion   0.8677536231884058\n",
      "Pleural Other   0.7810945273631841\n",
      "Fracture   0.7377660096106698\n"
     ]
    }
   ],
   "source": [
    "path = None\n",
    "outGT, outPRED = CheXpertTrainer.test(model, dataLoaderVal, nnClassCount, path, class_names)"
   ]
  },
  {
   "cell_type": "markdown",
   "id": "8f1a58e9",
   "metadata": {},
   "source": [
    "## SLIP VICREG"
   ]
  },
  {
   "cell_type": "code",
   "execution_count": 82,
   "id": "bcdd7c52",
   "metadata": {},
   "outputs": [],
   "source": [
    "load_path = \"model_saved/m-epoch_FL_resnet_slip_vicreg_lp1.pth.tar\"\n",
    "load_model(load_path, model)"
   ]
  },
  {
   "cell_type": "code",
   "execution_count": 83,
   "id": "6a0cd757",
   "metadata": {},
   "outputs": [
    {
     "name": "stdout",
     "output_type": "stream",
     "text": [
      "AUROC mean  0.7264217392332301\n",
      "No Finding   0.9134615384615383\n",
      "Enlarged Cardiomediastinum   0.5010309278350515\n",
      "Cardiomegaly   0.7697192513368984\n",
      "Lung Opacity   0.8518853695324283\n",
      "Lung Lesion   0.00995024875621886\n",
      "Edema   0.8660714285714285\n",
      "Consolidation   0.8485294117647059\n",
      "Pneumonia   0.8234536082474228\n",
      "Atelectasis   0.8048293963254594\n",
      "Pneumothorax   0.7860805860805861\n",
      "Pleural Effusion   0.8290307971014492\n",
      "Pleural Other   0.7412935323383085\n",
      "Fracture   0.6981465136804943\n"
     ]
    }
   ],
   "source": [
    "path = None\n",
    "outGT, outPRED = CheXpertTrainer.test(model, dataLoaderVal, nnClassCount, path, class_names)"
   ]
  },
  {
   "cell_type": "code",
   "execution_count": 84,
   "id": "0ff3ff33",
   "metadata": {},
   "outputs": [],
   "source": [
    "load_path = \"model_saved/m-epoch_FL_resnet_slip_vicreg_lp2.pth.tar\"\n",
    "load_model(load_path, model)"
   ]
  },
  {
   "cell_type": "code",
   "execution_count": 85,
   "id": "0e0b8b9b",
   "metadata": {},
   "outputs": [
    {
     "name": "stdout",
     "output_type": "stream",
     "text": [
      "AUROC mean  0.7327521256297762\n",
      "No Finding   0.9138986013986015\n",
      "Enlarged Cardiomediastinum   0.5478645066273932\n",
      "Cardiomegaly   0.7723930481283422\n",
      "Lung Opacity   0.8570135746606334\n",
      "Lung Lesion   0.00995024875621886\n",
      "Edema   0.8755952380952381\n",
      "Consolidation   0.8568014705882353\n",
      "Pneumonia   0.8234536082474226\n",
      "Atelectasis   0.8032545931758531\n",
      "Pneumothorax   0.7897435897435897\n",
      "Pleural Effusion   0.8387681159420289\n",
      "Pleural Other   0.7313432835820896\n",
      "Fracture   0.7056977542414435\n"
     ]
    }
   ],
   "source": [
    "path = None\n",
    "outGT, outPRED = CheXpertTrainer.test(model, dataLoaderVal, nnClassCount, path, class_names)"
   ]
  },
  {
   "cell_type": "code",
   "execution_count": 86,
   "id": "99b2fdcb",
   "metadata": {},
   "outputs": [],
   "source": [
    "load_path = \"model_saved/m-epoch_FL_resnet_slip_vicreg_lp3.pth.tar\"\n",
    "load_model(load_path, model)"
   ]
  },
  {
   "cell_type": "code",
   "execution_count": 87,
   "id": "14023cb1",
   "metadata": {},
   "outputs": [
    {
     "name": "stdout",
     "output_type": "stream",
     "text": [
      "AUROC mean  0.7372218977129171\n",
      "No Finding   0.913243006993007\n",
      "Enlarged Cardiomediastinum   0.5701521845851742\n",
      "Cardiomegaly   0.7691622103386809\n",
      "Lung Opacity   0.8597285067873303\n",
      "Lung Lesion   0.00995024875621886\n",
      "Edema   0.8846726190476191\n",
      "Consolidation   0.859375\n",
      "Pneumonia   0.8202319587628866\n",
      "Atelectasis   0.8026246719160105\n",
      "Pneumothorax   0.8014652014652015\n",
      "Pleural Effusion   0.8427309782608696\n",
      "Pleural Other   0.736318407960199\n",
      "Fracture   0.714229675394724\n"
     ]
    }
   ],
   "source": [
    "path = None\n",
    "outGT, outPRED = CheXpertTrainer.test(model, dataLoaderVal, nnClassCount, path, class_names)"
   ]
  },
  {
   "cell_type": "markdown",
   "id": "4ed1b957",
   "metadata": {},
   "source": [
    "## SLIP SIMCLR"
   ]
  },
  {
   "cell_type": "code",
   "execution_count": 88,
   "id": "3cf4338d",
   "metadata": {},
   "outputs": [],
   "source": [
    "load_path = \"model_saved/m-epoch_FL_resnet_slip_simclr_lp1.pth.tar\"\n",
    "load_model(load_path, model)"
   ]
  },
  {
   "cell_type": "code",
   "execution_count": 89,
   "id": "6df93eaf",
   "metadata": {},
   "outputs": [
    {
     "name": "stdout",
     "output_type": "stream",
     "text": [
      "AUROC mean  0.7495057706267672\n",
      "No Finding   0.9040646853146853\n",
      "Enlarged Cardiomediastinum   0.5833087874324988\n",
      "Cardiomegaly   0.7719474153297683\n",
      "Lung Opacity   0.8530920060331825\n",
      "Lung Lesion   0.07462686567164178\n",
      "Edema   0.8976190476190476\n",
      "Consolidation   0.8476102941176471\n",
      "Pneumonia   0.8408505154639174\n",
      "Atelectasis   0.7939107611548557\n",
      "Pneumothorax   0.8373626373626373\n",
      "Pleural Effusion   0.8471467391304348\n",
      "Pleural Other   0.791044776119403\n",
      "Fracture   0.7009904873982544\n"
     ]
    }
   ],
   "source": [
    "path = None\n",
    "outGT, outPRED = CheXpertTrainer.test(model, dataLoaderVal, nnClassCount, path, class_names)"
   ]
  },
  {
   "cell_type": "code",
   "execution_count": 90,
   "id": "957e440b",
   "metadata": {},
   "outputs": [],
   "source": [
    "load_path = \"model_saved/m-epoch_FL_resnet_slip_simclr_lp2.pth.tar\"\n",
    "load_model(load_path, model)"
   ]
  },
  {
   "cell_type": "code",
   "execution_count": 91,
   "id": "182a942e",
   "metadata": {},
   "outputs": [
    {
     "name": "stdout",
     "output_type": "stream",
     "text": [
      "AUROC mean  0.7536501111799981\n",
      "No Finding   0.9079982517482517\n",
      "Enlarged Cardiomediastinum   0.5868433971526755\n",
      "Cardiomegaly   0.7692736185383244\n",
      "Lung Opacity   0.8578179989944695\n",
      "Lung Lesion   0.05472636815920395\n",
      "Edema   0.9074404761904762\n",
      "Consolidation   0.8523897058823531\n",
      "Pneumonia   0.821520618556701\n",
      "Atelectasis   0.7956955380577427\n",
      "Pneumothorax   0.8454212454212454\n",
      "Pleural Effusion   0.8519021739130435\n",
      "Pleural Other   0.835820895522388\n",
      "Fracture   0.7106011572030989\n"
     ]
    }
   ],
   "source": [
    "path = None\n",
    "outGT, outPRED = CheXpertTrainer.test(model, dataLoaderVal, nnClassCount, path, class_names)"
   ]
  },
  {
   "cell_type": "code",
   "execution_count": 92,
   "id": "3ec4003b",
   "metadata": {},
   "outputs": [],
   "source": [
    "load_path = \"model_saved/m-epoch_FL_resnet_slip_simclr_lp3.pth.tar\"\n",
    "load_model(load_path, model)"
   ]
  },
  {
   "cell_type": "code",
   "execution_count": 93,
   "id": "d7717a7a",
   "metadata": {
    "scrolled": true
   },
   "outputs": [
    {
     "name": "stdout",
     "output_type": "stream",
     "text": [
      "AUROC mean  0.7533132684209467\n",
      "No Finding   0.9130244755244755\n",
      "Enlarged Cardiomediastinum   0.5886107020127639\n",
      "Cardiomegaly   0.7604723707664883\n",
      "Lung Opacity   0.8571141277023631\n",
      "Lung Lesion   0.04477611940298509\n",
      "Edema   0.9089285714285714\n",
      "Consolidation   0.8591911764705883\n",
      "Pneumonia   0.8131443298969073\n",
      "Atelectasis   0.789501312335958\n",
      "Pneumothorax   0.8358974358974358\n",
      "Pleural Effusion   0.8588088768115942\n",
      "Pleural Other   0.8507462686567164\n",
      "Fracture   0.7128567225654605\n"
     ]
    }
   ],
   "source": [
    "path = None\n",
    "outGT, outPRED = CheXpertTrainer.test(model, dataLoaderVal, nnClassCount, path, class_names)"
   ]
  },
  {
   "cell_type": "markdown",
   "id": "3b101b87",
   "metadata": {},
   "source": [
    "# DENSENET"
   ]
  },
  {
   "cell_type": "code",
   "execution_count": 46,
   "id": "ec2b460d",
   "metadata": {},
   "outputs": [],
   "source": [
    "size = 121\n",
    "features_dim = 2048\n",
    "out_size = 14\n",
    "\n",
    "model = densenet_model(size, features_dim, out_size, pretrained=True).cuda() # Step 0: Initialize global model and load the model\n",
    "model = torch.nn.DataParallel(model).cuda()\n",
    "#model = model.cuda()"
   ]
  },
  {
   "cell_type": "code",
   "execution_count": 47,
   "id": "a9b1eed1",
   "metadata": {},
   "outputs": [
    {
     "name": "stdout",
     "output_type": "stream",
     "text": [
      "Performance_Check.ipynb  \u001b[0m\u001b[38;5;9mm-epoch_FL2.pth.tar\u001b[0m         \u001b[38;5;9mm-epoch_FL_ResNet3.pth.tar\u001b[0m\r\n",
      "\u001b[38;5;33m__pycache__\u001b[0m/             \u001b[38;5;9mm-epoch_FL3.pth.tar\u001b[0m         \u001b[38;5;33mmodel_saved\u001b[0m/\r\n",
      "base3.py                 \u001b[38;5;9mm-epoch_FL_ResNet1.pth.tar\u001b[0m  train_mod.csv\r\n",
      "\u001b[38;5;9mm-epoch_FL1.pth.tar\u001b[0m      \u001b[38;5;9mm-epoch_FL_ResNet2.pth.tar\u001b[0m  valid_mod.csv\r\n"
     ]
    }
   ],
   "source": [
    "ls"
   ]
  },
  {
   "cell_type": "code",
   "execution_count": 48,
   "id": "af16359b",
   "metadata": {},
   "outputs": [],
   "source": [
    "def load_model(load_path, model):\n",
    "    load_path = load_path\n",
    "    checkpoint = torch.load(load_path)\n",
    "    state_dict = {k.replace(\"img_backbone.\", \"module.\"): v for k, v in checkpoint['state_dict'].items()}\n",
    "    model.load_state_dict(state_dict, strict=False)"
   ]
  },
  {
   "cell_type": "markdown",
   "id": "f58b5c04",
   "metadata": {},
   "source": [
    "## Original"
   ]
  },
  {
   "cell_type": "code",
   "execution_count": 49,
   "id": "fef9e080",
   "metadata": {},
   "outputs": [],
   "source": [
    "load_path = \"model_saved/m-epoch_FL_densenet1.pth.tar\"\n",
    "load_model(load_path, model)"
   ]
  },
  {
   "cell_type": "code",
   "execution_count": 50,
   "id": "9bb57df6",
   "metadata": {},
   "outputs": [
    {
     "name": "stdout",
     "output_type": "stream",
     "text": [
      "AUROC mean  0.8228874986115555\n",
      "No Finding   0.9071241258741258\n",
      "Enlarged Cardiomediastinum   0.5201767304860089\n",
      "Cardiomegaly   0.8358957219251337\n",
      "Lung Opacity   0.9156359979889391\n",
      "Lung Lesion   0.34328358208955223\n",
      "Edema   0.9342261904761905\n",
      "Consolidation   0.8536764705882354\n",
      "Pneumonia   0.8395618556701031\n",
      "Atelectasis   0.8192125984251969\n",
      "Pneumothorax   0.9472527472527472\n",
      "Pleural Effusion   0.9311594202898551\n",
      "Pleural Other   0.9104477611940298\n",
      "Fracture   0.9398842796901049\n"
     ]
    }
   ],
   "source": [
    "path = None\n",
    "outGT, outPRED = CheXpertTrainer.test(model, dataLoaderVal, nnClassCount, path, class_names)"
   ]
  },
  {
   "cell_type": "code",
   "execution_count": 51,
   "id": "679dd1e6",
   "metadata": {},
   "outputs": [],
   "source": [
    "load_path = \"model_saved/m-epoch_FL_densenet2.pth.tar\"\n",
    "load_model(load_path, model)"
   ]
  },
  {
   "cell_type": "code",
   "execution_count": 52,
   "id": "a4e213e5",
   "metadata": {
    "scrolled": true
   },
   "outputs": [
    {
     "name": "stdout",
     "output_type": "stream",
     "text": [
      "AUROC mean  0.7934229595768966\n",
      "No Finding   0.9112762237762237\n",
      "Enlarged Cardiomediastinum   0.4650957290132548\n",
      "Cardiomegaly   0.7631461675579323\n",
      "Lung Opacity   0.9166415284062344\n",
      "Lung Lesion   0.29850746268656714\n",
      "Edema   0.9525297619047619\n",
      "Consolidation   0.8284926470588235\n",
      "Pneumonia   0.714561855670103\n",
      "Atelectasis   0.8035695538057743\n",
      "Pneumothorax   0.9164835164835164\n",
      "Pleural Effusion   0.9421422101449275\n",
      "Pleural Other   0.8606965174129353\n",
      "Fracture   0.9413553005786015\n"
     ]
    }
   ],
   "source": [
    "path = None\n",
    "outGT, outPRED = CheXpertTrainer.test(model, dataLoaderVal, nnClassCount, path, class_names)"
   ]
  },
  {
   "cell_type": "code",
   "execution_count": 53,
   "id": "5ca50633",
   "metadata": {},
   "outputs": [],
   "source": [
    "load_path = \"model_saved/m-epoch_FL_densenet3.pth.tar\"\n",
    "load_model(load_path, model)"
   ]
  },
  {
   "cell_type": "code",
   "execution_count": 54,
   "id": "9554da85",
   "metadata": {
    "scrolled": true
   },
   "outputs": [
    {
     "name": "stdout",
     "output_type": "stream",
     "text": [
      "AUROC mean  0.8654556482082858\n",
      "No Finding   0.895104895104895\n",
      "Enlarged Cardiomediastinum   0.6635247913598429\n",
      "Cardiomegaly   0.827874331550802\n",
      "Lung Opacity   0.902262443438914\n",
      "Lung Lesion   0.7960199004975125\n",
      "Edema   0.9450892857142857\n",
      "Consolidation   0.8650735294117646\n",
      "Pneumonia   0.7693298969072164\n",
      "Atelectasis   0.8415748031496063\n",
      "Pneumothorax   0.9106227106227107\n",
      "Pleural Effusion   0.9279891304347826\n",
      "Pleural Other   0.9601990049751243\n",
      "Fracture   0.946258703540257\n"
     ]
    }
   ],
   "source": [
    "path = None\n",
    "outGT, outPRED = CheXpertTrainer.test(model, dataLoaderVal, nnClassCount, path, class_names)"
   ]
  },
  {
   "cell_type": "markdown",
   "id": "a468a2f0",
   "metadata": {},
   "source": [
    "## CLIP"
   ]
  },
  {
   "cell_type": "code",
   "execution_count": 111,
   "id": "fef9e080",
   "metadata": {},
   "outputs": [],
   "source": [
    "load_path = \"model_saved/m-epoch_FL_densenet_clip1.pth.tar\"\n",
    "load_model(load_path, model)"
   ]
  },
  {
   "cell_type": "code",
   "execution_count": 112,
   "id": "52597064",
   "metadata": {},
   "outputs": [
    {
     "name": "stdout",
     "output_type": "stream",
     "text": [
      "AUROC mean  0.7389302173835564\n",
      "No Finding   0.8990384615384615\n",
      "Enlarged Cardiomediastinum   0.3363770250368189\n",
      "Cardiomegaly   0.7999108734402852\n",
      "Lung Opacity   0.8751131221719457\n",
      "Lung Lesion   0.07960199004975121\n",
      "Edema   0.9239583333333333\n",
      "Consolidation   0.8292279411764705\n",
      "Pneumonia   0.7667525773195876\n",
      "Atelectasis   0.7780577427821522\n",
      "Pneumothorax   0.736996336996337\n",
      "Pleural Effusion   0.8945878623188406\n",
      "Pleural Other   0.8159203980099503\n",
      "Fracture   0.8705501618122977\n"
     ]
    }
   ],
   "source": [
    "path = None\n",
    "outGT, outPRED = CheXpertTrainer.test(model, dataLoaderVal, nnClassCount, path, class_names)"
   ]
  },
  {
   "cell_type": "code",
   "execution_count": 113,
   "id": "5795df77",
   "metadata": {},
   "outputs": [],
   "source": [
    "load_path = \"model_saved/m-epoch_FL_densenet_clip2.pth.tar\"\n",
    "load_model(load_path, model)"
   ]
  },
  {
   "cell_type": "code",
   "execution_count": 114,
   "id": "836d28f7",
   "metadata": {
    "scrolled": true
   },
   "outputs": [
    {
     "name": "stdout",
     "output_type": "stream",
     "text": [
      "AUROC mean  0.7908817588008369\n",
      "No Finding   0.9049388111888111\n",
      "Enlarged Cardiomediastinum   0.6050073637702504\n",
      "Cardiomegaly   0.8073752228163992\n",
      "Lung Opacity   0.8957264957264958\n",
      "Lung Lesion   0.1691542288557214\n",
      "Edema   0.9233630952380952\n",
      "Consolidation   0.8487132352941176\n",
      "Pneumonia   0.7989690721649485\n",
      "Atelectasis   0.7980052493438321\n",
      "Pneumothorax   0.7736263736263735\n",
      "Pleural Effusion   0.9209692028985507\n",
      "Pleural Other   0.9303482587064676\n",
      "Fracture   0.9052662547808179\n"
     ]
    }
   ],
   "source": [
    "path = None\n",
    "outGT, outPRED = CheXpertTrainer.test(model, dataLoaderVal, nnClassCount, path, class_names)"
   ]
  },
  {
   "cell_type": "code",
   "execution_count": 115,
   "id": "5ca50633",
   "metadata": {},
   "outputs": [],
   "source": [
    "load_path = \"model_saved/m-epoch_FL_densenet_clip3.pth.tar\"\n",
    "load_model(load_path, model)"
   ]
  },
  {
   "cell_type": "code",
   "execution_count": 116,
   "id": "9554da85",
   "metadata": {
    "scrolled": true
   },
   "outputs": [
    {
     "name": "stdout",
     "output_type": "stream",
     "text": [
      "AUROC mean  0.8056834784890387\n",
      "No Finding   0.913243006993007\n",
      "Enlarged Cardiomediastinum   0.5740795287187039\n",
      "Cardiomegaly   0.8265374331550801\n",
      "Lung Opacity   0.9117144293614882\n",
      "Lung Lesion   0.07462686567164178\n",
      "Edema   0.9313988095238095\n",
      "Consolidation   0.8821691176470587\n",
      "Pneumonia   0.8859536082474228\n",
      "Atelectasis   0.8358005249343833\n",
      "Pneumothorax   0.852014652014652\n",
      "Pleural Effusion   0.9144021739130435\n",
      "Pleural Other   0.9402985074626866\n",
      "Fracture   0.931646562714524\n"
     ]
    }
   ],
   "source": [
    "path = None\n",
    "outGT, outPRED = CheXpertTrainer.test(model, dataLoaderVal, nnClassCount, path, class_names)"
   ]
  },
  {
   "cell_type": "markdown",
   "id": "b6d3f55c",
   "metadata": {},
   "source": [
    "## VICREG"
   ]
  },
  {
   "cell_type": "code",
   "execution_count": 135,
   "id": "fef9e080",
   "metadata": {},
   "outputs": [],
   "source": [
    "load_path = \"model_saved/m-epoch_FL_densenet_vicreg1.pth.tar\"\n",
    "load_model(load_path, model)"
   ]
  },
  {
   "cell_type": "code",
   "execution_count": 136,
   "id": "52597064",
   "metadata": {},
   "outputs": [
    {
     "name": "stdout",
     "output_type": "stream",
     "text": [
      "AUROC mean  0.7523419123478561\n",
      "No Finding   0.9066870629370629\n",
      "Enlarged Cardiomediastinum   0.40314187530682377\n",
      "Cardiomegaly   0.8590686274509804\n",
      "Lung Opacity   0.8968325791855204\n",
      "Lung Lesion   0.1990049751243781\n",
      "Edema   0.9375\n",
      "Consolidation   0.8147058823529412\n",
      "Pneumonia   0.6623711340206185\n",
      "Atelectasis   0.7829921259842519\n",
      "Pneumothorax   0.7772893772893773\n",
      "Pleural Effusion   0.9215353260869565\n",
      "Pleural Other   0.7562189054726368\n",
      "Fracture   0.8630969893105817\n"
     ]
    }
   ],
   "source": [
    "path = None\n",
    "outGT, outPRED = CheXpertTrainer.test(model, dataLoaderVal, nnClassCount, path, class_names)"
   ]
  },
  {
   "cell_type": "code",
   "execution_count": 137,
   "id": "5795df77",
   "metadata": {},
   "outputs": [],
   "source": [
    "load_path = \"model_saved/m-epoch_FL_densenet_vicreg2.pth.tar\"\n",
    "load_model(load_path, model)"
   ]
  },
  {
   "cell_type": "code",
   "execution_count": 138,
   "id": "836d28f7",
   "metadata": {
    "scrolled": true
   },
   "outputs": [
    {
     "name": "stdout",
     "output_type": "stream",
     "text": [
      "AUROC mean  0.8482944260468278\n",
      "No Finding   0.8981643356643356\n",
      "Enlarged Cardiomediastinum   0.6233676975945017\n",
      "Cardiomegaly   0.8331105169340464\n",
      "Lung Opacity   0.9084967320261438\n",
      "Lung Lesion   0.7860696517412935\n",
      "Edema   0.9370535714285713\n",
      "Consolidation   0.8545955882352942\n",
      "Pneumonia   0.7403350515463918\n",
      "Atelectasis   0.7951706036745407\n",
      "Pneumothorax   0.8241758241758241\n",
      "Pleural Effusion   0.928328804347826\n",
      "Pleural Other   0.9502487562189055\n",
      "Fracture   0.9487104050210846\n"
     ]
    }
   ],
   "source": [
    "path = None\n",
    "outGT, outPRED = CheXpertTrainer.test(model, dataLoaderVal, nnClassCount, path, class_names)"
   ]
  },
  {
   "cell_type": "code",
   "execution_count": 139,
   "id": "5ca50633",
   "metadata": {},
   "outputs": [],
   "source": [
    "load_path = \"model_saved/m-epoch_FL_densenet_vicreg3.pth.tar\"\n",
    "load_model(load_path, model)"
   ]
  },
  {
   "cell_type": "code",
   "execution_count": 140,
   "id": "9554da85",
   "metadata": {
    "scrolled": true
   },
   "outputs": [
    {
     "name": "stdout",
     "output_type": "stream",
     "text": [
      "AUROC mean  0.8253546756484231\n",
      "No Finding   0.8830856643356644\n",
      "Enlarged Cardiomediastinum   0.6073637702503683\n",
      "Cardiomegaly   0.8594028520499108\n",
      "Lung Opacity   0.9040723981900453\n",
      "Lung Lesion   0.4776119402985075\n",
      "Edema   0.9208333333333333\n",
      "Consolidation   0.8555147058823529\n",
      "Pneumonia   0.8099226804123711\n",
      "Atelectasis   0.7982152230971129\n",
      "Pneumothorax   0.8227106227106227\n",
      "Pleural Effusion   0.9150815217391304\n",
      "Pleural Other   0.9353233830845771\n",
      "Fracture   0.9404726880455035\n"
     ]
    }
   ],
   "source": [
    "path = None\n",
    "outGT, outPRED = CheXpertTrainer.test(model, dataLoaderVal, nnClassCount, path, class_names)"
   ]
  },
  {
   "cell_type": "markdown",
   "id": "d3ead791",
   "metadata": {},
   "source": [
    "## SIMCLR"
   ]
  },
  {
   "cell_type": "code",
   "execution_count": 129,
   "id": "fb4eda56",
   "metadata": {
    "scrolled": true
   },
   "outputs": [],
   "source": [
    "load_path = \"model_saved/m-epoch_FL_densenet_simclr1.pth.tar\"\n",
    "load_model(load_path, model)"
   ]
  },
  {
   "cell_type": "code",
   "execution_count": 130,
   "id": "52597064",
   "metadata": {},
   "outputs": [
    {
     "name": "stdout",
     "output_type": "stream",
     "text": [
      "AUROC mean  0.7729825985668243\n",
      "No Finding   0.9007867132867133\n",
      "Enlarged Cardiomediastinum   0.4418262150220913\n",
      "Cardiomegaly   0.8294340463458111\n",
      "Lung Opacity   0.9097033685268979\n",
      "Lung Lesion   0.30348258706467657\n",
      "Edema   0.9311011904761906\n",
      "Consolidation   0.8500000000000001\n",
      "Pneumonia   0.6726804123711341\n",
      "Atelectasis   0.7781627296587926\n",
      "Pneumothorax   0.7882783882783883\n",
      "Pleural Effusion   0.9213088768115942\n",
      "Pleural Other   0.845771144278607\n",
      "Fracture   0.876238109247818\n"
     ]
    }
   ],
   "source": [
    "path = None\n",
    "outGT, outPRED = CheXpertTrainer.test(model, dataLoaderVal, nnClassCount, path, class_names)"
   ]
  },
  {
   "cell_type": "code",
   "execution_count": 131,
   "id": "5795df77",
   "metadata": {},
   "outputs": [],
   "source": [
    "load_path = \"model_saved/m-epoch_FL_densenet_simclr2.pth.tar\"\n",
    "load_model(load_path, model)"
   ]
  },
  {
   "cell_type": "code",
   "execution_count": 132,
   "id": "836d28f7",
   "metadata": {
    "scrolled": true
   },
   "outputs": [
    {
     "name": "stdout",
     "output_type": "stream",
     "text": [
      "AUROC mean  0.8318510128055566\n",
      "No Finding   0.8968531468531469\n",
      "Enlarged Cardiomediastinum   0.636033382425135\n",
      "Cardiomegaly   0.8177361853832442\n",
      "Lung Opacity   0.8997486173956762\n",
      "Lung Lesion   0.6766169154228856\n",
      "Edema   0.9264880952380952\n",
      "Consolidation   0.8255514705882352\n",
      "Pneumonia   0.7119845360824741\n",
      "Atelectasis   0.7483464566929133\n",
      "Pneumothorax   0.841025641025641\n",
      "Pleural Effusion   0.9239130434782609\n",
      "Pleural Other   0.9651741293532339\n",
      "Fracture   0.9445915465332941\n"
     ]
    }
   ],
   "source": [
    "path = None\n",
    "outGT, outPRED = CheXpertTrainer.test(model, dataLoaderVal, nnClassCount, path, class_names)"
   ]
  },
  {
   "cell_type": "code",
   "execution_count": 133,
   "id": "5ca50633",
   "metadata": {},
   "outputs": [],
   "source": [
    "load_path = \"model_saved/m-epoch_FL_densenet_simclr3.pth.tar\"\n",
    "load_model(load_path, model)"
   ]
  },
  {
   "cell_type": "code",
   "execution_count": 134,
   "id": "9554da85",
   "metadata": {},
   "outputs": [
    {
     "name": "stdout",
     "output_type": "stream",
     "text": [
      "AUROC mean  0.8431031390187983\n",
      "No Finding   0.8881118881118881\n",
      "Enlarged Cardiomediastinum   0.620225822287678\n",
      "Cardiomegaly   0.8270944741532977\n",
      "Lung Opacity   0.9134238310708899\n",
      "Lung Lesion   0.5124378109452736\n",
      "Edema   0.9436011904761904\n",
      "Consolidation   0.8624999999999999\n",
      "Pneumonia   0.8099226804123711\n",
      "Atelectasis   0.8183727034120736\n",
      "Pneumothorax   0.9362637362637363\n",
      "Pleural Effusion   0.9176856884057971\n",
      "Pleural Other   0.9552238805970149\n",
      "Fracture   0.9554771011081691\n"
     ]
    }
   ],
   "source": [
    "path = None\n",
    "outGT, outPRED = CheXpertTrainer.test(model, dataLoaderVal, nnClassCount, path, class_names)"
   ]
  },
  {
   "cell_type": "markdown",
   "id": "8f1a58e9",
   "metadata": {},
   "source": [
    "## SLIP VICREG"
   ]
  },
  {
   "cell_type": "code",
   "execution_count": 123,
   "id": "bcdd7c52",
   "metadata": {},
   "outputs": [],
   "source": [
    "load_path = \"model_saved/m-epoch_FL_densenet_slip_vicreg1.pth.tar\"\n",
    "load_model(load_path, model)"
   ]
  },
  {
   "cell_type": "code",
   "execution_count": 124,
   "id": "6a0cd757",
   "metadata": {},
   "outputs": [
    {
     "name": "stdout",
     "output_type": "stream",
     "text": [
      "AUROC mean  0.7941205250103034\n",
      "No Finding   0.9073426573426573\n",
      "Enlarged Cardiomediastinum   0.4893470790378007\n",
      "Cardiomegaly   0.8384581105169341\n",
      "Lung Opacity   0.8921065862242333\n",
      "Lung Lesion   0.3681592039800995\n",
      "Edema   0.9282738095238096\n",
      "Consolidation   0.8446691176470589\n",
      "Pneumonia   0.652061855670103\n",
      "Atelectasis   0.793490813648294\n",
      "Pneumothorax   0.873992673992674\n",
      "Pleural Effusion   0.9277626811594202\n",
      "Pleural Other   0.8855721393034826\n",
      "Fracture   0.9223300970873786\n"
     ]
    }
   ],
   "source": [
    "path = None\n",
    "outGT, outPRED = CheXpertTrainer.test(model, dataLoaderVal, nnClassCount, path, class_names)"
   ]
  },
  {
   "cell_type": "code",
   "execution_count": 125,
   "id": "0ff3ff33",
   "metadata": {},
   "outputs": [],
   "source": [
    "load_path = \"model_saved/m-epoch_FL_densenet_slip_vicreg2.pth.tar\"\n",
    "load_model(load_path, model)"
   ]
  },
  {
   "cell_type": "code",
   "execution_count": 126,
   "id": "0e0b8b9b",
   "metadata": {},
   "outputs": [
    {
     "name": "stdout",
     "output_type": "stream",
     "text": [
      "AUROC mean  0.8360058545984561\n",
      "No Finding   0.9060314685314685\n",
      "Enlarged Cardiomediastinum   0.538831615120275\n",
      "Cardiomegaly   0.8316622103386809\n",
      "Lung Opacity   0.9004524886877828\n",
      "Lung Lesion   0.7761194029850746\n",
      "Edema   0.934970238095238\n",
      "Consolidation   0.8369485294117647\n",
      "Pneumonia   0.7164948453608248\n",
      "Atelectasis   0.7535958005249344\n",
      "Pneumothorax   0.8637362637362638\n",
      "Pleural Effusion   0.9302536231884058\n",
      "Pleural Other   0.945273631840796\n",
      "Fracture   0.9337059919584192\n"
     ]
    }
   ],
   "source": [
    "path = None\n",
    "outGT, outPRED = CheXpertTrainer.test(model, dataLoaderVal, nnClassCount, path, class_names)"
   ]
  },
  {
   "cell_type": "code",
   "execution_count": 127,
   "id": "99b2fdcb",
   "metadata": {},
   "outputs": [],
   "source": [
    "load_path = \"model_saved/m-epoch_FL_densenet_slip_vicreg3.pth.tar\"\n",
    "load_model(load_path, model)"
   ]
  },
  {
   "cell_type": "code",
   "execution_count": 128,
   "id": "14023cb1",
   "metadata": {},
   "outputs": [
    {
     "name": "stdout",
     "output_type": "stream",
     "text": [
      "AUROC mean  0.8472015685713887\n",
      "No Finding   0.896416083916084\n",
      "Enlarged Cardiomediastinum   0.5873343151693667\n",
      "Cardiomegaly   0.8413547237076648\n",
      "Lung Opacity   0.9151332327802916\n",
      "Lung Lesion   0.572139303482587\n",
      "Edema   0.9459821428571429\n",
      "Consolidation   0.8691176470588236\n",
      "Pneumonia   0.8208762886597939\n",
      "Atelectasis   0.7984251968503937\n",
      "Pneumothorax   0.9274725274725275\n",
      "Pleural Effusion   0.9215353260869565\n",
      "Pleural Other   0.9601990049751243\n",
      "Fracture   0.9576345984112974\n"
     ]
    }
   ],
   "source": [
    "path = None\n",
    "outGT, outPRED = CheXpertTrainer.test(model, dataLoaderVal, nnClassCount, path, class_names)"
   ]
  },
  {
   "cell_type": "markdown",
   "id": "db113429",
   "metadata": {},
   "source": [
    "## SLIP SIMCLR"
   ]
  },
  {
   "cell_type": "code",
   "execution_count": 147,
   "id": "bcdd7c52",
   "metadata": {},
   "outputs": [],
   "source": [
    "load_path = \"model_saved/m-epoch_FL_densenet_slip_simclr1.pth.tar\"\n",
    "load_model(load_path, model)"
   ]
  },
  {
   "cell_type": "code",
   "execution_count": 148,
   "id": "6a0cd757",
   "metadata": {},
   "outputs": [
    {
     "name": "stdout",
     "output_type": "stream",
     "text": [
      "AUROC mean  0.7643685908865462\n",
      "No Finding   0.9206730769230769\n",
      "Enlarged Cardiomediastinum   0.42052037309769275\n",
      "Cardiomegaly   0.8547237076648841\n",
      "Lung Opacity   0.8949220713926596\n",
      "Lung Lesion   0.24378109452736318\n",
      "Edema   0.9200892857142856\n",
      "Consolidation   0.8494485294117647\n",
      "Pneumonia   0.5663659793814433\n",
      "Atelectasis   0.7596850393700788\n",
      "Pneumothorax   0.8336996336996336\n",
      "Pleural Effusion   0.9227807971014493\n",
      "Pleural Other   0.8557213930348259\n",
      "Fracture   0.894380700205943\n"
     ]
    }
   ],
   "source": [
    "path = None\n",
    "outGT, outPRED = CheXpertTrainer.test(model, dataLoaderVal, nnClassCount, path, class_names)"
   ]
  },
  {
   "cell_type": "code",
   "execution_count": 149,
   "id": "0ff3ff33",
   "metadata": {},
   "outputs": [],
   "source": [
    "load_path = \"model_saved/m-epoch_FL_densenet_slip_simclr2.pth.tar\"\n",
    "load_model(load_path, model)"
   ]
  },
  {
   "cell_type": "code",
   "execution_count": 150,
   "id": "0e0b8b9b",
   "metadata": {},
   "outputs": [
    {
     "name": "stdout",
     "output_type": "stream",
     "text": [
      "AUROC mean  0.8209386452597754\n",
      "No Finding   0.89881993006993\n",
      "Enlarged Cardiomediastinum   0.5673048600883652\n",
      "Cardiomegaly   0.8194073083778967\n",
      "Lung Opacity   0.9011563599798894\n",
      "Lung Lesion   0.46766169154228854\n",
      "Edema   0.9369047619047619\n",
      "Consolidation   0.8279411764705882\n",
      "Pneumonia   0.7899484536082475\n",
      "Atelectasis   0.7819422572178477\n",
      "Pneumothorax   0.8498168498168499\n",
      "Pleural Effusion   0.9239130434782609\n",
      "Pleural Other   0.9701492537313433\n",
      "Fracture   0.9372364420908109\n"
     ]
    }
   ],
   "source": [
    "path = None\n",
    "outGT, outPRED = CheXpertTrainer.test(model, dataLoaderVal, nnClassCount, path, class_names)"
   ]
  },
  {
   "cell_type": "code",
   "execution_count": 151,
   "id": "99b2fdcb",
   "metadata": {},
   "outputs": [],
   "source": [
    "load_path = \"model_saved/m-epoch_FL_densenet_slip_simclr3.pth.tar\"\n",
    "load_model(load_path, model)"
   ]
  },
  {
   "cell_type": "code",
   "execution_count": 152,
   "id": "14023cb1",
   "metadata": {},
   "outputs": [
    {
     "name": "stdout",
     "output_type": "stream",
     "text": [
      "AUROC mean  0.8527790331692864\n",
      "No Finding   0.8883304195804196\n",
      "Enlarged Cardiomediastinum   0.6106038291605301\n",
      "Cardiomegaly   0.8094919786096257\n",
      "Lung Opacity   0.8976370035193565\n",
      "Lung Lesion   0.7412935323383085\n",
      "Edema   0.9447916666666667\n",
      "Consolidation   0.8503676470588235\n",
      "Pneumonia   0.8131443298969072\n",
      "Atelectasis   0.8002099737532808\n",
      "Pneumothorax   0.9157509157509157\n",
      "Pleural Effusion   0.9115715579710145\n",
      "Pleural Other   0.9402985074626866\n",
      "Fracture   0.9626360694321859\n"
     ]
    }
   ],
   "source": [
    "path = None\n",
    "outGT, outPRED = CheXpertTrainer.test(model, dataLoaderVal, nnClassCount, path, class_names)"
   ]
  },
  {
   "cell_type": "markdown",
   "id": "ca04dc72",
   "metadata": {},
   "source": [
    "# Linear Probing"
   ]
  },
  {
   "cell_type": "markdown",
   "id": "6d1606a9",
   "metadata": {},
   "source": [
    "## Original"
   ]
  },
  {
   "cell_type": "code",
   "execution_count": 12,
   "id": "bc14f93d",
   "metadata": {},
   "outputs": [
    {
     "name": "stdout",
     "output_type": "stream",
     "text": [
      "AUROC mean  0.6419114160440883\n",
      "No Finding   0.8540209790209791\n",
      "Enlarged Cardiomediastinum   0.4559646539027983\n",
      "Cardiomegaly   0.6678921568627452\n",
      "Lung Opacity   0.808044243338361\n",
      "Lung Lesion   0.04477611940298509\n",
      "Edema   0.7950892857142857\n",
      "Consolidation   0.7922794117647058\n",
      "Pneumonia   0.6623711340206185\n",
      "Atelectasis   0.7633595800524935\n",
      "Pneumothorax   0.7494505494505495\n",
      "Pleural Effusion   0.7778532608695653\n",
      "Pleural Other   0.25373134328358204\n",
      "Fracture   0.7200156908894774\n"
     ]
    }
   ],
   "source": [
    "path = \"model_saved/m-epoch_FL_resnet_lp1.pth.tar\"\n",
    "outGT, outPRED = CheXpertTrainer.test(model, dataLoaderVal, nnClassCount, path, class_names)"
   ]
  },
  {
   "cell_type": "code",
   "execution_count": 13,
   "id": "f8137b93",
   "metadata": {},
   "outputs": [
    {
     "name": "stdout",
     "output_type": "stream",
     "text": [
      "AUROC mean  0.6551112739068264\n",
      "No Finding   0.8690996503496503\n",
      "Enlarged Cardiomediastinum   0.4251350024545901\n",
      "Cardiomegaly   0.6705659536541889\n",
      "Lung Opacity   0.804927099044746\n",
      "Lung Lesion   0.02487562189054726\n",
      "Edema   0.8133928571428571\n",
      "Consolidation   0.7860294117647059\n",
      "Pneumonia   0.7203608247422681\n",
      "Atelectasis   0.7596850393700787\n",
      "Pneumothorax   0.747985347985348\n",
      "Pleural Effusion   0.7793251811594203\n",
      "Pleural Other   0.3830845771144279\n",
      "Fracture   0.7319799941159163\n"
     ]
    }
   ],
   "source": [
    "path1 = 'model_saved/m-epoch_FL_resnet_lp2.pth.tar'\n",
    "outGT, outPRED = CheXpertTrainer.test(model, dataLoaderVal, nnClassCount, path1, class_names)"
   ]
  },
  {
   "cell_type": "code",
   "execution_count": 14,
   "id": "4c188789",
   "metadata": {},
   "outputs": [
    {
     "name": "stdout",
     "output_type": "stream",
     "text": [
      "AUROC mean  0.6628867769265889\n",
      "No Finding   0.8721590909090909\n",
      "Enlarged Cardiomediastinum   0.4705940108001964\n",
      "Cardiomegaly   0.6727941176470589\n",
      "Lung Opacity   0.8143790849673203\n",
      "Lung Lesion   0.02487562189054726\n",
      "Edema   0.8165178571428572\n",
      "Consolidation   0.8001838235294118\n",
      "Pneumonia   0.731958762886598\n",
      "Atelectasis   0.7649343832020997\n",
      "Pneumothorax   0.7289377289377289\n",
      "Pleural Effusion   0.7924592391304348\n",
      "Pleural Other   0.3980099502487562\n",
      "Fracture   0.7297244287535549\n"
     ]
    }
   ],
   "source": [
    "path3 = 'model_saved/m-epoch_FL_resnet_lp3.pth.tar'\n",
    "outGT, outPRED = CheXpertTrainer.test(model, dataLoaderVal, nnClassCount, path3, class_names)"
   ]
  },
  {
   "cell_type": "markdown",
   "id": "88a5bbdb",
   "metadata": {},
   "source": [
    "## CLIP"
   ]
  },
  {
   "cell_type": "code",
   "execution_count": 15,
   "id": "6887590a",
   "metadata": {},
   "outputs": [],
   "source": [
    "load_path = \"model_saved/m-epoch_FL_resnet_clip_lp1.pth.tar\"\n",
    "load_model(load_path, model)"
   ]
  },
  {
   "cell_type": "code",
   "execution_count": 16,
   "id": "52597064",
   "metadata": {},
   "outputs": [
    {
     "name": "stdout",
     "output_type": "stream",
     "text": [
      "AUROC mean  0.5740112820066824\n",
      "No Finding   0.5563811188811189\n",
      "Enlarged Cardiomediastinum   0.3696612665684831\n",
      "Cardiomegaly   0.5424465240641712\n",
      "Lung Opacity   0.6083459024635495\n",
      "Lung Lesion   0.900497512437811\n",
      "Edema   0.5626488095238096\n",
      "Consolidation   0.7503676470588235\n",
      "Pneumonia   0.7016752577319587\n",
      "Atelectasis   0.5956955380577429\n",
      "Pneumothorax   0.5655677655677656\n",
      "Pleural Effusion   0.6913496376811595\n",
      "Pleural Other   0.13432835820895528\n",
      "Fracture   0.483181327841522\n"
     ]
    }
   ],
   "source": [
    "path = None\n",
    "outGT, outPRED = CheXpertTrainer.test(model, dataLoaderVal, nnClassCount, path, class_names)"
   ]
  },
  {
   "cell_type": "code",
   "execution_count": 17,
   "id": "5795df77",
   "metadata": {},
   "outputs": [],
   "source": [
    "load_path = \"model_saved/m-epoch_FL_resnet_clip_lp2.pth.tar\"\n",
    "load_model(load_path, model)"
   ]
  },
  {
   "cell_type": "code",
   "execution_count": 18,
   "id": "836d28f7",
   "metadata": {
    "scrolled": true
   },
   "outputs": [
    {
     "name": "stdout",
     "output_type": "stream",
     "text": [
      "AUROC mean  0.5800559281393045\n",
      "No Finding   0.5749562937062936\n",
      "Enlarged Cardiomediastinum   0.3858615611192931\n",
      "Cardiomegaly   0.5482397504456328\n",
      "Lung Opacity   0.6190045248868778\n",
      "Lung Lesion   0.8855721393034826\n",
      "Edema   0.5686011904761904\n",
      "Consolidation   0.7255514705882353\n",
      "Pneumonia   0.6804123711340206\n",
      "Atelectasis   0.6121784776902885\n",
      "Pneumothorax   0.5377289377289377\n",
      "Pleural Effusion   0.7093523550724639\n",
      "Pleural Other   0.1990049751243781\n",
      "Fracture   0.4942630185348632\n"
     ]
    }
   ],
   "source": [
    "path = None\n",
    "outGT, outPRED = CheXpertTrainer.test(model, dataLoaderVal, nnClassCount, path, class_names)"
   ]
  },
  {
   "cell_type": "code",
   "execution_count": 20,
   "id": "5ca50633",
   "metadata": {},
   "outputs": [],
   "source": [
    "load_path = \"model_saved/m-epoch_FL_resnet_clip_lp3.pth.tar\"\n",
    "load_model(load_path, model)"
   ]
  },
  {
   "cell_type": "code",
   "execution_count": 21,
   "id": "9554da85",
   "metadata": {},
   "outputs": [
    {
     "name": "stdout",
     "output_type": "stream",
     "text": [
      "AUROC mean  0.5760752692652003\n",
      "No Finding   0.5751748251748252\n",
      "Enlarged Cardiomediastinum   0.3806578301423662\n",
      "Cardiomegaly   0.5007798573975044\n",
      "Lung Opacity   0.6239316239316239\n",
      "Lung Lesion   0.8407960199004976\n",
      "Edema   0.5770833333333333\n",
      "Consolidation   0.7235294117647059\n",
      "Pneumonia   0.6514175257731959\n",
      "Atelectasis   0.6299212598425197\n",
      "Pneumothorax   0.5487179487179488\n",
      "Pleural Effusion   0.6493432971014492\n",
      "Pleural Other   0.2885572139303483\n",
      "Fracture   0.4990683534372855\n"
     ]
    }
   ],
   "source": [
    "path = None\n",
    "outGT, outPRED = CheXpertTrainer.test(model, dataLoaderVal, nnClassCount, path, class_names)"
   ]
  },
  {
   "cell_type": "markdown",
   "id": "da8bf86e",
   "metadata": {},
   "source": [
    "## VICREG"
   ]
  },
  {
   "cell_type": "code",
   "execution_count": 22,
   "id": "425f0c2c",
   "metadata": {},
   "outputs": [],
   "source": [
    "load_path = \"model_saved/m-epoch_FL_resnet_vicreg_lp1.pth.tar\"\n",
    "load_model(load_path, model)"
   ]
  },
  {
   "cell_type": "code",
   "execution_count": 23,
   "id": "12f3a8ea",
   "metadata": {},
   "outputs": [
    {
     "name": "stdout",
     "output_type": "stream",
     "text": [
      "AUROC mean  0.7204818627489432\n",
      "No Finding   0.8953234265734266\n",
      "Enlarged Cardiomediastinum   0.593127147766323\n",
      "Cardiomegaly   0.686608734402852\n",
      "Lung Opacity   0.8393162393162393\n",
      "Lung Lesion   0.05970149253731338\n",
      "Edema   0.8998511904761903\n",
      "Consolidation   0.8380514705882353\n",
      "Pneumonia   0.7261597938144331\n",
      "Atelectasis   0.7783727034120735\n",
      "Pneumothorax   0.8388278388278388\n",
      "Pleural Effusion   0.8125000000000001\n",
      "Pleural Other   0.6716417910447761\n",
      "Fracture   0.7267823869765617\n"
     ]
    }
   ],
   "source": [
    "path = None\n",
    "outGT, outPRED = CheXpertTrainer.test(model, dataLoaderVal, nnClassCount, path, class_names)"
   ]
  },
  {
   "cell_type": "code",
   "execution_count": 24,
   "id": "5f8f4452",
   "metadata": {},
   "outputs": [],
   "source": [
    "load_path = \"model_saved/m-epoch_FL_resnet_vicreg_lp2.pth.tar\"\n",
    "load_model(load_path, model)"
   ]
  },
  {
   "cell_type": "code",
   "execution_count": 25,
   "id": "aace3cc3",
   "metadata": {
    "scrolled": true
   },
   "outputs": [
    {
     "name": "stdout",
     "output_type": "stream",
     "text": [
      "AUROC mean  0.7203766446149019\n",
      "No Finding   0.9034090909090909\n",
      "Enlarged Cardiomediastinum   0.5671084928816887\n",
      "Cardiomegaly   0.6910650623885918\n",
      "Lung Opacity   0.8396178984414279\n",
      "Lung Lesion   0.03482587064676612\n",
      "Edema   0.9019345238095238\n",
      "Consolidation   0.8352941176470587\n",
      "Pneumonia   0.7564432989690721\n",
      "Atelectasis   0.7722834645669292\n",
      "Pneumothorax   0.8285714285714285\n",
      "Pleural Effusion   0.8114809782608695\n",
      "Pleural Other   0.6865671641791045\n",
      "Fracture   0.7362949887221732\n"
     ]
    }
   ],
   "source": [
    "path = None\n",
    "outGT, outPRED = CheXpertTrainer.test(model, dataLoaderVal, nnClassCount, path, class_names)"
   ]
  },
  {
   "cell_type": "code",
   "execution_count": 26,
   "id": "a145ae69",
   "metadata": {},
   "outputs": [],
   "source": [
    "load_path = \"model_saved/m-epoch_FL_resnet_vicreg_lp3.pth.tar\"\n",
    "load_model(load_path, model)"
   ]
  },
  {
   "cell_type": "code",
   "execution_count": 27,
   "id": "20408b9b",
   "metadata": {},
   "outputs": [
    {
     "name": "stdout",
     "output_type": "stream",
     "text": [
      "AUROC mean  0.7344333555610798\n",
      "No Finding   0.9060314685314685\n",
      "Enlarged Cardiomediastinum   0.6237604320078547\n",
      "Cardiomegaly   0.7027629233511586\n",
      "Lung Opacity   0.844746103569633\n",
      "Lung Lesion   0.03482587064676612\n",
      "Edema   0.9026785714285714\n",
      "Consolidation   0.8389705882352941\n",
      "Pneumonia   0.7693298969072164\n",
      "Atelectasis   0.7785826771653543\n",
      "Pneumothorax   0.8043956043956043\n",
      "Pleural Effusion   0.8268795289855073\n",
      "Pleural Other   0.7761194029850746\n",
      "Fracture   0.7385505540845347\n"
     ]
    }
   ],
   "source": [
    "path = None\n",
    "outGT, outPRED = CheXpertTrainer.test(model, dataLoaderVal, nnClassCount, path, class_names)"
   ]
  },
  {
   "cell_type": "markdown",
   "id": "f8706b4f",
   "metadata": {},
   "source": [
    "## SIMCLR"
   ]
  },
  {
   "cell_type": "code",
   "execution_count": 28,
   "id": "8a64f5c8",
   "metadata": {
    "scrolled": true
   },
   "outputs": [],
   "source": [
    "load_path = \"model_saved/m-epoch_FL_resnet_simclr_lp1.pth.tar\"\n",
    "load_model(load_path, model)"
   ]
  },
  {
   "cell_type": "code",
   "execution_count": 29,
   "id": "b9837d43",
   "metadata": {},
   "outputs": [
    {
     "name": "stdout",
     "output_type": "stream",
     "text": [
      "AUROC mean  0.7250383930746747\n",
      "No Finding   0.8988199300699301\n",
      "Enlarged Cardiomediastinum   0.6108001963672066\n",
      "Cardiomegaly   0.7182486631016043\n",
      "Lung Opacity   0.8560080442433383\n",
      "Lung Lesion   0.04477611940298509\n",
      "Edema   0.9052083333333334\n",
      "Consolidation   0.8628676470588235\n",
      "Pneumonia   0.6920103092783505\n",
      "Atelectasis   0.7733333333333333\n",
      "Pneumothorax   0.8183150183150183\n",
      "Pleural Effusion   0.8548460144927537\n",
      "Pleural Other   0.6567164179104478\n",
      "Fracture   0.7335490830636461\n"
     ]
    }
   ],
   "source": [
    "path = None\n",
    "outGT, outPRED = CheXpertTrainer.test(model, dataLoaderVal, nnClassCount, path, class_names)"
   ]
  },
  {
   "cell_type": "code",
   "execution_count": 30,
   "id": "5795df77",
   "metadata": {},
   "outputs": [],
   "source": [
    "load_path = \"model_saved/m-epoch_FL_resnet_simclr_lp2.pth.tar\"\n",
    "load_model(load_path, model)"
   ]
  },
  {
   "cell_type": "code",
   "execution_count": 31,
   "id": "836d28f7",
   "metadata": {
    "scrolled": true
   },
   "outputs": [
    {
     "name": "stdout",
     "output_type": "stream",
     "text": [
      "AUROC mean  0.7257449372900044\n",
      "No Finding   0.8975087412587412\n",
      "Enlarged Cardiomediastinum   0.5447226313205694\n",
      "Cardiomegaly   0.713903743315508\n",
      "Lung Opacity   0.8543991955756661\n",
      "Lung Lesion   0.03482587064676612\n",
      "Edema   0.9110119047619047\n",
      "Consolidation   0.8715073529411765\n",
      "Pneumonia   0.7429123711340206\n",
      "Atelectasis   0.7723884514435696\n",
      "Pneumothorax   0.7978021978021979\n",
      "Pleural Effusion   0.8624320652173912\n",
      "Pleural Other   0.691542288557214\n",
      "Fracture   0.7397273707953319\n"
     ]
    }
   ],
   "source": [
    "path = None\n",
    "outGT, outPRED = CheXpertTrainer.test(model, dataLoaderVal, nnClassCount, path, class_names)"
   ]
  },
  {
   "cell_type": "code",
   "execution_count": 32,
   "id": "5ca50633",
   "metadata": {},
   "outputs": [],
   "source": [
    "load_path = \"model_saved/m-epoch_FL_resnet_simclr_lp3.pth.tar\"\n",
    "load_model(load_path, model)"
   ]
  },
  {
   "cell_type": "code",
   "execution_count": 33,
   "id": "9554da85",
   "metadata": {},
   "outputs": [
    {
     "name": "stdout",
     "output_type": "stream",
     "text": [
      "AUROC mean  0.7350559938392067\n",
      "No Finding   0.906687062937063\n",
      "Enlarged Cardiomediastinum   0.6691212567501228\n",
      "Cardiomegaly   0.7151292335115864\n",
      "Lung Opacity   0.8518853695324284\n",
      "Lung Lesion   0.04975124378109452\n",
      "Edema   0.9141369047619047\n",
      "Consolidation   0.8683823529411765\n",
      "Pneumonia   0.7673969072164949\n",
      "Atelectasis   0.7792125984251969\n",
      "Pneumothorax   0.780952380952381\n",
      "Pleural Effusion   0.8653759057971014\n",
      "Pleural Other   0.6417910447761195\n",
      "Fracture   0.7459056585270177\n"
     ]
    }
   ],
   "source": [
    "path = None\n",
    "outGT, outPRED = CheXpertTrainer.test(model, dataLoaderVal, nnClassCount, path, class_names)"
   ]
  },
  {
   "cell_type": "markdown",
   "id": "8f1a58e9",
   "metadata": {},
   "source": [
    "## SLIP VICREG"
   ]
  },
  {
   "cell_type": "code",
   "execution_count": 34,
   "id": "bcdd7c52",
   "metadata": {},
   "outputs": [],
   "source": [
    "load_path = \"model_saved/m-epoch_FL_resnet_slip_vicreg_lp1.pth.tar\"\n",
    "load_model(load_path, model)"
   ]
  },
  {
   "cell_type": "code",
   "execution_count": 35,
   "id": "6a0cd757",
   "metadata": {},
   "outputs": [
    {
     "name": "stdout",
     "output_type": "stream",
     "text": [
      "AUROC mean  0.7293614136277273\n",
      "No Finding   0.888986013986014\n",
      "Enlarged Cardiomediastinum   0.5621993127147766\n",
      "Cardiomegaly   0.749108734402852\n",
      "Lung Opacity   0.8316742081447964\n",
      "Lung Lesion   0.14925373134328357\n",
      "Edema   0.8761904761904762\n",
      "Consolidation   0.8534926470588236\n",
      "Pneumonia   0.7880154639175259\n",
      "Atelectasis   0.779002624671916\n",
      "Pneumothorax   0.8036630036630037\n",
      "Pleural Effusion   0.7963088768115942\n",
      "Pleural Other   0.7114427860696517\n",
      "Fracture   0.692360498185741\n"
     ]
    }
   ],
   "source": [
    "path = None\n",
    "outGT, outPRED = CheXpertTrainer.test(model, dataLoaderVal, nnClassCount, path, class_names)"
   ]
  },
  {
   "cell_type": "code",
   "execution_count": 36,
   "id": "0ff3ff33",
   "metadata": {},
   "outputs": [],
   "source": [
    "load_path = \"model_saved/m-epoch_FL_resnet_slip_vicreg_lp2.pth.tar\"\n",
    "load_model(load_path, model)"
   ]
  },
  {
   "cell_type": "code",
   "execution_count": 37,
   "id": "0e0b8b9b",
   "metadata": {},
   "outputs": [
    {
     "name": "stdout",
     "output_type": "stream",
     "text": [
      "AUROC mean  0.7320789913239374\n",
      "No Finding   0.8913898601398602\n",
      "Enlarged Cardiomediastinum   0.5668139420716741\n",
      "Cardiomegaly   0.7391934046345812\n",
      "Lung Opacity   0.8381096028154852\n",
      "Lung Lesion   0.10447761194029848\n",
      "Edema   0.8831845238095238\n",
      "Consolidation   0.8558823529411765\n",
      "Pneumonia   0.7963917525773196\n",
      "Atelectasis   0.7760629921259843\n",
      "Pneumothorax   0.8329670329670329\n",
      "Pleural Effusion   0.8020833333333334\n",
      "Pleural Other   0.7313432835820896\n",
      "Fracture   0.6991271942728253\n"
     ]
    }
   ],
   "source": [
    "path = None\n",
    "outGT, outPRED = CheXpertTrainer.test(model, dataLoaderVal, nnClassCount, path, class_names)"
   ]
  },
  {
   "cell_type": "code",
   "execution_count": 38,
   "id": "99b2fdcb",
   "metadata": {},
   "outputs": [],
   "source": [
    "load_path = \"model_saved/m-epoch_FL_resnet_slip_vicreg_lp3.pth.tar\"\n",
    "load_model(load_path, model)"
   ]
  },
  {
   "cell_type": "code",
   "execution_count": 39,
   "id": "14023cb1",
   "metadata": {},
   "outputs": [
    {
     "name": "stdout",
     "output_type": "stream",
     "text": [
      "AUROC mean  0.7310885846417412\n",
      "No Finding   0.8933566433566433\n",
      "Enlarged Cardiomediastinum   0.587039764359352\n",
      "Cardiomegaly   0.7416443850267379\n",
      "Lung Opacity   0.8430367018602313\n",
      "Lung Lesion   0.02985074626865669\n",
      "Edema   0.890327380952381\n",
      "Consolidation   0.8599264705882352\n",
      "Pneumonia   0.8041237113402062\n",
      "Atelectasis   0.7801574803149607\n",
      "Pneumothorax   0.8263736263736263\n",
      "Pleural Effusion   0.8115942028985507\n",
      "Pleural Other   0.736318407960199\n",
      "Fracture   0.7004020790428558\n"
     ]
    }
   ],
   "source": [
    "path = None\n",
    "outGT, outPRED = CheXpertTrainer.test(model, dataLoaderVal, nnClassCount, path, class_names)"
   ]
  },
  {
   "cell_type": "markdown",
   "id": "4ed1b957",
   "metadata": {},
   "source": [
    "## SLIP SIMCLR"
   ]
  },
  {
   "cell_type": "code",
   "execution_count": 40,
   "id": "bcdd7c52",
   "metadata": {},
   "outputs": [],
   "source": [
    "load_path = \"model_saved/m-epoch_FL_resnet_slip_simclr_lp1.pth.tar\"\n",
    "load_model(load_path, model)"
   ]
  },
  {
   "cell_type": "code",
   "execution_count": 41,
   "id": "6a0cd757",
   "metadata": {},
   "outputs": [
    {
     "name": "stdout",
     "output_type": "stream",
     "text": [
      "AUROC mean  0.7158631496456963\n",
      "No Finding   0.892263986013986\n",
      "Enlarged Cardiomediastinum   0.5434462444771724\n",
      "Cardiomegaly   0.7174688057040999\n",
      "Lung Opacity   0.8522875816993464\n",
      "Lung Lesion   0.01990049751243783\n",
      "Edema   0.8708333333333333\n",
      "Consolidation   0.8713235294117647\n",
      "Pneumonia   0.8189432989690721\n",
      "Atelectasis   0.7864566929133858\n",
      "Pneumothorax   0.6871794871794872\n",
      "Pleural Effusion   0.8144248188405797\n",
      "Pleural Other   0.7412935323383085\n",
      "Fracture   0.6903991370010787\n"
     ]
    }
   ],
   "source": [
    "path = None\n",
    "outGT, outPRED = CheXpertTrainer.test(model, dataLoaderVal, nnClassCount, path, class_names)"
   ]
  },
  {
   "cell_type": "code",
   "execution_count": 42,
   "id": "0ff3ff33",
   "metadata": {},
   "outputs": [],
   "source": [
    "load_path = \"model_saved/m-epoch_FL_resnet_slip_simclr_lp2.pth.tar\"\n",
    "load_model(load_path, model)"
   ]
  },
  {
   "cell_type": "code",
   "execution_count": 43,
   "id": "0e0b8b9b",
   "metadata": {},
   "outputs": [
    {
     "name": "stdout",
     "output_type": "stream",
     "text": [
      "AUROC mean  0.7197351246800687\n",
      "No Finding   0.8975087412587414\n",
      "Enlarged Cardiomediastinum   0.507707412862052\n",
      "Cardiomegaly   0.723150623885918\n",
      "Lung Opacity   0.8514831573655104\n",
      "Lung Lesion   0.02487562189054726\n",
      "Edema   0.8863095238095238\n",
      "Consolidation   0.8737132352941177\n",
      "Pneumonia   0.8060567010309279\n",
      "Atelectasis   0.7828871391076115\n",
      "Pneumothorax   0.7135531135531135\n",
      "Pleural Effusion   0.8179347826086957\n",
      "Pleural Other   0.7661691542288558\n",
      "Fracture   0.705207413945278\n"
     ]
    }
   ],
   "source": [
    "path = None\n",
    "outGT, outPRED = CheXpertTrainer.test(model, dataLoaderVal, nnClassCount, path, class_names)"
   ]
  },
  {
   "cell_type": "code",
   "execution_count": 44,
   "id": "99b2fdcb",
   "metadata": {},
   "outputs": [],
   "source": [
    "load_path = \"model_saved/m-epoch_FL_resnet_slip_simclr_lp3.pth.tar\"\n",
    "load_model(load_path, model)"
   ]
  },
  {
   "cell_type": "code",
   "execution_count": 45,
   "id": "14023cb1",
   "metadata": {
    "scrolled": true
   },
   "outputs": [
    {
     "name": "stdout",
     "output_type": "stream",
     "text": [
      "AUROC mean  0.7306897074943385\n",
      "No Finding   0.8964160839160839\n",
      "Enlarged Cardiomediastinum   0.5680903289150712\n",
      "Cardiomegaly   0.7249331550802139\n",
      "Lung Opacity   0.8507792860734037\n",
      "Lung Lesion   0.04477611940298509\n",
      "Edema   0.8956845238095238\n",
      "Consolidation   0.8783088235294119\n",
      "Pneumonia   0.7880154639175259\n",
      "Atelectasis   0.7783727034120735\n",
      "Pneumothorax   0.7406593406593407\n",
      "Pleural Effusion   0.8195199275362319\n",
      "Pleural Other   0.8009950248756219\n",
      "Fracture   0.7124154162989114\n"
     ]
    }
   ],
   "source": [
    "path = None\n",
    "outGT, outPRED = CheXpertTrainer.test(model, dataLoaderVal, nnClassCount, path, class_names)"
   ]
  },
  {
   "cell_type": "code",
   "execution_count": null,
   "id": "3a18ca53",
   "metadata": {},
   "outputs": [],
   "source": []
  },
  {
   "cell_type": "markdown",
   "id": "e2df78ab",
   "metadata": {},
   "source": [
    "             Atelectasis       Cardiomegaly       Consolidation       Edema Pleural      Effusion\n",
    "PAPER:  0.858(0.806,0.910)  0.832(0.773,0.890)  0.899(0.854,0.944)  0.941(0.903,0.980)  0.934(0.901,0.967)\n",
    "Result:    0.85070              0.84569               0.88235              0.90595          0.92142\n"
   ]
  }
 ],
 "metadata": {
  "kernelspec": {
   "display_name": "Python 3 (ipykernel)",
   "language": "python",
   "name": "python3"
  },
  "language_info": {
   "codemirror_mode": {
    "name": "ipython",
    "version": 3
   },
   "file_extension": ".py",
   "mimetype": "text/x-python",
   "name": "python",
   "nbconvert_exporter": "python",
   "pygments_lexer": "ipython3",
   "version": "3.8.12"
  }
 },
 "nbformat": 4,
 "nbformat_minor": 5
}
