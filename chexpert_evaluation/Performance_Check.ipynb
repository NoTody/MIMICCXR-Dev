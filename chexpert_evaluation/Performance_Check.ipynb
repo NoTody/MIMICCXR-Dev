{
 "cells": [
  {
   "cell_type": "markdown",
   "id": "53bd3cee",
   "metadata": {},
   "source": [
    "rm -rf *.csv"
   ]
  },
  {
   "cell_type": "code",
   "execution_count": 1,
   "id": "df4d5763",
   "metadata": {},
   "outputs": [
    {
     "name": "stdout",
     "output_type": "stream",
     "text": [
      "True\n",
      "Train data length: 191027\n",
      "Valid data length: 202\n",
      "Train data length: 191027\n",
      "Valid data length: 202\n"
     ]
    }
   ],
   "source": [
    "import numpy as np\n",
    "import pandas as pd\n",
    "import time\n",
    "import csv\n",
    "import random\n",
    "import matplotlib.pyplot as plt\n",
    "from PIL import Image\n",
    "from barbar import Bar\n",
    "\n",
    "import torch\n",
    "import torch.nn as nn\n",
    "import torch.optim as optim\n",
    "import torch.backends.cudnn as cudnn\n",
    "import torchvision\n",
    "import torchvision.transforms as transforms\n",
    "from torch.utils.data import Dataset\n",
    "from torch.utils.data import DataLoader\n",
    "from torch.utils.data.dataset import random_split\n",
    "\n",
    "import sklearn.metrics as metrics\n",
    "from sklearn.metrics import roc_auc_score\n",
    "\n",
    "use_gpu = torch.cuda.is_available()\n",
    "print(use_gpu)\n",
    "\n",
    "train_path = '/gpfs/data/denizlab/Datasets/Public/CheXpert-v1.0/train.csv'\n",
    "valid_path = '/gpfs/data/denizlab/Datasets/Public/CheXpert-v1.0/valid.csv'\n",
    "\n",
    "\n",
    "Traindata = pd.read_csv(train_path)\n",
    "Traindata = Traindata[Traindata['Path'].str.contains(\"frontal\")] # use only frontal images\n",
    "#Traindata = Traindata[500:]\n",
    "Traindata.to_csv('/gpfs/data/denizlab/Users/skr2369/Chexpert/CheXpert-v1/U1-V1/train_mod.csv', index = False)\n",
    "print(\"Train data length:\", len(Traindata))\n",
    "\n",
    "Validdata = pd.read_csv(valid_path)\n",
    "Validdata = Validdata[Validdata['Path'].str.contains(\"frontal\")] # use only frontal images\n",
    "Validdata.to_csv('/gpfs/data/denizlab/Users/skr2369/Chexpert/CheXpert-v1/U1-V1/valid_mod.csv', index = False)\n",
    "print(\"Valid data length:\", len(Validdata))\n",
    "\n",
    "# Testdata = Traindata.head(500) # use first 500 training data as test data (obs ratio is almost same!)\n",
    "# Testdata.to_csv('/gpfs/data/denizlab/Users/skr2369/Chexpert/CheXpert-v1/test_mod.csv', index = False)\n",
    "# print(\"Test data length:\", len(Testdata))\n",
    "\n",
    "pathFileTrain = '/gpfs/data/denizlab/Users/skr2369/Chexpert/CheXpert-v1/U1-V1/train_mod.csv'\n",
    "pathFileValid = '/gpfs/data/denizlab/Users/skr2369/Chexpert/CheXpert-v1/U1-V1/valid_mod.csv'\n",
    "# pathFileTest = '/gpfs/data/denizlab/Users/skr2369/Chexpert/CheXpert-v1/test_mod.csv'\n",
    "\n",
    "# Neural network parameters:\n",
    "nnIsTrained = False     # pre-trained using ImageNet\n",
    "nnClassCount = 14       # dimension of the output\n",
    "\n",
    "# Training settings: batch size, maximum number of epochs\n",
    "trBatchSize = 16\n",
    "trMaxEpoch = 3\n",
    "\n",
    "# Parameters related to image transforms: size of the down-scaled image, cropped image\n",
    "imgtransResize = (320, 320)\n",
    "imgtransCrop = 224\n",
    "\n",
    "# Class names\n",
    "class_names = ['No Finding', 'Enlarged Cardiomediastinum', 'Cardiomegaly', 'Lung Opacity', \n",
    "               'Lung Lesion', 'Edema', 'Consolidation', 'Pneumonia', 'Atelectasis', 'Pneumothorax', \n",
    "               'Pleural Effusion', 'Pleural Other', 'Fracture', 'Support Devices']\n",
    "\n",
    "class CheXpertDataSet(Dataset):\n",
    "    def __init__(self, data_PATH, transform = None, policy = \"ones\"):\n",
    "        \"\"\"\n",
    "        data_PATH: path to the file containing images with corresponding labels.\n",
    "        transform: optional transform to be applied on a sample.\n",
    "        Upolicy: name the policy with regard to the uncertain labels.\n",
    "        \"\"\"\n",
    "        image_names = []\n",
    "        labels = []\n",
    "\n",
    "        with open(data_PATH, \"r\") as f:\n",
    "            csvReader = csv.reader(f)\n",
    "            next(csvReader, None) # skip the header\n",
    "            for line in csvReader:\n",
    "                image_name = line[0]\n",
    "                label = line[5:]\n",
    "                \n",
    "                for i in range(14):\n",
    "                    if label[i]:\n",
    "                        a = float(label[i])\n",
    "                        if a == 1:\n",
    "                            label[i] = 1\n",
    "                        elif a == -1:\n",
    "                            if policy == \"ones\":\n",
    "                                label[i] = 1\n",
    "                            elif policy == \"zeroes\":\n",
    "                                label[i] = 0\n",
    "                            else:\n",
    "                                label[i] = 0\n",
    "                        else:\n",
    "                            label[i] = 0\n",
    "                    else:\n",
    "                        label[i] = 0\n",
    "                \n",
    "                image_names.append('/gpfs/data/denizlab/Datasets/Public/' + image_name)\n",
    "        \n",
    "#                 image_names.append('./' + image_name)\n",
    "                labels.append(label)\n",
    "\n",
    "        self.image_names = image_names\n",
    "        self.labels = labels\n",
    "        self.transform = transform\n",
    "\n",
    "    def __getitem__(self, index):\n",
    "        \"\"\"Take the index of item and returns the image and its labels\"\"\"\n",
    "        image_name = self.image_names[index]\n",
    "        image = Image.open(image_name).convert('RGB')\n",
    "        label = self.labels[index]\n",
    "        if self.transform is not None:\n",
    "            image = self.transform(image)\n",
    "        return image, torch.FloatTensor(label)\n",
    "\n",
    "    def __len__(self):\n",
    "        return len(self.image_names)\n",
    "    \n",
    "\n",
    "IMAGENET_MEAN = [0.485, 0.456, 0.406]  # mean of ImageNet dataset(for normalization)\n",
    "IMAGENET_STD = [0.229, 0.224, 0.225]   # std of ImageNet dataset(for normalization)\n",
    "\n",
    "# Tranform data\n",
    "normalize = transforms.Normalize(IMAGENET_MEAN, IMAGENET_STD)\n",
    "transformList = []\n",
    "\n",
    "transformList.append(transforms.Resize((imgtransCrop, imgtransCrop))) # 224\n",
    "# transformList.append(transforms.RandomResizedCrop(imgtransCrop))\n",
    "# transformList.append(transforms.RandomHorizontalFlip())\n",
    "transformList.append(transforms.ToTensor())\n",
    "# transformList.append(normalize)\n",
    "transformSequence = transforms.Compose(transformList)\n",
    "\n",
    "# Load dataset\n",
    "datasetTrain = CheXpertDataSet(pathFileTrain, transformSequence, policy = \"ones\")\n",
    "print(\"Train data length:\", len(datasetTrain))\n",
    "dataLoaderTrain = DataLoader(dataset=datasetTrain, batch_size=trBatchSize, shuffle=True,  num_workers=20, pin_memory=True)\n",
    "\n",
    "\n",
    "datasetValid = CheXpertDataSet(pathFileValid, transformSequence)\n",
    "print(\"Valid data length:\", len(datasetValid))\n",
    "dataLoaderVal = DataLoader(dataset = datasetValid, batch_size = trBatchSize, \n",
    "                           shuffle = False, num_workers = 2, pin_memory = True)\n",
    "\n",
    "# data(\"Test data length:\", len(datasetTest))\n",
    "\n",
    "\n",
    "class CheXpertTrainer():\n",
    "\n",
    "    def train(model, dataLoaderTrain, dataLoaderVal, nnClassCount, trMaxEpoch, checkpoint):\n",
    "        optimizer = optim.Adam(model.parameters(), lr = 0.0001, # setting optimizer & scheduler\n",
    "                               betas = (0.9, 0.999), eps = 1e-08, weight_decay = 0) \n",
    "        loss = torch.nn.BCELoss() # setting loss function\n",
    "        \n",
    "        if checkpoint != None and use_gpu: # loading checkpoint\n",
    "            modelCheckpoint = torch.load(checkpoint)\n",
    "            model.load_state_dict(modelCheckpoint['state_dict'])\n",
    "            optimizer.load_state_dict(modelCheckpoint['optimizer'])\n",
    "            \n",
    "        # Train the network\n",
    "        lossMIN = 100000\n",
    "        train_start = []\n",
    "        train_end = []\n",
    "        for epochID in range(0, trMaxEpoch):\n",
    "            train_start.append(time.time()) # training starts\n",
    "            losst = CheXpertTrainer.epochTrain(model, dataLoaderTrain, optimizer, trMaxEpoch, nnClassCount, loss)\n",
    "            train_end.append(time.time()) # training ends\n",
    "#             lossv = CheXpertTrainer.epochVal(model, dataLoaderVal, optimizer, trMaxEpoch, nnClassCount, loss)\n",
    "            print(\"Training loss: {:.3f},\".format(losst))#, \"Valid loss: {:.3f}\".format(lossv))\n",
    "            \n",
    "            if losst < lossMIN:\n",
    "                lossMIN = losst\n",
    "                torch.save({'epoch': epochID + 1, 'state_dict': model.state_dict(), \n",
    "                            'best_loss': lossMIN, 'optimizer' : optimizer.state_dict()}, \n",
    "                           'm-epoch_FL' + str(epochID + 1) + '.pth.tar')\n",
    "                print('Epoch ' + str(epochID + 1) + ' [save] loss = ' + str(losst))\n",
    "            else:\n",
    "                print('Epoch ' + str(epochID + 1) + ' [----] loss = ' + str(losst))\n",
    "\n",
    "        train_time = np.array(train_end) - np.array(train_start)\n",
    "        print(\"Training time for each epoch: {} seconds\".format(train_time.round(0)))\n",
    "        params = model.state_dict()\n",
    "        return params\n",
    "       \n",
    "        \n",
    "    def epochTrain(model, dataLoaderTrain, optimizer, epochMax, classCount, loss):\n",
    "        losstrain = 0\n",
    "        model.train()\n",
    "\n",
    "        for batchID, (varInput, target) in enumerate(Bar(dataLoaderTrain)):\n",
    "            \n",
    "            varTarget = target.cuda(non_blocking = True)\n",
    "            varOutput = model(varInput)\n",
    "            lossvalue = loss(varOutput, varTarget)\n",
    "                       \n",
    "            optimizer.zero_grad()\n",
    "            lossvalue.backward()\n",
    "            optimizer.step()\n",
    "            \n",
    "            losstrain += lossvalue.item()\n",
    "            \n",
    "        return losstrain / len(dataLoaderTrain)\n",
    "\n",
    "    \n",
    "    def computeAUROC(dataGT, dataPRED, classCount):\n",
    "        # Computes area under ROC curve \n",
    "        # dataGT: ground truth data\n",
    "        # dataPRED: predicted data\n",
    "        outAUROC = []\n",
    "        datanpGT = dataGT.cpu().numpy()\n",
    "        datanpPRED = dataPRED.cpu().numpy()\n",
    "        \n",
    "        for i in range(classCount):\n",
    "            try:\n",
    "                outAUROC.append(roc_auc_score(datanpGT[:, i], datanpPRED[:, i]))\n",
    "            except ValueError:\n",
    "                pass\n",
    "        return outAUROC\n",
    "    \n",
    "    \n",
    "    def test_e(models, dataLoaderTest, nnClassCount, checkpoint, class_names):\n",
    "        cudnn.benchmark = True\n",
    "        \n",
    "        if checkpoint != None and use_gpu:\n",
    "            modelCheckpoint = torch.load(checkpoint)\n",
    "            model.load_state_dict(modelCheckpoint['state_dict'])\n",
    "\n",
    "        if use_gpu:\n",
    "            outGT = torch.FloatTensor().cuda()\n",
    "            outPRED = torch.FloatTensor().cuda()\n",
    "        else:\n",
    "            outGT = torch.FloatTensor()\n",
    "            outPRED = torch.FloatTensor()\n",
    "       \n",
    "        for model in models:\n",
    "            model.eval()\n",
    "        \n",
    "        with torch.no_grad():\n",
    "            for i, (input, target) in enumerate(dataLoaderTest):\n",
    "                target = target.cuda()\n",
    "                outGT = torch.cat((outGT, target), 0).cuda()\n",
    "\n",
    "                bs, c, h, w = input.size()\n",
    "                varInput = input.view(-1, c, h, w)\n",
    "                out = torch.zeros((input.shape[0], nnClassCount)).cuda()\n",
    "                \n",
    "                for model in models:\n",
    "                    cur_out = model(varInput)\n",
    "                    out += cur_out\n",
    "                \n",
    "#                 if ensemble:\n",
    "#                     out = (out1 + out2) / 2\n",
    "#                 else:\n",
    "#                     out = out1\n",
    "                \n",
    "                outPRED = torch.cat((outPRED, out / len(models)), 0)\n",
    "                \n",
    "        aurocIndividual = CheXpertTrainer.computeAUROC(outGT, outPRED, nnClassCount)\n",
    "        aurocMean = np.array(aurocIndividual).mean()\n",
    "        print('AUROC mean ', aurocMean)\n",
    "        \n",
    "        for i in range (0, len(aurocIndividual)):\n",
    "            print(class_names[i], ' ', aurocIndividual[i])\n",
    "        \n",
    "        return outGT, outPRED\n",
    "    \n",
    "    def test(model, dataLoaderTest, nnClassCount, checkpoint, class_names, ensemble=False):\n",
    "        cudnn.benchmark = True\n",
    "        \n",
    "        if checkpoint != None and use_gpu:\n",
    "            modelCheckpoint = torch.load(checkpoint)\n",
    "            model.load_state_dict(modelCheckpoint['state_dict'])\n",
    "\n",
    "        if use_gpu:\n",
    "            outGT = torch.FloatTensor().cuda()\n",
    "            outPRED = torch.FloatTensor().cuda()\n",
    "        else:\n",
    "            outGT = torch.FloatTensor()\n",
    "            outPRED = torch.FloatTensor()\n",
    "       \n",
    "        model.eval()\n",
    "        \n",
    "        with torch.no_grad():\n",
    "            for i, (input, target) in enumerate(dataLoaderTest):\n",
    "                target = target.cuda()\n",
    "                outGT = torch.cat((outGT, target), 0).cuda()\n",
    "\n",
    "                bs, c, h, w = input.size()\n",
    "                varInput = input.view(-1, c, h, w)\n",
    "            \n",
    "                out = model(varInput)\n",
    "                \n",
    "#                 if ensemble:\n",
    "#                     out = (out1 + out2) / 2\n",
    "#                 else:\n",
    "#                     out = out1\n",
    "                \n",
    "                outPRED = torch.cat((outPRED, out), 0)\n",
    "                \n",
    "        aurocIndividual = CheXpertTrainer.computeAUROC(outGT, outPRED, nnClassCount)\n",
    "        aurocMean = np.array(aurocIndividual).mean()\n",
    "        print('AUROC mean ', aurocMean)\n",
    "        \n",
    "        for i in range (0, len(aurocIndividual)):\n",
    "            print(class_names[i], ' ', aurocIndividual[i])\n",
    "        \n",
    "        return outGT, outPRED"
   ]
  },
  {
   "cell_type": "code",
   "execution_count": 2,
   "id": "16124b8f",
   "metadata": {},
   "outputs": [],
   "source": [
    "class DenseNet121(nn.Module):\n",
    "    \"\"\"Model modified.\n",
    "    The architecture of our model is the same as standard DenseNet121\n",
    "    except the classifier layer which has an additional sigmoid function.\n",
    "    \"\"\"\n",
    "    def __init__(self, out_size):\n",
    "        super(DenseNet121, self).__init__()\n",
    "        self.densenet121 = torchvision.models.densenet121(pretrained = False)\n",
    "        num_ftrs = self.densenet121.classifier.in_features\n",
    "        self.densenet121.classifier = nn.Sequential(\n",
    "            nn.Linear(num_ftrs, out_size),\n",
    "            nn.Sigmoid()\n",
    "        )\n",
    "\n",
    "    def forward(self, x):\n",
    "        x = self.densenet121(x)\n",
    "        return x"
   ]
  },
  {
   "cell_type": "code",
   "execution_count": 3,
   "id": "2aed59d9",
   "metadata": {},
   "outputs": [],
   "source": [
    "# densenet model\n",
    "class densenet_model(nn.Module):\n",
    "    def __init__(self, size, features_dim, out_size, pretrained=False):\n",
    "        super(densenet_model, self).__init__()\n",
    "        \n",
    "        if size==121:\n",
    "            self.backbone = torchvision.models.densenet121(pretrained = False)\n",
    "        else:\n",
    "            raise NotImplementedError(f\"ResNet with size {size} is not implemented!\")\n",
    "\n",
    "        #self.backbone.conv1 = torch.nn.Conv2d(1, 64, kernel_size=(7, 7), stride=(2, 2), padding=(3, 3), bias=False)\n",
    "        self.feature_dim_in = self.backbone.classifier.in_features\n",
    "        #self.backbone.classifier = nn.Linear(in_features=self.feature_dim_in, out_features=features_dim, bias=True)\n",
    "        self.backbone.classifier = nn.Identity()\n",
    "        self.classifier = nn.Sequential(\n",
    "            nn.Linear(features_dim, out_size),\n",
    "            nn.Sigmoid()\n",
    "        )\n",
    "        \n",
    "    def forward(self, x):\n",
    "        x = self.backbone(x)\n",
    "        x = self.classifier(x)\n",
    "        return x"
   ]
  },
  {
   "cell_type": "code",
   "execution_count": 4,
   "id": "df07df65",
   "metadata": {},
   "outputs": [],
   "source": [
    "# resnet model\n",
    "class resnet_model(nn.Module):\n",
    "    def __init__(self, size, features_dim, out_size, pretrained=False):\n",
    "        super(resnet_model, self).__init__()\n",
    "        \n",
    "        if size==18:\n",
    "            self.backbone = torchvision.models.resnet18(pretrained=pretrained)\n",
    "        elif size==50:\n",
    "            self.backbone = torchvision.models.resnet50(pretrained=pretrained)\n",
    "        elif size==101:\n",
    "            self.backbone = torchvision.models.resnet101(pretrained=pretrained)\n",
    "        else:\n",
    "            raise NotImplementedError(f\"ResNet with size {size} is not implemented!\")\n",
    "\n",
    "        #self.backbone.conv1 = torch.nn.Conv2d(1, 64, kernel_size=(7, 7), stride=(2, 2), padding=(3, 3), bias=False)\n",
    "        self.feature_dim_in = self.backbone.fc.weight.shape[1]\n",
    "        #self.backbone.fc = nn.Linear(in_features=self.feature_dim_in, out_features=features_dim, bias=True)\n",
    "        self.backbone.fc = nn.Identity()\n",
    "        self.classifier = nn.Sequential(\n",
    "            nn.Linear(features_dim, out_size),\n",
    "            nn.Sigmoid()\n",
    "        )\n",
    "        \n",
    "    def forward(self, x):\n",
    "        x = self.backbone(x)\n",
    "        x = self.classifier(x)\n",
    "        return x"
   ]
  },
  {
   "cell_type": "code",
   "execution_count": 5,
   "id": "b4f21b91",
   "metadata": {},
   "outputs": [],
   "source": [
    "# vit model\n",
    "class vit_model(nn.Module):\n",
    "    def __init__(self, size, features_dim, out_size, pretrained=False, freeze_pos_embed=False, **kwargs):\n",
    "        super(vit_model, self).__init__()\n",
    "        \n",
    "        if freeze_pos_embed:\n",
    "            pass\n",
    "        else:\n",
    "            if size==\"base\":\n",
    "                model_kwargs = dict(\n",
    "                    patch_size=16, embed_dim=768, depth=12, num_heads=12, num_classes=0, **kwargs\n",
    "                )\n",
    "                self.backbone = _create_vision_transformer(\"vit_base_patch16_224\", pretrained=pretrained, **model_kwargs)\n",
    "            else:\n",
    "                pass\n",
    "\n",
    "        self.classifier = nn.Sequential(\n",
    "            nn.Linear(features_dim, out_size),\n",
    "            nn.Sigmoid()\n",
    "        )\n",
    "        \n",
    "    def forward(self, x):\n",
    "        x = self.backbone(x)\n",
    "        x = self.classifier(x)\n",
    "        return x"
   ]
  },
  {
   "cell_type": "code",
   "execution_count": 6,
   "id": "18da27f8",
   "metadata": {},
   "outputs": [],
   "source": [
    "size = 50\n",
    "features_dim = 2048\n",
    "out_size = 14\n",
    "\n",
    "model1 = resnet_model(size, features_dim, out_size, pretrained=False).cuda() # Step 0: Initialize global model and load the model\n",
    "model1 = torch.nn.DataParallel(model1).cuda()\n",
    "\n",
    "model2 = resnet_model(size, features_dim, out_size, pretrained=False).cuda() # Step 0: Initialize global model and load the model\n",
    "model2 = torch.nn.DataParallel(model2).cuda()\n",
    "#model = model.cuda()"
   ]
  },
  {
   "cell_type": "code",
   "execution_count": 7,
   "id": "f72eb5ba",
   "metadata": {},
   "outputs": [
    {
     "name": "stderr",
     "output_type": "stream",
     "text": [
      "/gpfs/share/skynet/apps/anaconda3/envs/opence_env_1.5.1/lib/python3.8/site-packages/apex/pyprof/__init__.py:5: FutureWarning: pyprof will be removed by the end of June, 2022\n",
      "  warnings.warn(\"pyprof will be removed by the end of June, 2022\", FutureWarning)\n"
     ]
    }
   ],
   "source": [
    "from timm.models.vision_transformer import _create_vision_transformer\n",
    "from timm.models.layers import PatchEmbed\n",
    "from timm.models.vision_transformer import VisionTransformer, _cfg"
   ]
  },
  {
   "cell_type": "code",
   "execution_count": 155,
   "id": "caf34338",
   "metadata": {},
   "outputs": [],
   "source": [
    "size = \"base\"\n",
    "features_dim = 768\n",
    "out_size = nnClassCount\n",
    "model = vit_model(size, features_dim, out_size, pretrained=True).cuda() # Step 0: Initialize global model and load the m\n",
    "model = torch.nn.DataParallel(model).cuda()"
   ]
  },
  {
   "cell_type": "code",
   "execution_count": 156,
   "id": "ecaa6f18",
   "metadata": {},
   "outputs": [],
   "source": [
    "# model = DenseNet121(nnClassCount).cuda() # Step 0: Initialize global model and load the model\n",
    "# model = torch.nn.DataParallel(model).cuda()"
   ]
  },
  {
   "cell_type": "code",
   "execution_count": 8,
   "id": "433d3d62",
   "metadata": {},
   "outputs": [
    {
     "name": "stdout",
     "output_type": "stream",
     "text": [
      " \u001b[0m\u001b[38;5;13mablationcam_cam.jpg\u001b[0m             \u001b[38;5;33mresults\u001b[0m/\r\n",
      " base3.py                        \u001b[38;5;33mresults_s1000\u001b[0m/\r\n",
      " \u001b[38;5;13mgradcam++_cam.jpg\u001b[0m               \u001b[38;5;33mresults_s1666\u001b[0m/\r\n",
      " \u001b[38;5;13mgradcam_cam.jpg\u001b[0m                 \u001b[38;5;33mresults_s2022\u001b[0m/\r\n",
      " \u001b[38;5;33mgradcam_result\u001b[0m/                 \u001b[38;5;33mresults_s2023\u001b[0m/\r\n",
      "'grad_cam visualization.ipynb'   \u001b[38;5;33mresults_s42\u001b[0m/\r\n",
      " \u001b[38;5;9mm-epoch_FL1.pth.tar\u001b[0m             submitit.bsub\r\n",
      " \u001b[38;5;9mm-epoch_FL2.pth.tar\u001b[0m             train_mod.csv\r\n",
      " \u001b[38;5;9mm-epoch_FL3.pth.tar\u001b[0m             valid_mod.csv\r\n",
      " \u001b[38;5;9mm-epoch_FL_ResNet1.pth.tar\u001b[0m      VIT_SIMCLR.err\r\n",
      " \u001b[38;5;9mm-epoch_FL_ResNet2.pth.tar\u001b[0m      VIT_SIMCLR.out\r\n",
      " \u001b[38;5;9mm-epoch_FL_ResNet3.pth.tar\u001b[0m      VIT_SLIP_VICREG.err\r\n",
      " \u001b[38;5;33mmodel_saved\u001b[0m/                    VIT_SLIP_VICREG.out\r\n",
      " Performance_Check.ipynb         VIT_VICREG.err\r\n",
      " \u001b[38;5;33m__pycache__\u001b[0m/                    VIT_VICREG.out\r\n"
     ]
    }
   ],
   "source": [
    "ls"
   ]
  },
  {
   "cell_type": "code",
   "execution_count": 9,
   "id": "dc9ee999",
   "metadata": {},
   "outputs": [],
   "source": [
    "def load_model(load_path, model):\n",
    "    load_path = load_path\n",
    "    checkpoint = torch.load(load_path)\n",
    "    state_dict = {k.replace(\"img_backbone.\", \"module.\"): v for k, v in checkpoint['state_dict'].items()}\n",
    "    load_status = model.load_state_dict(state_dict, strict=False)\n",
    "    print(load_status)"
   ]
  },
  {
   "cell_type": "markdown",
   "id": "a2af4955",
   "metadata": {},
   "source": [
    "# ResNet-50"
   ]
  },
  {
   "cell_type": "code",
   "execution_count": 39,
   "id": "dc9f9994",
   "metadata": {},
   "outputs": [],
   "source": [
    "img_1 = torch.randn(32, 768)\n",
    "img_2 = torch.randn(32, 768)\n",
    "img_3 = torch.randn(32, 768)\n",
    "text_1 = torch.randn(32, 768)"
   ]
  },
  {
   "cell_type": "code",
   "execution_count": 58,
   "id": "ee06f98f",
   "metadata": {},
   "outputs": [],
   "source": [
    "img_mean = torch.mean(torch.stack((img_1, img_2, img_3)), dim=0)"
   ]
  },
  {
   "cell_type": "code",
   "execution_count": 61,
   "id": "9c72ee9a",
   "metadata": {},
   "outputs": [],
   "source": [
    "similarity_f = nn.CosineSimilarity(dim=2)"
   ]
  },
  {
   "cell_type": "code",
   "execution_count": 62,
   "id": "76bc4bd3",
   "metadata": {},
   "outputs": [
    {
     "data": {
      "text/plain": [
       "torch.Size([32, 768])"
      ]
     },
     "execution_count": 62,
     "metadata": {},
     "output_type": "execute_result"
    }
   ],
   "source": [
    "img_mean.shape"
   ]
  },
  {
   "cell_type": "code",
   "execution_count": 63,
   "id": "9155818c",
   "metadata": {},
   "outputs": [],
   "source": [
    "sim_mat = similarity_f(img_mean.unsqueeze(1), text_1.unsqueeze(0))"
   ]
  },
  {
   "cell_type": "code",
   "execution_count": 67,
   "id": "97d1387a",
   "metadata": {},
   "outputs": [
    {
     "data": {
      "text/plain": [
       "tensor([[True, True, True,  ..., True, True, True],\n",
       "        [True, True, True,  ..., True, True, True],\n",
       "        [True, True, True,  ..., True, True, True],\n",
       "        ...,\n",
       "        [True, True, True,  ..., True, True, True],\n",
       "        [True, True, True,  ..., True, True, True],\n",
       "        [True, True, True,  ..., True, True, True]])"
      ]
     },
     "execution_count": 67,
     "metadata": {},
     "output_type": "execute_result"
    }
   ],
   "source": [
    "sim_mat < 0.5"
   ]
  },
  {
   "cell_type": "code",
   "execution_count": 68,
   "id": "d32dcd09",
   "metadata": {},
   "outputs": [
    {
     "data": {
      "text/plain": [
       "tensor([[-0.0456, -0.0026,  0.0422,  ..., -0.0172, -0.0671,  0.0212],\n",
       "        [ 0.0110,  0.0211,  0.0422,  ...,  0.0212,  0.0407,  0.0755],\n",
       "        [-0.0424, -0.0057, -0.0408,  ...,  0.0421,  0.0277, -0.0563],\n",
       "        ...,\n",
       "        [-0.0098, -0.0315,  0.0292,  ..., -0.0289, -0.0041,  0.0200],\n",
       "        [-0.0174,  0.0034, -0.0421,  ...,  0.0472,  0.0287, -0.0134],\n",
       "        [-0.0189, -0.0258,  0.0237,  ..., -0.0673,  0.0322, -0.0061]])"
      ]
     },
     "execution_count": 68,
     "metadata": {},
     "output_type": "execute_result"
    }
   ],
   "source": [
    "sim_mat"
   ]
  },
  {
   "cell_type": "code",
   "execution_count": 74,
   "id": "d29eb718",
   "metadata": {},
   "outputs": [
    {
     "data": {
      "text/plain": [
       "tensor([[ 0.0000, -0.0026,  0.0422,  ..., -0.0172, -0.0671,  0.0212],\n",
       "        [ 0.0000,  0.0000,  0.0422,  ...,  0.0212,  0.0407,  0.0755],\n",
       "        [ 0.0000,  0.0000,  0.0000,  ...,  0.0421,  0.0277, -0.0563],\n",
       "        ...,\n",
       "        [ 0.0000,  0.0000,  0.0000,  ...,  0.0000, -0.0041,  0.0200],\n",
       "        [ 0.0000,  0.0000,  0.0000,  ...,  0.0000,  0.0000, -0.0134],\n",
       "        [ 0.0000,  0.0000,  0.0000,  ...,  0.0000,  0.0000,  0.0000]])"
      ]
     },
     "execution_count": 74,
     "metadata": {},
     "output_type": "execute_result"
    }
   ],
   "source": [
    "torch.triu(sim_mat, diagonal=1)"
   ]
  },
  {
   "cell_type": "code",
   "execution_count": 75,
   "id": "a93c8790",
   "metadata": {},
   "outputs": [
    {
     "data": {
      "text/plain": [
       "tensor([[ 0.0000,  0.0000,  0.0000,  ...,  0.0000,  0.0000,  0.0000],\n",
       "        [-0.0026,  0.0000,  0.0000,  ...,  0.0000,  0.0000,  0.0000],\n",
       "        [ 0.0422,  0.0422,  0.0000,  ...,  0.0000,  0.0000,  0.0000],\n",
       "        ...,\n",
       "        [-0.0172,  0.0212,  0.0421,  ...,  0.0000,  0.0000,  0.0000],\n",
       "        [-0.0671,  0.0407,  0.0277,  ..., -0.0041,  0.0000,  0.0000],\n",
       "        [ 0.0212,  0.0755, -0.0563,  ...,  0.0200, -0.0134,  0.0000]])"
      ]
     },
     "execution_count": 75,
     "metadata": {},
     "output_type": "execute_result"
    }
   ],
   "source": [
    "torch.triu(sim_mat, diagonal=1).t()"
   ]
  },
  {
   "cell_type": "code",
   "execution_count": 91,
   "id": "2683a3c3",
   "metadata": {},
   "outputs": [],
   "source": [
    "sim_mat_diag = torch.mean(torch.stack((torch.triu(sim_mat, diagonal=1).t(), torch.tril(sim_mat, diagonal=-1))), dim=0)"
   ]
  },
  {
   "cell_type": "code",
   "execution_count": 110,
   "id": "8597bdfa",
   "metadata": {},
   "outputs": [],
   "source": [
    "mask = (1 * (sim_mat_diag != 0) * 1 * (sim_mat_diag < 0.02))"
   ]
  },
  {
   "cell_type": "code",
   "execution_count": 111,
   "id": "3f03e9e7",
   "metadata": {},
   "outputs": [
    {
     "data": {
      "text/plain": [
       "tensor([[0, 0, 0,  ..., 0, 0, 0],\n",
       "        [1, 0, 0,  ..., 0, 0, 0],\n",
       "        [1, 1, 0,  ..., 0, 0, 0],\n",
       "        ...,\n",
       "        [1, 1, 0,  ..., 0, 0, 0],\n",
       "        [1, 0, 1,  ..., 0, 0, 0],\n",
       "        [1, 0, 1,  ..., 1, 1, 0]])"
      ]
     },
     "execution_count": 111,
     "metadata": {},
     "output_type": "execute_result"
    }
   ],
   "source": [
    "mask"
   ]
  },
  {
   "cell_type": "code",
   "execution_count": 116,
   "id": "e233f7ea",
   "metadata": {},
   "outputs": [],
   "source": [
    "sim_mat_filtered = mask * sim_mat_diag"
   ]
  },
  {
   "cell_type": "code",
   "execution_count": 117,
   "id": "35fab5d0",
   "metadata": {},
   "outputs": [
    {
     "data": {
      "text/plain": [
       "tensor([[ 0.0000e+00,  0.0000e+00,  0.0000e+00,  ...,  0.0000e+00,\n",
       "          0.0000e+00,  0.0000e+00],\n",
       "        [ 4.1831e-03,  0.0000e+00,  0.0000e+00,  ...,  0.0000e+00,\n",
       "          0.0000e+00,  0.0000e+00],\n",
       "        [-7.5975e-05,  1.8208e-02,  0.0000e+00,  ...,  0.0000e+00,\n",
       "          0.0000e+00,  0.0000e+00],\n",
       "        ...,\n",
       "        [-1.3493e-02, -5.1377e-03,  0.0000e+00,  ...,  0.0000e+00,\n",
       "          0.0000e+00,  0.0000e+00],\n",
       "        [-4.2277e-02,  0.0000e+00, -7.1858e-03,  ...,  0.0000e+00,\n",
       "          0.0000e+00,  0.0000e+00],\n",
       "        [ 1.1896e-03,  0.0000e+00, -1.6264e-02,  ..., -2.3671e-02,\n",
       "          9.3723e-03,  0.0000e+00]])"
      ]
     },
     "execution_count": 117,
     "metadata": {},
     "output_type": "execute_result"
    }
   ],
   "source": [
    "sim_mat_filtered"
   ]
  },
  {
   "cell_type": "code",
   "execution_count": 119,
   "id": "ef5aae8a",
   "metadata": {},
   "outputs": [],
   "source": [
    "result = torch.min(sim_mat_filtered, dim=0, keepdim=False)"
   ]
  },
  {
   "cell_type": "code",
   "execution_count": 130,
   "id": "95c90fb2",
   "metadata": {},
   "outputs": [],
   "source": [
    "batch_size = 32"
   ]
  },
  {
   "cell_type": "code",
   "execution_count": 133,
   "id": "d3060cdb",
   "metadata": {
    "scrolled": true
   },
   "outputs": [],
   "source": [
    "v, i = torch.topk(sim_mat_filtered.flatten(), k=batch_size * 3, largest=False)"
   ]
  },
  {
   "cell_type": "code",
   "execution_count": 135,
   "id": "e5d57ae5",
   "metadata": {},
   "outputs": [],
   "source": [
    "i_p = np.array(np.unravel_index(i.numpy(), sim_mat_filtered.shape)).T"
   ]
  },
  {
   "cell_type": "code",
   "execution_count": 138,
   "id": "64f684ed",
   "metadata": {},
   "outputs": [],
   "source": [
    "# construct embedding pairs for image-text matching\n",
    "img_embeddings_mined_1, text_embeddings_mined = torch.random((batch_size * (3 + 1), 768)), torch.random((batch_size * (3 + 1), 768))\n",
    "img_embeddings_mined_2, img_embeddings_mined_3 = torch.random((batch_size * (3 + 1), 768)), torch.random((batch_size * (3 + 1), 768))\n",
    "\n",
    "idx = 0\n",
    "# add positive pairs\n",
    "for i in range(batch_size):\n",
    "    img_embeddings_mined_1[idx], text_embeddings_mined[idx] = img_1[i], text_1[i]\n",
    "    img_embeddings_mined_2[idx], img_embeddings_mined_3[idx] = img_2[i], img_3[i]\n",
    "    idx += 1\n",
    "\n",
    "# add hard negatives pairs\n",
    "for p in i_p:\n",
    "    img_idx, text_idx = p[0], p[1]\n",
    "    img_embeddings_mined_1[idx], text_embeddings_mined[idx] = img_1[img_idx], text_1[text_idx]\n",
    "    img_embeddings_mined_2[idx], img_embeddings_mined_3[idx] = img_2[img_idx], img_3[img_idx]"
   ]
  },
  {
   "cell_type": "code",
   "execution_count": 120,
   "id": "ae168ceb",
   "metadata": {},
   "outputs": [
    {
     "data": {
      "text/plain": [
       "torch.return_types.min(\n",
       "values=tensor([-0.0638, -0.0548, -0.0297, -0.0499, -0.0313, -0.0570, -0.0600, -0.0551,\n",
       "        -0.0387, -0.0391, -0.0336, -0.0397, -0.0321, -0.0627, -0.0460, -0.0486,\n",
       "        -0.0690, -0.0395, -0.0703, -0.0575, -0.0491, -0.0253, -0.0220, -0.0479,\n",
       "        -0.0365,  0.0000, -0.0646, -0.0461,  0.0000, -0.0237,  0.0000,  0.0000]),\n",
       "indices=tensor([15, 11,  9, 10, 20, 12, 19,  9, 28, 23, 19, 22, 21, 31, 24, 20, 24, 26,\n",
       "        20, 31, 29, 23, 30, 28, 26,  0, 30, 29,  0, 31,  0,  0]))"
      ]
     },
     "execution_count": 120,
     "metadata": {},
     "output_type": "execute_result"
    }
   ],
   "source": [
    "result"
   ]
  },
  {
   "cell_type": "code",
   "execution_count": 85,
   "id": "2e7c1b93",
   "metadata": {},
   "outputs": [
    {
     "data": {
      "text/plain": [
       "tensor([[ 0.0000,  0.0000,  0.0000,  ...,  0.0000,  0.0000,  0.0000],\n",
       "        [ 0.0084,  0.0000,  0.0000,  ...,  0.0000,  0.0000,  0.0000],\n",
       "        [-0.0002,  0.0364,  0.0000,  ...,  0.0000,  0.0000,  0.0000],\n",
       "        ...,\n",
       "        [-0.0270, -0.0103,  0.0713,  ...,  0.0000,  0.0000,  0.0000],\n",
       "        [-0.0846,  0.0441, -0.0144,  ...,  0.0432,  0.0000,  0.0000],\n",
       "        [ 0.0024,  0.0497, -0.0325,  ..., -0.0473,  0.0187,  0.0000]])"
      ]
     },
     "execution_count": 85,
     "metadata": {},
     "output_type": "execute_result"
    }
   ],
   "source": [
    "torch.triu(sim_mat, diagonal=1).t() + torch.tril(sim_mat, diagonal=-1)"
   ]
  },
  {
   "cell_type": "code",
   "execution_count": null,
   "id": "b29a69df",
   "metadata": {},
   "outputs": [],
   "source": [
    "img_1, img_2, img_3, text_1"
   ]
  },
  {
   "cell_type": "markdown",
   "id": "f8706b4f",
   "metadata": {},
   "source": [
    "## SIMCLR"
   ]
  },
  {
   "cell_type": "code",
   "execution_count": null,
   "id": "5dc781e3",
   "metadata": {},
   "outputs": [],
   "source": [
    "vicreg  4    2     4     5     3 "
   ]
  },
  {
   "cell_type": "code",
   "execution_count": null,
   "id": "0412c060",
   "metadata": {},
   "outputs": [],
   "source": [
    "convirt 2, 1 2 1 2"
   ]
  },
  {
   "cell_type": "code",
   "execution_count": 11,
   "id": "107adb1b",
   "metadata": {},
   "outputs": [
    {
     "ename": "FileNotFoundError",
     "evalue": "[Errno 2] No such file or directory: '/gpfs/data/denizlab/Users/hh2740/git_backups/MIMICCXR-MutliModal-SelfSupervision/chexpert_evaluation/model_saved/m-epoch_FL_resnet_p0.01_s20230.pth.tar'",
     "output_type": "error",
     "traceback": [
      "\u001b[0;31m---------------------------------------------------------------------------\u001b[0m",
      "\u001b[0;31mFileNotFoundError\u001b[0m                         Traceback (most recent call last)",
      "Input \u001b[0;32mIn [11]\u001b[0m, in \u001b[0;36m<cell line: 10>\u001b[0;34m()\u001b[0m\n\u001b[1;32m     22\u001b[0m     model \u001b[38;5;241m=\u001b[39m torch\u001b[38;5;241m.\u001b[39mnn\u001b[38;5;241m.\u001b[39mDataParallel(model)\u001b[38;5;241m.\u001b[39mcuda()\n\u001b[1;32m     23\u001b[0m     load_path \u001b[38;5;241m=\u001b[39m \u001b[38;5;124mf\u001b[39m\u001b[38;5;124m\"\u001b[39m\u001b[38;5;124m/gpfs/data/denizlab/Users/hh2740/git_backups/MIMICCXR-MutliModal-SelfSupervision/chexpert_evaluation/model_saved/m-epoch_FL_resnet_p0.01_s\u001b[39m\u001b[38;5;132;01m{\u001b[39;00mseed\u001b[38;5;132;01m}\u001b[39;00m\u001b[38;5;132;01m{\u001b[39;00mi\u001b[38;5;132;01m}\u001b[39;00m\u001b[38;5;124m.pth.tar\u001b[39m\u001b[38;5;124m\"\u001b[39m\n\u001b[0;32m---> 24\u001b[0m     \u001b[43mload_model\u001b[49m\u001b[43m(\u001b[49m\u001b[43mload_path\u001b[49m\u001b[43m,\u001b[49m\u001b[43m \u001b[49m\u001b[43mmodel\u001b[49m\u001b[43m)\u001b[49m\n\u001b[1;32m     25\u001b[0m     models\u001b[38;5;241m.\u001b[39mappend(model)\n\u001b[1;32m     27\u001b[0m outGT, outPRED \u001b[38;5;241m=\u001b[39m CheXpertTrainer\u001b[38;5;241m.\u001b[39mtest_e(models, dataLoaderVal, nnClassCount, path, class_names)\n",
      "Input \u001b[0;32mIn [9]\u001b[0m, in \u001b[0;36mload_model\u001b[0;34m(load_path, model)\u001b[0m\n\u001b[1;32m      1\u001b[0m \u001b[38;5;28;01mdef\u001b[39;00m \u001b[38;5;21mload_model\u001b[39m(load_path, model):\n\u001b[1;32m      2\u001b[0m     load_path \u001b[38;5;241m=\u001b[39m load_path\n\u001b[0;32m----> 3\u001b[0m     checkpoint \u001b[38;5;241m=\u001b[39m \u001b[43mtorch\u001b[49m\u001b[38;5;241;43m.\u001b[39;49m\u001b[43mload\u001b[49m\u001b[43m(\u001b[49m\u001b[43mload_path\u001b[49m\u001b[43m)\u001b[49m\n\u001b[1;32m      4\u001b[0m     state_dict \u001b[38;5;241m=\u001b[39m {k\u001b[38;5;241m.\u001b[39mreplace(\u001b[38;5;124m\"\u001b[39m\u001b[38;5;124mimg_backbone.\u001b[39m\u001b[38;5;124m\"\u001b[39m, \u001b[38;5;124m\"\u001b[39m\u001b[38;5;124mmodule.\u001b[39m\u001b[38;5;124m\"\u001b[39m): v \u001b[38;5;28;01mfor\u001b[39;00m k, v \u001b[38;5;129;01min\u001b[39;00m checkpoint[\u001b[38;5;124m'\u001b[39m\u001b[38;5;124mstate_dict\u001b[39m\u001b[38;5;124m'\u001b[39m]\u001b[38;5;241m.\u001b[39mitems()}\n\u001b[1;32m      5\u001b[0m     load_status \u001b[38;5;241m=\u001b[39m model\u001b[38;5;241m.\u001b[39mload_state_dict(state_dict, strict\u001b[38;5;241m=\u001b[39m\u001b[38;5;28;01mFalse\u001b[39;00m)\n",
      "File \u001b[0;32m/gpfs/share/skynet/apps/anaconda3/envs/opence_env_1.5.1/lib/python3.8/site-packages/torch/serialization.py:594\u001b[0m, in \u001b[0;36mload\u001b[0;34m(f, map_location, pickle_module, **pickle_load_args)\u001b[0m\n\u001b[1;32m    591\u001b[0m \u001b[38;5;28;01mif\u001b[39;00m \u001b[38;5;124m'\u001b[39m\u001b[38;5;124mencoding\u001b[39m\u001b[38;5;124m'\u001b[39m \u001b[38;5;129;01mnot\u001b[39;00m \u001b[38;5;129;01min\u001b[39;00m pickle_load_args\u001b[38;5;241m.\u001b[39mkeys():\n\u001b[1;32m    592\u001b[0m     pickle_load_args[\u001b[38;5;124m'\u001b[39m\u001b[38;5;124mencoding\u001b[39m\u001b[38;5;124m'\u001b[39m] \u001b[38;5;241m=\u001b[39m \u001b[38;5;124m'\u001b[39m\u001b[38;5;124mutf-8\u001b[39m\u001b[38;5;124m'\u001b[39m\n\u001b[0;32m--> 594\u001b[0m \u001b[38;5;28;01mwith\u001b[39;00m \u001b[43m_open_file_like\u001b[49m\u001b[43m(\u001b[49m\u001b[43mf\u001b[49m\u001b[43m,\u001b[49m\u001b[43m \u001b[49m\u001b[38;5;124;43m'\u001b[39;49m\u001b[38;5;124;43mrb\u001b[39;49m\u001b[38;5;124;43m'\u001b[39;49m\u001b[43m)\u001b[49m \u001b[38;5;28;01mas\u001b[39;00m opened_file:\n\u001b[1;32m    595\u001b[0m     \u001b[38;5;28;01mif\u001b[39;00m _is_zipfile(opened_file):\n\u001b[1;32m    596\u001b[0m         \u001b[38;5;66;03m# The zipfile reader is going to advance the current file position.\u001b[39;00m\n\u001b[1;32m    597\u001b[0m         \u001b[38;5;66;03m# If we want to actually tail call to torch.jit.load, we need to\u001b[39;00m\n\u001b[1;32m    598\u001b[0m         \u001b[38;5;66;03m# reset back to the original position.\u001b[39;00m\n\u001b[1;32m    599\u001b[0m         orig_position \u001b[38;5;241m=\u001b[39m opened_file\u001b[38;5;241m.\u001b[39mtell()\n",
      "File \u001b[0;32m/gpfs/share/skynet/apps/anaconda3/envs/opence_env_1.5.1/lib/python3.8/site-packages/torch/serialization.py:230\u001b[0m, in \u001b[0;36m_open_file_like\u001b[0;34m(name_or_buffer, mode)\u001b[0m\n\u001b[1;32m    228\u001b[0m \u001b[38;5;28;01mdef\u001b[39;00m \u001b[38;5;21m_open_file_like\u001b[39m(name_or_buffer, mode):\n\u001b[1;32m    229\u001b[0m     \u001b[38;5;28;01mif\u001b[39;00m _is_path(name_or_buffer):\n\u001b[0;32m--> 230\u001b[0m         \u001b[38;5;28;01mreturn\u001b[39;00m \u001b[43m_open_file\u001b[49m\u001b[43m(\u001b[49m\u001b[43mname_or_buffer\u001b[49m\u001b[43m,\u001b[49m\u001b[43m \u001b[49m\u001b[43mmode\u001b[49m\u001b[43m)\u001b[49m\n\u001b[1;32m    231\u001b[0m     \u001b[38;5;28;01melse\u001b[39;00m:\n\u001b[1;32m    232\u001b[0m         \u001b[38;5;28;01mif\u001b[39;00m \u001b[38;5;124m'\u001b[39m\u001b[38;5;124mw\u001b[39m\u001b[38;5;124m'\u001b[39m \u001b[38;5;129;01min\u001b[39;00m mode:\n",
      "File \u001b[0;32m/gpfs/share/skynet/apps/anaconda3/envs/opence_env_1.5.1/lib/python3.8/site-packages/torch/serialization.py:211\u001b[0m, in \u001b[0;36m_open_file.__init__\u001b[0;34m(self, name, mode)\u001b[0m\n\u001b[1;32m    210\u001b[0m \u001b[38;5;28;01mdef\u001b[39;00m \u001b[38;5;21m__init__\u001b[39m(\u001b[38;5;28mself\u001b[39m, name, mode):\n\u001b[0;32m--> 211\u001b[0m     \u001b[38;5;28msuper\u001b[39m(_open_file, \u001b[38;5;28mself\u001b[39m)\u001b[38;5;241m.\u001b[39m\u001b[38;5;21m__init__\u001b[39m(\u001b[38;5;28;43mopen\u001b[39;49m\u001b[43m(\u001b[49m\u001b[43mname\u001b[49m\u001b[43m,\u001b[49m\u001b[43m \u001b[49m\u001b[43mmode\u001b[49m\u001b[43m)\u001b[49m)\n",
      "\u001b[0;31mFileNotFoundError\u001b[0m: [Errno 2] No such file or directory: '/gpfs/data/denizlab/Users/hh2740/git_backups/MIMICCXR-MutliModal-SelfSupervision/chexpert_evaluation/model_saved/m-epoch_FL_resnet_p0.01_s20230.pth.tar'"
     ]
    }
   ],
   "source": [
    "models = []\n",
    "\n",
    "seeds = [2023, 2022, 1666, 1000, 42]\n",
    "# best_epoch_vicreg = [4, 2, 4, 5, 3]\n",
    "# best_epoch_convirt = [2, 2, 2, 1, 2]\n",
    "\n",
    "ensemble_start = 0\n",
    "ensemble_end = 5\n",
    "\n",
    "for i in range(ensemble_start, ensemble_end):\n",
    "    #seed, epoch_vicreg, epoch_convirt = seeds[i], best_epoch_vicreg[i], best_epoch_convirt[i]\n",
    "    seed = seeds[i]\n",
    "    # vicreg\n",
    "#     model = resnet_model(size, features_dim, out_size, pretrained=False).cuda() # Step 0: Initialize global model and load the model\n",
    "#     model = torch.nn.DataParallel(model).cuda()\n",
    "#     load_path = f\"/gpfs/data/denizlab/Users/hh2740/git_backups/MIMICCXR-MutliModal-SelfSupervision/chexpert_evaluation/model_saved/m-epoch_FL_resnet_vicreg_s{seed}{epoch_vicreg}.pth.tar\"\n",
    "#     load_model(load_path, model)\n",
    "#     models.append(model)\n",
    "    \n",
    "    # convirt\n",
    "    model = resnet_model(size, features_dim, out_size, pretrained=False).cuda() # Step 0: Initialize global model and load the model\n",
    "    model = torch.nn.DataParallel(model).cuda()\n",
    "    load_path = f\"/gpfs/data/denizlab/Users/hh2740/git_backups/MIMICCXR-MutliModal-SelfSupervision/chexpert_evaluation/model_saved/m-epoch_FL_resnet_p0.01_s{seed}{i}.pth.tar\"\n",
    "    load_model(load_path, model)\n",
    "    models.append(model)\n",
    "    \n",
    "outGT, outPRED = CheXpertTrainer.test_e(models, dataLoaderVal, nnClassCount, path, class_names)\n",
    "print()"
   ]
  },
  {
   "cell_type": "code",
   "execution_count": 389,
   "id": "16c83ccb",
   "metadata": {
    "scrolled": true
   },
   "outputs": [
    {
     "name": "stdout",
     "output_type": "stream",
     "text": [
      "odict_keys(['img_backbone.backbone.conv1.weight', 'img_backbone.backbone.bn1.weight', 'img_backbone.backbone.bn1.bias', 'img_backbone.backbone.bn1.running_mean', 'img_backbone.backbone.bn1.running_var', 'img_backbone.backbone.bn1.num_batches_tracked', 'img_backbone.backbone.layer1.0.conv1.weight', 'img_backbone.backbone.layer1.0.bn1.weight', 'img_backbone.backbone.layer1.0.bn1.bias', 'img_backbone.backbone.layer1.0.bn1.running_mean', 'img_backbone.backbone.layer1.0.bn1.running_var', 'img_backbone.backbone.layer1.0.bn1.num_batches_tracked', 'img_backbone.backbone.layer1.0.conv2.weight', 'img_backbone.backbone.layer1.0.bn2.weight', 'img_backbone.backbone.layer1.0.bn2.bias', 'img_backbone.backbone.layer1.0.bn2.running_mean', 'img_backbone.backbone.layer1.0.bn2.running_var', 'img_backbone.backbone.layer1.0.bn2.num_batches_tracked', 'img_backbone.backbone.layer1.0.conv3.weight', 'img_backbone.backbone.layer1.0.bn3.weight', 'img_backbone.backbone.layer1.0.bn3.bias', 'img_backbone.backbone.layer1.0.bn3.running_mean', 'img_backbone.backbone.layer1.0.bn3.running_var', 'img_backbone.backbone.layer1.0.bn3.num_batches_tracked', 'img_backbone.backbone.layer1.0.downsample.0.weight', 'img_backbone.backbone.layer1.0.downsample.1.weight', 'img_backbone.backbone.layer1.0.downsample.1.bias', 'img_backbone.backbone.layer1.0.downsample.1.running_mean', 'img_backbone.backbone.layer1.0.downsample.1.running_var', 'img_backbone.backbone.layer1.0.downsample.1.num_batches_tracked', 'img_backbone.backbone.layer1.1.conv1.weight', 'img_backbone.backbone.layer1.1.bn1.weight', 'img_backbone.backbone.layer1.1.bn1.bias', 'img_backbone.backbone.layer1.1.bn1.running_mean', 'img_backbone.backbone.layer1.1.bn1.running_var', 'img_backbone.backbone.layer1.1.bn1.num_batches_tracked', 'img_backbone.backbone.layer1.1.conv2.weight', 'img_backbone.backbone.layer1.1.bn2.weight', 'img_backbone.backbone.layer1.1.bn2.bias', 'img_backbone.backbone.layer1.1.bn2.running_mean', 'img_backbone.backbone.layer1.1.bn2.running_var', 'img_backbone.backbone.layer1.1.bn2.num_batches_tracked', 'img_backbone.backbone.layer1.1.conv3.weight', 'img_backbone.backbone.layer1.1.bn3.weight', 'img_backbone.backbone.layer1.1.bn3.bias', 'img_backbone.backbone.layer1.1.bn3.running_mean', 'img_backbone.backbone.layer1.1.bn3.running_var', 'img_backbone.backbone.layer1.1.bn3.num_batches_tracked', 'img_backbone.backbone.layer1.2.conv1.weight', 'img_backbone.backbone.layer1.2.bn1.weight', 'img_backbone.backbone.layer1.2.bn1.bias', 'img_backbone.backbone.layer1.2.bn1.running_mean', 'img_backbone.backbone.layer1.2.bn1.running_var', 'img_backbone.backbone.layer1.2.bn1.num_batches_tracked', 'img_backbone.backbone.layer1.2.conv2.weight', 'img_backbone.backbone.layer1.2.bn2.weight', 'img_backbone.backbone.layer1.2.bn2.bias', 'img_backbone.backbone.layer1.2.bn2.running_mean', 'img_backbone.backbone.layer1.2.bn2.running_var', 'img_backbone.backbone.layer1.2.bn2.num_batches_tracked', 'img_backbone.backbone.layer1.2.conv3.weight', 'img_backbone.backbone.layer1.2.bn3.weight', 'img_backbone.backbone.layer1.2.bn3.bias', 'img_backbone.backbone.layer1.2.bn3.running_mean', 'img_backbone.backbone.layer1.2.bn3.running_var', 'img_backbone.backbone.layer1.2.bn3.num_batches_tracked', 'img_backbone.backbone.layer2.0.conv1.weight', 'img_backbone.backbone.layer2.0.bn1.weight', 'img_backbone.backbone.layer2.0.bn1.bias', 'img_backbone.backbone.layer2.0.bn1.running_mean', 'img_backbone.backbone.layer2.0.bn1.running_var', 'img_backbone.backbone.layer2.0.bn1.num_batches_tracked', 'img_backbone.backbone.layer2.0.conv2.weight', 'img_backbone.backbone.layer2.0.bn2.weight', 'img_backbone.backbone.layer2.0.bn2.bias', 'img_backbone.backbone.layer2.0.bn2.running_mean', 'img_backbone.backbone.layer2.0.bn2.running_var', 'img_backbone.backbone.layer2.0.bn2.num_batches_tracked', 'img_backbone.backbone.layer2.0.conv3.weight', 'img_backbone.backbone.layer2.0.bn3.weight', 'img_backbone.backbone.layer2.0.bn3.bias', 'img_backbone.backbone.layer2.0.bn3.running_mean', 'img_backbone.backbone.layer2.0.bn3.running_var', 'img_backbone.backbone.layer2.0.bn3.num_batches_tracked', 'img_backbone.backbone.layer2.0.downsample.0.weight', 'img_backbone.backbone.layer2.0.downsample.1.weight', 'img_backbone.backbone.layer2.0.downsample.1.bias', 'img_backbone.backbone.layer2.0.downsample.1.running_mean', 'img_backbone.backbone.layer2.0.downsample.1.running_var', 'img_backbone.backbone.layer2.0.downsample.1.num_batches_tracked', 'img_backbone.backbone.layer2.1.conv1.weight', 'img_backbone.backbone.layer2.1.bn1.weight', 'img_backbone.backbone.layer2.1.bn1.bias', 'img_backbone.backbone.layer2.1.bn1.running_mean', 'img_backbone.backbone.layer2.1.bn1.running_var', 'img_backbone.backbone.layer2.1.bn1.num_batches_tracked', 'img_backbone.backbone.layer2.1.conv2.weight', 'img_backbone.backbone.layer2.1.bn2.weight', 'img_backbone.backbone.layer2.1.bn2.bias', 'img_backbone.backbone.layer2.1.bn2.running_mean', 'img_backbone.backbone.layer2.1.bn2.running_var', 'img_backbone.backbone.layer2.1.bn2.num_batches_tracked', 'img_backbone.backbone.layer2.1.conv3.weight', 'img_backbone.backbone.layer2.1.bn3.weight', 'img_backbone.backbone.layer2.1.bn3.bias', 'img_backbone.backbone.layer2.1.bn3.running_mean', 'img_backbone.backbone.layer2.1.bn3.running_var', 'img_backbone.backbone.layer2.1.bn3.num_batches_tracked', 'img_backbone.backbone.layer2.2.conv1.weight', 'img_backbone.backbone.layer2.2.bn1.weight', 'img_backbone.backbone.layer2.2.bn1.bias', 'img_backbone.backbone.layer2.2.bn1.running_mean', 'img_backbone.backbone.layer2.2.bn1.running_var', 'img_backbone.backbone.layer2.2.bn1.num_batches_tracked', 'img_backbone.backbone.layer2.2.conv2.weight', 'img_backbone.backbone.layer2.2.bn2.weight', 'img_backbone.backbone.layer2.2.bn2.bias', 'img_backbone.backbone.layer2.2.bn2.running_mean', 'img_backbone.backbone.layer2.2.bn2.running_var', 'img_backbone.backbone.layer2.2.bn2.num_batches_tracked', 'img_backbone.backbone.layer2.2.conv3.weight', 'img_backbone.backbone.layer2.2.bn3.weight', 'img_backbone.backbone.layer2.2.bn3.bias', 'img_backbone.backbone.layer2.2.bn3.running_mean', 'img_backbone.backbone.layer2.2.bn3.running_var', 'img_backbone.backbone.layer2.2.bn3.num_batches_tracked', 'img_backbone.backbone.layer2.3.conv1.weight', 'img_backbone.backbone.layer2.3.bn1.weight', 'img_backbone.backbone.layer2.3.bn1.bias', 'img_backbone.backbone.layer2.3.bn1.running_mean', 'img_backbone.backbone.layer2.3.bn1.running_var', 'img_backbone.backbone.layer2.3.bn1.num_batches_tracked', 'img_backbone.backbone.layer2.3.conv2.weight', 'img_backbone.backbone.layer2.3.bn2.weight', 'img_backbone.backbone.layer2.3.bn2.bias', 'img_backbone.backbone.layer2.3.bn2.running_mean', 'img_backbone.backbone.layer2.3.bn2.running_var', 'img_backbone.backbone.layer2.3.bn2.num_batches_tracked', 'img_backbone.backbone.layer2.3.conv3.weight', 'img_backbone.backbone.layer2.3.bn3.weight', 'img_backbone.backbone.layer2.3.bn3.bias', 'img_backbone.backbone.layer2.3.bn3.running_mean', 'img_backbone.backbone.layer2.3.bn3.running_var', 'img_backbone.backbone.layer2.3.bn3.num_batches_tracked', 'img_backbone.backbone.layer3.0.conv1.weight', 'img_backbone.backbone.layer3.0.bn1.weight', 'img_backbone.backbone.layer3.0.bn1.bias', 'img_backbone.backbone.layer3.0.bn1.running_mean', 'img_backbone.backbone.layer3.0.bn1.running_var', 'img_backbone.backbone.layer3.0.bn1.num_batches_tracked', 'img_backbone.backbone.layer3.0.conv2.weight', 'img_backbone.backbone.layer3.0.bn2.weight', 'img_backbone.backbone.layer3.0.bn2.bias', 'img_backbone.backbone.layer3.0.bn2.running_mean', 'img_backbone.backbone.layer3.0.bn2.running_var', 'img_backbone.backbone.layer3.0.bn2.num_batches_tracked', 'img_backbone.backbone.layer3.0.conv3.weight', 'img_backbone.backbone.layer3.0.bn3.weight', 'img_backbone.backbone.layer3.0.bn3.bias', 'img_backbone.backbone.layer3.0.bn3.running_mean', 'img_backbone.backbone.layer3.0.bn3.running_var', 'img_backbone.backbone.layer3.0.bn3.num_batches_tracked', 'img_backbone.backbone.layer3.0.downsample.0.weight', 'img_backbone.backbone.layer3.0.downsample.1.weight', 'img_backbone.backbone.layer3.0.downsample.1.bias', 'img_backbone.backbone.layer3.0.downsample.1.running_mean', 'img_backbone.backbone.layer3.0.downsample.1.running_var', 'img_backbone.backbone.layer3.0.downsample.1.num_batches_tracked', 'img_backbone.backbone.layer3.1.conv1.weight', 'img_backbone.backbone.layer3.1.bn1.weight', 'img_backbone.backbone.layer3.1.bn1.bias', 'img_backbone.backbone.layer3.1.bn1.running_mean', 'img_backbone.backbone.layer3.1.bn1.running_var', 'img_backbone.backbone.layer3.1.bn1.num_batches_tracked', 'img_backbone.backbone.layer3.1.conv2.weight', 'img_backbone.backbone.layer3.1.bn2.weight', 'img_backbone.backbone.layer3.1.bn2.bias', 'img_backbone.backbone.layer3.1.bn2.running_mean', 'img_backbone.backbone.layer3.1.bn2.running_var', 'img_backbone.backbone.layer3.1.bn2.num_batches_tracked', 'img_backbone.backbone.layer3.1.conv3.weight', 'img_backbone.backbone.layer3.1.bn3.weight', 'img_backbone.backbone.layer3.1.bn3.bias', 'img_backbone.backbone.layer3.1.bn3.running_mean', 'img_backbone.backbone.layer3.1.bn3.running_var', 'img_backbone.backbone.layer3.1.bn3.num_batches_tracked', 'img_backbone.backbone.layer3.2.conv1.weight', 'img_backbone.backbone.layer3.2.bn1.weight', 'img_backbone.backbone.layer3.2.bn1.bias', 'img_backbone.backbone.layer3.2.bn1.running_mean', 'img_backbone.backbone.layer3.2.bn1.running_var', 'img_backbone.backbone.layer3.2.bn1.num_batches_tracked', 'img_backbone.backbone.layer3.2.conv2.weight', 'img_backbone.backbone.layer3.2.bn2.weight', 'img_backbone.backbone.layer3.2.bn2.bias', 'img_backbone.backbone.layer3.2.bn2.running_mean', 'img_backbone.backbone.layer3.2.bn2.running_var', 'img_backbone.backbone.layer3.2.bn2.num_batches_tracked', 'img_backbone.backbone.layer3.2.conv3.weight', 'img_backbone.backbone.layer3.2.bn3.weight', 'img_backbone.backbone.layer3.2.bn3.bias', 'img_backbone.backbone.layer3.2.bn3.running_mean', 'img_backbone.backbone.layer3.2.bn3.running_var', 'img_backbone.backbone.layer3.2.bn3.num_batches_tracked', 'img_backbone.backbone.layer3.3.conv1.weight', 'img_backbone.backbone.layer3.3.bn1.weight', 'img_backbone.backbone.layer3.3.bn1.bias', 'img_backbone.backbone.layer3.3.bn1.running_mean', 'img_backbone.backbone.layer3.3.bn1.running_var', 'img_backbone.backbone.layer3.3.bn1.num_batches_tracked', 'img_backbone.backbone.layer3.3.conv2.weight', 'img_backbone.backbone.layer3.3.bn2.weight', 'img_backbone.backbone.layer3.3.bn2.bias', 'img_backbone.backbone.layer3.3.bn2.running_mean', 'img_backbone.backbone.layer3.3.bn2.running_var', 'img_backbone.backbone.layer3.3.bn2.num_batches_tracked', 'img_backbone.backbone.layer3.3.conv3.weight', 'img_backbone.backbone.layer3.3.bn3.weight', 'img_backbone.backbone.layer3.3.bn3.bias', 'img_backbone.backbone.layer3.3.bn3.running_mean', 'img_backbone.backbone.layer3.3.bn3.running_var', 'img_backbone.backbone.layer3.3.bn3.num_batches_tracked', 'img_backbone.backbone.layer3.4.conv1.weight', 'img_backbone.backbone.layer3.4.bn1.weight', 'img_backbone.backbone.layer3.4.bn1.bias', 'img_backbone.backbone.layer3.4.bn1.running_mean', 'img_backbone.backbone.layer3.4.bn1.running_var', 'img_backbone.backbone.layer3.4.bn1.num_batches_tracked', 'img_backbone.backbone.layer3.4.conv2.weight', 'img_backbone.backbone.layer3.4.bn2.weight', 'img_backbone.backbone.layer3.4.bn2.bias', 'img_backbone.backbone.layer3.4.bn2.running_mean', 'img_backbone.backbone.layer3.4.bn2.running_var', 'img_backbone.backbone.layer3.4.bn2.num_batches_tracked', 'img_backbone.backbone.layer3.4.conv3.weight', 'img_backbone.backbone.layer3.4.bn3.weight', 'img_backbone.backbone.layer3.4.bn3.bias', 'img_backbone.backbone.layer3.4.bn3.running_mean', 'img_backbone.backbone.layer3.4.bn3.running_var', 'img_backbone.backbone.layer3.4.bn3.num_batches_tracked', 'img_backbone.backbone.layer3.5.conv1.weight', 'img_backbone.backbone.layer3.5.bn1.weight', 'img_backbone.backbone.layer3.5.bn1.bias', 'img_backbone.backbone.layer3.5.bn1.running_mean', 'img_backbone.backbone.layer3.5.bn1.running_var', 'img_backbone.backbone.layer3.5.bn1.num_batches_tracked', 'img_backbone.backbone.layer3.5.conv2.weight', 'img_backbone.backbone.layer3.5.bn2.weight', 'img_backbone.backbone.layer3.5.bn2.bias', 'img_backbone.backbone.layer3.5.bn2.running_mean', 'img_backbone.backbone.layer3.5.bn2.running_var', 'img_backbone.backbone.layer3.5.bn2.num_batches_tracked', 'img_backbone.backbone.layer3.5.conv3.weight', 'img_backbone.backbone.layer3.5.bn3.weight', 'img_backbone.backbone.layer3.5.bn3.bias', 'img_backbone.backbone.layer3.5.bn3.running_mean', 'img_backbone.backbone.layer3.5.bn3.running_var', 'img_backbone.backbone.layer3.5.bn3.num_batches_tracked', 'img_backbone.backbone.layer4.0.conv1.weight', 'img_backbone.backbone.layer4.0.bn1.weight', 'img_backbone.backbone.layer4.0.bn1.bias', 'img_backbone.backbone.layer4.0.bn1.running_mean', 'img_backbone.backbone.layer4.0.bn1.running_var', 'img_backbone.backbone.layer4.0.bn1.num_batches_tracked', 'img_backbone.backbone.layer4.0.conv2.weight', 'img_backbone.backbone.layer4.0.bn2.weight', 'img_backbone.backbone.layer4.0.bn2.bias', 'img_backbone.backbone.layer4.0.bn2.running_mean', 'img_backbone.backbone.layer4.0.bn2.running_var', 'img_backbone.backbone.layer4.0.bn2.num_batches_tracked', 'img_backbone.backbone.layer4.0.conv3.weight', 'img_backbone.backbone.layer4.0.bn3.weight', 'img_backbone.backbone.layer4.0.bn3.bias', 'img_backbone.backbone.layer4.0.bn3.running_mean', 'img_backbone.backbone.layer4.0.bn3.running_var', 'img_backbone.backbone.layer4.0.bn3.num_batches_tracked', 'img_backbone.backbone.layer4.0.downsample.0.weight', 'img_backbone.backbone.layer4.0.downsample.1.weight', 'img_backbone.backbone.layer4.0.downsample.1.bias', 'img_backbone.backbone.layer4.0.downsample.1.running_mean', 'img_backbone.backbone.layer4.0.downsample.1.running_var', 'img_backbone.backbone.layer4.0.downsample.1.num_batches_tracked', 'img_backbone.backbone.layer4.1.conv1.weight', 'img_backbone.backbone.layer4.1.bn1.weight', 'img_backbone.backbone.layer4.1.bn1.bias', 'img_backbone.backbone.layer4.1.bn1.running_mean', 'img_backbone.backbone.layer4.1.bn1.running_var', 'img_backbone.backbone.layer4.1.bn1.num_batches_tracked', 'img_backbone.backbone.layer4.1.conv2.weight', 'img_backbone.backbone.layer4.1.bn2.weight', 'img_backbone.backbone.layer4.1.bn2.bias', 'img_backbone.backbone.layer4.1.bn2.running_mean', 'img_backbone.backbone.layer4.1.bn2.running_var', 'img_backbone.backbone.layer4.1.bn2.num_batches_tracked', 'img_backbone.backbone.layer4.1.conv3.weight', 'img_backbone.backbone.layer4.1.bn3.weight', 'img_backbone.backbone.layer4.1.bn3.bias', 'img_backbone.backbone.layer4.1.bn3.running_mean', 'img_backbone.backbone.layer4.1.bn3.running_var', 'img_backbone.backbone.layer4.1.bn3.num_batches_tracked', 'img_backbone.backbone.layer4.2.conv1.weight', 'img_backbone.backbone.layer4.2.bn1.weight', 'img_backbone.backbone.layer4.2.bn1.bias', 'img_backbone.backbone.layer4.2.bn1.running_mean', 'img_backbone.backbone.layer4.2.bn1.running_var', 'img_backbone.backbone.layer4.2.bn1.num_batches_tracked', 'img_backbone.backbone.layer4.2.conv2.weight', 'img_backbone.backbone.layer4.2.bn2.weight', 'img_backbone.backbone.layer4.2.bn2.bias', 'img_backbone.backbone.layer4.2.bn2.running_mean', 'img_backbone.backbone.layer4.2.bn2.running_var', 'img_backbone.backbone.layer4.2.bn2.num_batches_tracked', 'img_backbone.backbone.layer4.2.conv3.weight', 'img_backbone.backbone.layer4.2.bn3.weight', 'img_backbone.backbone.layer4.2.bn3.bias', 'img_backbone.backbone.layer4.2.bn3.running_mean', 'img_backbone.backbone.layer4.2.bn3.running_var', 'img_backbone.backbone.layer4.2.bn3.num_batches_tracked', 'img_projector.projection.weight', 'img_projector.projection.bias', 'img_projector.fc.weight', 'img_projector.fc.bias', 'simclr_projector.0.weight', 'simclr_projector.1.weight', 'simclr_projector.1.bias', 'simclr_projector.1.running_mean', 'simclr_projector.1.running_var', 'simclr_projector.1.num_batches_tracked', 'simclr_projector.3.weight', 'simclr_projector.3.bias'])\n"
     ]
    }
   ],
   "source": [
    "load_path = \"/gpfs/data/denizlab/Users/hh2740/git_backups/MIMICCXR-MutliModal-SelfSupervision/submitit/simclr_saved/epoch=40-step=48667.ckpt\"\n",
    "checkpoint = torch.load(load_path)\n",
    "print(checkpoint['state_dict'].keys())\n",
    "#state_dict = {k.replace(\"img_backbone.\", \"module.\"): v for k, v in checkpoint['state_dict'].items()}"
   ]
  },
  {
   "cell_type": "code",
   "execution_count": 375,
   "id": "752e0c26",
   "metadata": {},
   "outputs": [
    {
     "data": {
      "text/plain": [
       "0.854028183975128"
      ]
     },
     "execution_count": 375,
     "metadata": {},
     "output_type": "execute_result"
    }
   ],
   "source": [
    "np.mean(np.array([0.7963564557721694, 0.8460177896340547, 0.8609992414796769, 0.8573519903942232, 0.8484199079734627]))"
   ]
  },
  {
   "cell_type": "code",
   "execution_count": 446,
   "id": "6b4d6b6a",
   "metadata": {},
   "outputs": [
    {
     "data": {
      "text/plain": [
       "torch.Size([3, 32, 768])"
      ]
     },
     "execution_count": 446,
     "metadata": {},
     "output_type": "execute_result"
    }
   ],
   "source": [
    "torch.stack((torch.zeros(32, 768), torch.zeros(32, 768), torch.zeros(32, 768))).shape"
   ]
  },
  {
   "cell_type": "code",
   "execution_count": 412,
   "id": "e7c0207e",
   "metadata": {},
   "outputs": [
    {
     "data": {
      "text/plain": [
       "tensor([[ 0.0612,  0.6523,  0.7293,  ...,  0.9127,  0.8405, -0.3035],\n",
       "        [-0.1766, -0.3986,  1.7157,  ..., -0.2744, -2.4627, -1.4119],\n",
       "        [ 1.3990,  0.4294,  0.8121,  ..., -0.7481,  0.2086, -0.6759],\n",
       "        ...,\n",
       "        [ 1.8974, -0.8985,  0.9528,  ..., -1.9623, -1.0572,  0.6710],\n",
       "        [-1.3950, -1.5724,  1.0340,  ...,  1.8610,  1.6185,  0.7104],\n",
       "        [ 0.6858,  0.0509, -0.3746,  ..., -2.2926, -0.7581,  0.7396]])"
      ]
     },
     "execution_count": 412,
     "metadata": {},
     "output_type": "execute_result"
    }
   ],
   "source": [
    "img_feat_ssl2_proj = torch.randn(32, 128)\n",
    "img_feat_ssl2_proj"
   ]
  },
  {
   "cell_type": "code",
   "execution_count": 413,
   "id": "e7ffbf74",
   "metadata": {},
   "outputs": [
    {
     "data": {
      "text/plain": [
       "tensor([[ 2.3703, -0.4529, -0.3928,  ..., -0.1443,  0.2395, -0.3200],\n",
       "        [ 0.5528, -1.3607,  1.5519,  ...,  1.5352,  0.1794,  0.6777],\n",
       "        [-0.7459,  1.4885,  0.7793,  ..., -0.5284, -0.4820, -0.1515],\n",
       "        ...,\n",
       "        [ 0.2757, -0.9221, -0.7692,  ..., -0.7576, -0.9913,  1.0155],\n",
       "        [ 2.0740,  0.0545,  0.3782,  ...,  0.6697, -0.5545, -0.3836],\n",
       "        [ 0.4471, -0.0448,  0.2669,  ...,  1.7319, -2.1401,  0.3308]])"
      ]
     },
     "execution_count": 413,
     "metadata": {},
     "output_type": "execute_result"
    }
   ],
   "source": [
    "img_feat_mm2_proj = torch.randn(32, 128)\n",
    "img_feat_mm2_proj"
   ]
  },
  {
   "cell_type": "code",
   "execution_count": 415,
   "id": "6025adae",
   "metadata": {},
   "outputs": [],
   "source": [
    "import torch.nn.functional as F"
   ]
  },
  {
   "cell_type": "code",
   "execution_count": 418,
   "id": "1db93b1c",
   "metadata": {},
   "outputs": [
    {
     "data": {
      "text/plain": [
       "tensor([ 0.0054,  0.0500,  0.0253, -0.0525, -0.0943, -0.0767,  0.0163,  0.0431,\n",
       "        -0.0837,  0.1698, -0.1143,  0.0113, -0.1645, -0.0457, -0.1082,  0.0923,\n",
       "        -0.0502,  0.0084,  0.0866, -0.0382,  0.0285, -0.1252,  0.0182,  0.0992,\n",
       "        -0.0291, -0.0470,  0.0910, -0.0731,  0.0864, -0.0389, -0.0295,  0.0014])"
      ]
     },
     "execution_count": 418,
     "metadata": {},
     "output_type": "execute_result"
    }
   ],
   "source": [
    "F.cosine_similarity(img_feat_ssl2_proj, img_feat_mm2_proj, dim=1)"
   ]
  },
  {
   "cell_type": "code",
   "execution_count": 445,
   "id": "24a23ddf",
   "metadata": {},
   "outputs": [
    {
     "data": {
      "text/plain": [
       "0.8305291544798596"
      ]
     },
     "execution_count": 445,
     "metadata": {},
     "output_type": "execute_result"
    }
   ],
   "source": [
    "# RESNET_SLIP_VICREG_CONVIRT_s1000_mmssl4 0.1\n",
    "np.mean(np.array([]))"
   ]
  },
  {
   "cell_type": "code",
   "execution_count": 545,
   "id": "e523da41",
   "metadata": {},
   "outputs": [
    {
     "data": {
      "text/plain": [
       "0.018002593826570407"
      ]
     },
     "execution_count": 545,
     "metadata": {},
     "output_type": "execute_result"
    }
   ],
   "source": [
    "np.std(np.array([]))"
   ]
  },
  {
   "cell_type": "code",
   "execution_count": 550,
   "id": "5ed683e7",
   "metadata": {},
   "outputs": [
    {
     "data": {
      "text/plain": [
       "0.7655279487153237"
      ]
     },
     "execution_count": 550,
     "metadata": {},
     "output_type": "execute_result"
    }
   ],
   "source": [
    "# RESNET_SLIP_VICREG_CONVIRT_s1000_mmssl4 0.01\n",
    "np.mean(np.array([0.7362326756711707, 0.7644396937308322, 0.7660003558609572, 0.7701350717685825, 0.7908319465450758]))"
   ]
  },
  {
   "cell_type": "code",
   "execution_count": 551,
   "id": "8bfda74c",
   "metadata": {},
   "outputs": [
    {
     "data": {
      "text/plain": [
       "0.01744212360436632"
      ]
     },
     "execution_count": 551,
     "metadata": {},
     "output_type": "execute_result"
    }
   ],
   "source": [
    "np.std(np.array([0.7362326756711707, 0.7644396937308322, 0.7660003558609572, 0.7701350717685825, 0.7908319465450758]))"
   ]
  },
  {
   "cell_type": "code",
   "execution_count": null,
   "id": "e457b405",
   "metadata": {},
   "outputs": [],
   "source": [
    "# chestxray14\n",
    "# RESNET_RESNET_SLIP_VICREG_CONVIRT_p0.01 RESNET_RESNET_SLIP_MOCO_CLIP_p0.01"
   ]
  },
  {
   "cell_type": "code",
   "execution_count": 765,
   "id": "04fa2079",
   "metadata": {
    "scrolled": true
   },
   "outputs": [
    {
     "name": "stdout",
     "output_type": "stream",
     "text": [
      "Epoch 1 result:\n",
      "<All keys matched successfully>\n",
      "AUROC mean  0.721686812337637\n",
      "No Finding   0.8743444055944055\n",
      "Enlarged Cardiomediastinum   0.39135984290623466\n",
      "Cardiomegaly   0.8149509803921569\n",
      "Lung Opacity   0.8417295123177476\n",
      "Lung Lesion   0.1990049751243781\n",
      "Edema   0.9394345238095239\n",
      "Consolidation   0.7314338235294118\n",
      "Pneumonia   0.5934278350515464\n",
      "Atelectasis   0.7582152230971129\n",
      "Pneumothorax   0.7802197802197801\n",
      "Pleural Effusion   0.9322916666666667\n",
      "Pleural Other   0.6169154228855722\n",
      "Fracture   0.9086005687947435\n",
      "\n",
      "Epoch 2 result:\n",
      "<All keys matched successfully>\n",
      "AUROC mean  0.8261925830383648\n",
      "No Finding   0.864729020979021\n",
      "Enlarged Cardiomediastinum   0.5593519882179676\n",
      "Cardiomegaly   0.8092691622103388\n",
      "Lung Opacity   0.9104072398190045\n",
      "Lung Lesion   0.4577114427860697\n",
      "Edema   0.9328869047619047\n",
      "Consolidation   0.8902573529411765\n",
      "Pneumonia   0.8305412371134021\n",
      "Atelectasis   0.8492388451443569\n",
      "Pneumothorax   0.8776556776556776\n",
      "Pleural Effusion   0.9223278985507247\n",
      "Pleural Other   0.8706467661691543\n",
      "Fracture   0.9654800431499462\n",
      "\n",
      "Epoch 3 result:\n",
      "<All keys matched successfully>\n",
      "AUROC mean  0.7448165759567833\n",
      "No Finding   0.9143356643356644\n",
      "Enlarged Cardiomediastinum   0.5825233186057929\n",
      "Cardiomegaly   0.8093805704099821\n",
      "Lung Opacity   0.8556058320764203\n",
      "Lung Lesion   0.11442786069651745\n",
      "Edema   0.8854166666666667\n",
      "Consolidation   0.861764705882353\n",
      "Pneumonia   0.8279639175257733\n",
      "Atelectasis   0.7847769028871392\n",
      "Pneumothorax   0.6373626373626373\n",
      "Pleural Effusion   0.8496376811594203\n",
      "Pleural Other   0.8258706467661692\n",
      "Fracture   0.7335490830636462\n",
      "\n",
      "Epoch 4 result:\n",
      "<All keys matched successfully>\n",
      "AUROC mean  0.7500880103667865\n",
      "No Finding   0.9138986013986015\n",
      "Enlarged Cardiomediastinum   0.5879234167893962\n",
      "Cardiomegaly   0.8163992869875223\n",
      "Lung Opacity   0.8555052790346908\n",
      "Lung Lesion   0.1094527363184079\n",
      "Edema   0.8863095238095238\n",
      "Consolidation   0.851470588235294\n",
      "Pneumonia   0.8137886597938144\n",
      "Atelectasis   0.7937007874015749\n",
      "Pneumothorax   0.6593406593406593\n",
      "Pleural Effusion   0.857223731884058\n",
      "Pleural Other   0.8756218905472637\n",
      "Fracture   0.7305089732274199\n",
      "\n"
     ]
    }
   ],
   "source": [
    "idx_lst = [1,2,3,4]\n",
    "\n",
    "for i in idx_lst:\n",
    "    seed = 2022\n",
    "    #seed2 = 2023\n",
    "    \n",
    "    print(f\"Epoch {i} result:\")\n",
    "\n",
    "    load_path1 = f\"/gpfs/data/denizlab/Users/hh2740/git_backups/MIMICCXR-MutliModal-SelfSupervision/chexpert_evaluation/model_saved/m-epoch_FL_resnet_slip_vicreg_convirt_ours_lpft_s{seed}{i}.pth.tar\"\n",
    "    load_model(load_path1, model1)\n",
    "#     load_path2 = f\"/gpfs/data/denizlab/Users/hh2740/git_backups/MIMICCXR-MutliModal-SelfSupervision/chexpert_evaluation/model_saved/m-epoch_FL_resnet_vicreg_s{seed2}4.pth.tar\"\n",
    "#     load_model(load_path2, model2)\n",
    "\n",
    "    path = None\n",
    "    outGT, outPRED = CheXpertTrainer.test(model1, dataLoaderVal, nnClassCount, path, class_names)\n",
    "    print()"
   ]
  },
  {
   "cell_type": "code",
   "execution_count": 758,
   "id": "c0a6c3e0",
   "metadata": {},
   "outputs": [
    {
     "data": {
      "text/plain": [
       "0.8509932629453548"
      ]
     },
     "execution_count": 758,
     "metadata": {},
     "output_type": "execute_result"
    }
   ],
   "source": [
    "# resnet_slip_moco_convirt\n",
    "np.mean(np.array([0.8251068450830099]))"
   ]
  },
  {
   "cell_type": "code",
   "execution_count": 759,
   "id": "ec9ffdae",
   "metadata": {},
   "outputs": [
    {
     "data": {
      "text/plain": [
       "0.008236463203169488"
      ]
     },
     "execution_count": 759,
     "metadata": {},
     "output_type": "execute_result"
    }
   ],
   "source": [
    "# RANDOM chestxray14\n",
    "np.std(np.array([]))"
   ]
  },
  {
   "cell_type": "code",
   "execution_count": 510,
   "id": "e31f44e2",
   "metadata": {},
   "outputs": [
    {
     "data": {
      "text/plain": [
       "0.004445222154178577"
      ]
     },
     "execution_count": 510,
     "metadata": {},
     "output_type": "execute_result"
    }
   ],
   "source": [
    "#np.std(np.array([0.778, 0.777, 0.773, 0.777, 0.766]))"
   ]
  },
  {
   "cell_type": "code",
   "execution_count": 516,
   "id": "95daeeca",
   "metadata": {},
   "outputs": [
    {
     "data": {
      "text/plain": [
       "0.7827697448855986"
      ]
     },
     "execution_count": 516,
     "metadata": {},
     "output_type": "execute_result"
    }
   ],
   "source": [
    "# RANDOM chexpert\n",
    "np.mean(np.array([0.8023159196784952, 0.7746310841003469, 0.784566264714672, 0.7874043027122659, 0.7649311532222131]))"
   ]
  },
  {
   "cell_type": "code",
   "execution_count": 517,
   "id": "f6b5202b",
   "metadata": {},
   "outputs": [
    {
     "data": {
      "text/plain": [
       "0.012579449198513011"
      ]
     },
     "execution_count": 517,
     "metadata": {},
     "output_type": "execute_result"
    }
   ],
   "source": [
    "np.std(np.array([0.8023159196784952, 0.7746310841003469, 0.784566264714672, 0.7874043027122659, 0.7649311532222131]))"
   ]
  },
  {
   "cell_type": "code",
   "execution_count": 534,
   "id": "b39630a0",
   "metadata": {},
   "outputs": [
    {
     "data": {
      "text/plain": [
       "0.7798274447966608"
      ]
     },
     "execution_count": 534,
     "metadata": {},
     "output_type": "execute_result"
    }
   ],
   "source": [
    "# RESNET chexpert p0.1\n",
    "np.mean(np.array([0.7316378223915616, 0.7898667797452744, 0.7910063421081712, 0.7885807882264451, 0.7980454915118518]))"
   ]
  },
  {
   "cell_type": "code",
   "execution_count": 535,
   "id": "58a68f4e",
   "metadata": {},
   "outputs": [
    {
     "data": {
      "text/plain": [
       "0.0032385555380353066"
      ]
     },
     "execution_count": 535,
     "metadata": {},
     "output_type": "execute_result"
    }
   ],
   "source": [
    "np.std(np.array([0.8528571154790873, 0.8611800895287907, 0.8547912850815101, 0.8551106542379195, 0.8518800392197886]))"
   ]
  },
  {
   "cell_type": "code",
   "execution_count": 536,
   "id": "1e323b0f",
   "metadata": {},
   "outputs": [
    {
     "data": {
      "text/plain": [
       "0.7035561563493367"
      ]
     },
     "execution_count": 536,
     "metadata": {},
     "output_type": "execute_result"
    }
   ],
   "source": [
    "# RESNET random chexpert p0.1\n",
    "# (2022)\n",
    "np.mean(np.array([0.7025379790351979, 0.7183557974659771, 0.6874891384293128,  0.696252546811097, 0.7131453200050989]))"
   ]
  },
  {
   "cell_type": "code",
   "execution_count": 537,
   "id": "98258f9a",
   "metadata": {},
   "outputs": [
    {
     "data": {
      "text/plain": [
       "0.0111670040652881"
      ]
     },
     "execution_count": 537,
     "metadata": {},
     "output_type": "execute_result"
    }
   ],
   "source": [
    "np.std(np.array([0.7025379790351979, 0.7183557974659771, 0.6874891384293128,  0.696252546811097, 0.7131453200050989]))"
   ]
  },
  {
   "cell_type": "code",
   "execution_count": 452,
   "id": "9f8f8ad9",
   "metadata": {},
   "outputs": [
    {
     "data": {
      "text/plain": [
       "0.8551638367094192"
      ]
     },
     "execution_count": 452,
     "metadata": {},
     "output_type": "execute_result"
    }
   ],
   "source": [
    "# RESNET_SLIP_VICREG_CONVIRT_s1000_mmssl4 1.0\n",
    "np.mean(np.array([0.8528571154790873, 0.8611800895287907, 0.8547912850815101, 0.8551106542379195, 0.8518800392197886]))"
   ]
  },
  {
   "cell_type": "code",
   "execution_count": 453,
   "id": "4215f053",
   "metadata": {},
   "outputs": [
    {
     "data": {
      "text/plain": [
       "0.0032385555380353066"
      ]
     },
     "execution_count": 453,
     "metadata": {},
     "output_type": "execute_result"
    }
   ],
   "source": [
    "np.std(np.array([0.8528571154790873, 0.8611800895287907, 0.8547912850815101, 0.8551106542379195, 0.8518800392197886]))"
   ]
  },
  {
   "cell_type": "code",
   "execution_count": 552,
   "id": "96bdd41c",
   "metadata": {},
   "outputs": [
    {
     "data": {
      "text/plain": [
       "0.695"
      ]
     },
     "execution_count": 552,
     "metadata": {},
     "output_type": "execute_result"
    }
   ],
   "source": [
    "# RESNET random chestxray14 p0.1\n",
    "np.mean(np.array([0.688, 0.709, 0.686, 0.693, 0.699]))"
   ]
  },
  {
   "cell_type": "code",
   "execution_count": 553,
   "id": "b311f957",
   "metadata": {},
   "outputs": [
    {
     "data": {
      "text/plain": [
       "0.008318653737234151"
      ]
     },
     "execution_count": 553,
     "metadata": {},
     "output_type": "execute_result"
    }
   ],
   "source": [
    "np.std(np.array([0.688, 0.709, 0.686, 0.693, 0.699]))"
   ]
  },
  {
   "cell_type": "code",
   "execution_count": 554,
   "id": "993a01ed",
   "metadata": {},
   "outputs": [
    {
     "data": {
      "text/plain": [
       "0.6916"
      ]
     },
     "execution_count": 554,
     "metadata": {},
     "output_type": "execute_result"
    }
   ],
   "source": [
    "# SLIP-MoCoV2-CLIP p0.1\n",
    "np.mean(np.array([0.700, 0.699, 0.687, 0.689, 0.683]))"
   ]
  },
  {
   "cell_type": "code",
   "execution_count": 555,
   "id": "5ac88308",
   "metadata": {},
   "outputs": [
    {
     "data": {
      "text/plain": [
       "0.006740919818541049"
      ]
     },
     "execution_count": 555,
     "metadata": {},
     "output_type": "execute_result"
    }
   ],
   "source": [
    "np.std(np.array([0.700, 0.699, 0.687, 0.689, 0.683]))"
   ]
  },
  {
   "cell_type": "code",
   "execution_count": 556,
   "id": "7d820663",
   "metadata": {},
   "outputs": [
    {
     "data": {
      "text/plain": [
       "0.7850000000000001"
      ]
     },
     "execution_count": 556,
     "metadata": {},
     "output_type": "execute_result"
    }
   ],
   "source": [
    "# SLIP-MoCoV2-CLIP \n",
    "np.mean(np.array([0.780, 0.795, 0.793, 0.773, 0.784]))"
   ]
  },
  {
   "cell_type": "code",
   "execution_count": 557,
   "id": "ae14f0d7",
   "metadata": {},
   "outputs": [
    {
     "data": {
      "text/plain": [
       "0.008173126696681028"
      ]
     },
     "execution_count": 557,
     "metadata": {},
     "output_type": "execute_result"
    }
   ],
   "source": [
    "np.std(np.array([0.780, 0.795, 0.793, 0.773, 0.784]))"
   ]
  },
  {
   "cell_type": "markdown",
   "id": "e550112c",
   "metadata": {},
   "source": [
    "# LP"
   ]
  },
  {
   "cell_type": "code",
   "execution_count": 717,
   "id": "57809a7f",
   "metadata": {},
   "outputs": [
    {
     "data": {
      "text/plain": [
       "0.6291228453843549"
      ]
     },
     "execution_count": 717,
     "metadata": {},
     "output_type": "execute_result"
    }
   ],
   "source": [
    "# CONVIRT CHEXPERT\n",
    "np.mean(np.array([0.7983697549685795, ]))"
   ]
  },
  {
   "cell_type": "code",
   "execution_count": 718,
   "id": "dc2dc525",
   "metadata": {},
   "outputs": [
    {
     "data": {
      "text/plain": [
       "0.007130912533844952"
      ]
     },
     "execution_count": 718,
     "metadata": {},
     "output_type": "execute_result"
    }
   ],
   "source": [
    "np.std(np.array([0.6169156152356765, 0.6279809990362643, 0.628169588874455, 0.6356648222001579, 0.636883201575221]))"
   ]
  },
  {
   "cell_type": "code",
   "execution_count": 700,
   "id": "b802a451",
   "metadata": {},
   "outputs": [
    {
     "data": {
      "text/plain": [
       "0.6418"
      ]
     },
     "execution_count": 700,
     "metadata": {},
     "output_type": "execute_result"
    }
   ],
   "source": [
    "np.mean(np.array([0.630, 0.663, 0.658, 0.628, 0.630]))"
   ]
  },
  {
   "cell_type": "code",
   "execution_count": 701,
   "id": "3eaad764",
   "metadata": {},
   "outputs": [
    {
     "data": {
      "text/plain": [
       "0.01536749816983885"
      ]
     },
     "execution_count": 701,
     "metadata": {},
     "output_type": "execute_result"
    }
   ],
   "source": [
    "np.std(np.array([0.630, 0.663, 0.658, 0.628, 0.630]))"
   ]
  },
  {
   "cell_type": "code",
   "execution_count": 2,
   "id": "72cbd598",
   "metadata": {},
   "outputs": [],
   "source": [
    "import numpy as np"
   ]
  },
  {
   "cell_type": "code",
   "execution_count": 3,
   "id": "27902ab2",
   "metadata": {},
   "outputs": [
    {
     "name": "stdout",
     "output_type": "stream",
     "text": [
      "random\n",
      "0.7852\n",
      "imagenet\n",
      "0.827\n",
      "clip\n",
      "0.8374\n",
      "convirt\n",
      "0.8392\n",
      "mocov2\n",
      "0.8309999999999998\n",
      "simclr\n",
      "0.8276\n",
      "vicreg\n",
      "0.8273999999999999\n",
      "simclr-clip\n",
      "0.8366\n",
      "simclr-convirt\n",
      "0.8345\n",
      "vicreg-clip\n",
      "0.8331999999999999\n",
      "vicreg-convirt\n",
      "0.8320000000000001\n",
      "mocov2-clip\n",
      "0.8331999999999999\n",
      "mocov2-convirt\n",
      "0.8362\n"
     ]
    }
   ],
   "source": [
    "# CHEXPERT\n",
    "print(\"random\")\n",
    "print(np.mean(np.array([0.782, 0.786, 0.787, 0.784, 0.787])))\n",
    "\n",
    "print(\"imagenet\")\n",
    "print(np.mean(np.array([0.829, 0.823, 0.830, 0.828, 0.825])))\n",
    "\n",
    "print(\"clip\")\n",
    "print(np.mean(np.array([0.838, 0.840, 0.833, 0.838, 0.838])))\n",
    "\n",
    "print(\"convirt\")\n",
    "print(np.mean(np.array([0.838, 0.838, 0.839, 0.839, 0.842])))\n",
    "\n",
    "print(\"mocov2\")\n",
    "print(np.mean(np.array([0.831, 0.830, 0.824, 0.833, 0.837])))\n",
    "\n",
    "print(\"simclr\")\n",
    "print(np.mean(np.array([0.829, 0.825, 0.822, 0.830, 0.832])))\n",
    "\n",
    "print(\"vicreg\")\n",
    "\n",
    "print(np.mean(np.array([0.831, 0.824, 0.825, 0.830, 0.827])))\n",
    "\n",
    "print(\"simclr-clip\")\n",
    "\n",
    "print(np.mean(np.array([0.838, 0.836, 0.833, 0.839, 0.837])))\n",
    "\n",
    "print(\"simclr-convirt\")\n",
    "\n",
    "print(np.mean(np.array([0.834, 0.836, 0.834, 0.834])))\n",
    "\n",
    "print(\"vicreg-clip\")\n",
    "\n",
    "print(np.mean(np.array([0.831, 0.832, 0.828, 0.836, 0.839])))\n",
    "\n",
    "print(\"vicreg-convirt\")\n",
    "\n",
    "print(np.mean(np.array([0.829, 0.830, 0.833, 0.837, 0.831])))\n",
    "\n",
    "print(\"mocov2-clip\")\n",
    "\n",
    "print(np.mean(np.array([0.824, 0.833, 0.832, 0.839, 0.838])))\n",
    "\n",
    "print(\"mocov2-convirt\")\n",
    "\n",
    "print(np.mean(np.array([0.835, 0.836, 0.835, 0.839, 0.836])))"
   ]
  },
  {
   "cell_type": "code",
   "execution_count": 4,
   "id": "bda83b39",
   "metadata": {},
   "outputs": [
    {
     "name": "stdout",
     "output_type": "stream",
     "text": [
      "random\n",
      "0.0019390719429665335\n",
      "imagenet\n",
      "0.0026076809620810618\n",
      "clip\n",
      "0.0023323807579381226\n",
      "convirt\n",
      "0.0014696938456699082\n",
      "mocov2\n",
      "0.004242640687119289\n",
      "simclr\n",
      "0.003611094017053561\n",
      "vicreg\n",
      "0.0027276363393971734\n",
      "simclr-clip\n",
      "0.002059126028197402\n",
      "simclr-convirt\n",
      "0.0008660254037844395\n",
      "vicreg-clip\n",
      "0.003867815921162747\n",
      "vicreg-convirt\n",
      "0.0028284271247461927\n",
      "mocov2-clip\n",
      "0.0053441556863549605\n",
      "mocov2-convirt\n",
      "0.0014696938456699082\n"
     ]
    }
   ],
   "source": [
    "print(\"random\")\n",
    "print(np.std(np.array([0.782, 0.786, 0.787, 0.784, 0.787])))\n",
    "\n",
    "print(\"imagenet\")\n",
    "print(np.std(np.array([0.829, 0.823, 0.830, 0.828, 0.825])))\n",
    "\n",
    "print(\"clip\")\n",
    "print(np.std(np.array([0.838, 0.840, 0.833, 0.838, 0.838])))\n",
    "\n",
    "print(\"convirt\")\n",
    "print(np.std(np.array([0.838, 0.838, 0.839, 0.839, 0.842])))\n",
    "\n",
    "print(\"mocov2\")\n",
    "print(np.std(np.array([0.831, 0.830, 0.824, 0.833, 0.837])))\n",
    "\n",
    "print(\"simclr\")\n",
    "print(np.std(np.array([0.829, 0.825, 0.822, 0.830, 0.832])))\n",
    "\n",
    "print(\"vicreg\")\n",
    "\n",
    "print(np.std(np.array([0.831, 0.824, 0.825, 0.830, 0.827])))\n",
    "\n",
    "print(\"simclr-clip\")\n",
    "\n",
    "print(np.std(np.array([0.838, 0.836, 0.833, 0.839, 0.837])))\n",
    "\n",
    "print(\"simclr-convirt\")\n",
    "\n",
    "print(np.std(np.array([0.834, 0.836, 0.834, 0.834])))\n",
    "\n",
    "print(\"vicreg-clip\")\n",
    "\n",
    "print(np.std(np.array([0.831, 0.832, 0.828, 0.836, 0.839])))\n",
    "\n",
    "print(\"vicreg-convirt\")\n",
    "\n",
    "print(np.std(np.array([0.829, 0.830, 0.833, 0.837, 0.831])))\n",
    "\n",
    "print(\"mocov2-clip\")\n",
    "\n",
    "print(np.std(np.array([0.824, 0.833, 0.832, 0.839, 0.838])))\n",
    "\n",
    "print(\"mocov2-convirt\")\n",
    "\n",
    "print(np.std(np.array([0.835, 0.836, 0.835, 0.839, 0.836])))"
   ]
  },
  {
   "cell_type": "code",
   "execution_count": 5,
   "id": "2cf014ef",
   "metadata": {},
   "outputs": [
    {
     "name": "stdout",
     "output_type": "stream",
     "text": [
      "random\n",
      "0.7005999999999999\n",
      "imagenet\n",
      "0.7644\n",
      "clip\n",
      "0.798\n",
      "convirt\n",
      "0.7924\n",
      "mocov2\n",
      "0.7722\n",
      "simclr\n",
      "0.7652\n",
      "vicreg\n",
      "0.7598\n",
      "mocov2-clip\n",
      "0.7902\n",
      "mocov2-convirt\n",
      "0.7858\n",
      "simclr-clip\n",
      "0.7930000000000001\n",
      "simclr-convirt\n",
      "0.7852\n",
      "vicreg-clip\n",
      "0.7822000000000001\n",
      "vicreg-convirt\n",
      "0.7838\n"
     ]
    }
   ],
   "source": [
    "print(\"random\")\n",
    "print(np.mean(np.array([0.708, 0.701, 0.707, 0.678, 0.709])))\n",
    "\n",
    "print(\"imagenet\")\n",
    "print(np.mean(np.array([0.767, 0.765, 0.775, 0.753, 0.762])))\n",
    "\n",
    "print(\"clip\")\n",
    "print(np.mean(np.array([0.799, 0.788, 0.809, 0.791, 0.803])))\n",
    "\n",
    "print(\"convirt\")\n",
    "print(np.mean(np.array([0.793, 0.779, 0.810, 0.787, 0.793])))\n",
    "\n",
    "print(\"mocov2\")\n",
    "print(np.mean(np.array([0.773, 0.770, 0.781, 0.759, 0.778])))\n",
    "\n",
    "print(\"simclr\")\n",
    "print(np.mean(np.array([0.756, 0.760, 0.771, 0.766, 0.773])))\n",
    "\n",
    "print(\"vicreg\")\n",
    "\n",
    "print(np.mean(np.array([0.747, 0.755, 0.772, 0.754, 0.771])))\n",
    "\n",
    "print(\"mocov2-clip\")\n",
    "\n",
    "print(np.mean(np.array([0.796, 0.780, 0.796, 0.789, 0.790])))\n",
    "\n",
    "print(\"mocov2-convirt\")\n",
    "\n",
    "print(np.mean(np.array([0.778, 0.778, 0.799, 0.784, 0.790])))\n",
    "\n",
    "print(\"simclr-clip\")\n",
    "\n",
    "print(np.mean(np.array([0.794, 0.781, 0.805, 0.789, 0.796])))\n",
    "\n",
    "print(\"simclr-convirt\")\n",
    "\n",
    "print(np.mean(np.array([0.774, 0.782, 0.796, 0.783, 0.791])))\n",
    "\n",
    "print(\"vicreg-clip\")\n",
    "\n",
    "print(np.mean(np.array([0.783, 0.780, 0.794, 0.773, 0.781])))\n",
    "\n",
    "print(\"vicreg-convirt\")\n",
    "\n",
    "print(np.mean(np.array([0.796, 0.780, 0.793, 0.767, 0.783])))\n"
   ]
  },
  {
   "cell_type": "code",
   "execution_count": 6,
   "id": "301ce5eb",
   "metadata": {},
   "outputs": [
    {
     "name": "stdout",
     "output_type": "stream",
     "text": [
      "random\n",
      "0.011637869220780892\n",
      "imagenet\n",
      "0.007144228439796708\n",
      "clip\n",
      "0.007694153624668546\n",
      "convirt\n",
      "0.010190191362285607\n",
      "mocov2\n",
      "0.007626270385975054\n",
      "simclr\n",
      "0.006431174076325416\n",
      "vicreg\n",
      "0.00994786409235672\n",
      "mocov2-clip\n",
      "0.005878775382679633\n",
      "mocov2-convirt\n",
      "0.007959899496852968\n",
      "simclr-clip\n",
      "0.007924645102463587\n",
      "simclr-convirt\n",
      "0.007626270385975054\n",
      "vicreg-clip\n",
      "0.006794115100585217\n",
      "vicreg-convirt\n",
      "0.010303397497913015\n"
     ]
    }
   ],
   "source": [
    "print(\"random\")\n",
    "print(np.std(np.array([0.708, 0.701, 0.707, 0.678, 0.709])))\n",
    "\n",
    "print(\"imagenet\")\n",
    "print(np.std(np.array([0.767, 0.765, 0.775, 0.753, 0.762])))\n",
    "\n",
    "print(\"clip\")\n",
    "print(np.std(np.array([0.799, 0.788, 0.809, 0.791, 0.803])))\n",
    "\n",
    "print(\"convirt\")\n",
    "print(np.std(np.array([0.793, 0.779, 0.810, 0.787, 0.793])))\n",
    "\n",
    "print(\"mocov2\")\n",
    "print(np.std(np.array([0.773, 0.770, 0.781, 0.759, 0.778])))\n",
    "\n",
    "print(\"simclr\")\n",
    "print(np.std(np.array([0.756, 0.760, 0.771, 0.766, 0.773])))\n",
    "\n",
    "print(\"vicreg\")\n",
    "\n",
    "print(np.std(np.array([0.747, 0.755, 0.772, 0.754, 0.771])))\n",
    "\n",
    "print(\"mocov2-clip\")\n",
    "\n",
    "print(np.std(np.array([0.796, 0.780, 0.796, 0.789, 0.790])))\n",
    "\n",
    "print(\"mocov2-convirt\")\n",
    "\n",
    "print(np.std(np.array([0.778, 0.778, 0.799, 0.784, 0.790])))\n",
    "\n",
    "print(\"simclr-clip\")\n",
    "\n",
    "print(np.std(np.array([0.794, 0.781, 0.805, 0.789, 0.796])))\n",
    "\n",
    "print(\"simclr-convirt\")\n",
    "\n",
    "print(np.std(np.array([0.774, 0.782, 0.796, 0.783, 0.791])))\n",
    "\n",
    "print(\"vicreg-clip\")\n",
    "\n",
    "print(np.std(np.array([0.783, 0.780, 0.794, 0.773, 0.781])))\n",
    "\n",
    "print(\"vicreg-convirt\")\n",
    "\n",
    "print(np.std(np.array([0.796, 0.780, 0.793, 0.767, 0.783])))"
   ]
  },
  {
   "cell_type": "markdown",
   "id": "8f1a58e9",
   "metadata": {},
   "source": [
    "## SLIP VICREG"
   ]
  },
  {
   "cell_type": "code",
   "execution_count": 82,
   "id": "bcdd7c52",
   "metadata": {},
   "outputs": [],
   "source": [
    "load_path = \"model_saved/m-epoch_FL_resnet_slip_vicreg_lp1.pth.tar\"\n",
    "load_model(load_path, model)"
   ]
  },
  {
   "cell_type": "code",
   "execution_count": 83,
   "id": "6a0cd757",
   "metadata": {
    "scrolled": true
   },
   "outputs": [
    {
     "name": "stdout",
     "output_type": "stream",
     "text": [
      "AUROC mean  0.7264217392332301\n",
      "No Finding   0.9134615384615383\n",
      "Enlarged Cardiomediastinum   0.5010309278350515\n",
      "Cardiomegaly   0.7697192513368984\n",
      "Lung Opacity   0.8518853695324283\n",
      "Lung Lesion   0.00995024875621886\n",
      "Edema   0.8660714285714285\n",
      "Consolidation   0.8485294117647059\n",
      "Pneumonia   0.8234536082474228\n",
      "Atelectasis   0.8048293963254594\n",
      "Pneumothorax   0.7860805860805861\n",
      "Pleural Effusion   0.8290307971014492\n",
      "Pleural Other   0.7412935323383085\n",
      "Fracture   0.6981465136804943\n"
     ]
    }
   ],
   "source": [
    "path = None\n",
    "outGT, outPRED = CheXpertTrainer.test(model, dataLoaderVal, nnClassCount, path, class_names)"
   ]
  },
  {
   "cell_type": "code",
   "execution_count": 84,
   "id": "0ff3ff33",
   "metadata": {},
   "outputs": [],
   "source": [
    "load_path = \"model_saved/m-epoch_FL_resnet_slip_vicreg_lp2.pth.tar\"\n",
    "load_model(load_path, model)"
   ]
  },
  {
   "cell_type": "code",
   "execution_count": 85,
   "id": "0e0b8b9b",
   "metadata": {},
   "outputs": [
    {
     "name": "stdout",
     "output_type": "stream",
     "text": [
      "AUROC mean  0.7327521256297762\n",
      "No Finding   0.9138986013986015\n",
      "Enlarged Cardiomediastinum   0.5478645066273932\n",
      "Cardiomegaly   0.7723930481283422\n",
      "Lung Opacity   0.8570135746606334\n",
      "Lung Lesion   0.00995024875621886\n",
      "Edema   0.8755952380952381\n",
      "Consolidation   0.8568014705882353\n",
      "Pneumonia   0.8234536082474226\n",
      "Atelectasis   0.8032545931758531\n",
      "Pneumothorax   0.7897435897435897\n",
      "Pleural Effusion   0.8387681159420289\n",
      "Pleural Other   0.7313432835820896\n",
      "Fracture   0.7056977542414435\n"
     ]
    }
   ],
   "source": [
    "path = None\n",
    "outGT, outPRED = CheXpertTrainer.test(model, dataLoaderVal, nnClassCount, path, class_names)"
   ]
  },
  {
   "cell_type": "code",
   "execution_count": 86,
   "id": "99b2fdcb",
   "metadata": {},
   "outputs": [],
   "source": [
    "load_path = \"model_saved/m-epoch_FL_resnet_slip_vicreg_lp3.pth.tar\"\n",
    "load_model(load_path, model)"
   ]
  },
  {
   "cell_type": "code",
   "execution_count": 87,
   "id": "14023cb1",
   "metadata": {},
   "outputs": [
    {
     "name": "stdout",
     "output_type": "stream",
     "text": [
      "AUROC mean  0.7372218977129171\n",
      "No Finding   0.913243006993007\n",
      "Enlarged Cardiomediastinum   0.5701521845851742\n",
      "Cardiomegaly   0.7691622103386809\n",
      "Lung Opacity   0.8597285067873303\n",
      "Lung Lesion   0.00995024875621886\n",
      "Edema   0.8846726190476191\n",
      "Consolidation   0.859375\n",
      "Pneumonia   0.8202319587628866\n",
      "Atelectasis   0.8026246719160105\n",
      "Pneumothorax   0.8014652014652015\n",
      "Pleural Effusion   0.8427309782608696\n",
      "Pleural Other   0.736318407960199\n",
      "Fracture   0.714229675394724\n"
     ]
    }
   ],
   "source": [
    "path = None\n",
    "outGT, outPRED = CheXpertTrainer.test(model, dataLoaderVal, nnClassCount, path, class_names)"
   ]
  },
  {
   "cell_type": "markdown",
   "id": "4ed1b957",
   "metadata": {},
   "source": [
    "## SLIP SIMCLR"
   ]
  },
  {
   "cell_type": "code",
   "execution_count": 165,
   "id": "3cf4338d",
   "metadata": {},
   "outputs": [
    {
     "name": "stdout",
     "output_type": "stream",
     "text": [
      "<All keys matched successfully>\n"
     ]
    }
   ],
   "source": [
    "load_path = \"model_saved/m-epoch_FL_vit_slip_moco_lp1.pth.tar\"\n",
    "load_model(load_path, model)"
   ]
  },
  {
   "cell_type": "code",
   "execution_count": 166,
   "id": "6df93eaf",
   "metadata": {},
   "outputs": [
    {
     "name": "stdout",
     "output_type": "stream",
     "text": [
      "AUROC mean  0.6063377062096712\n",
      "No Finding   0.8339160839160839\n",
      "Enlarged Cardiomediastinum   0.25891016200294553\n",
      "Cardiomegaly   0.6837121212121211\n",
      "Lung Opacity   0.7522373051784818\n",
      "Lung Lesion   0.2587064676616916\n",
      "Edema   0.7316964285714286\n",
      "Consolidation   0.8262867647058824\n",
      "Pneumonia   0.8253865979381444\n",
      "Atelectasis   0.7340682414698163\n",
      "Pneumothorax   0.4036630036630036\n",
      "Pleural Effusion   0.7733242753623188\n",
      "Pleural Other   0.19402985074626866\n",
      "Fracture   0.6064528782975385\n"
     ]
    }
   ],
   "source": [
    "path = None\n",
    "outGT, outPRED = CheXpertTrainer.test(model, dataLoaderVal, nnClassCount, path, class_names)"
   ]
  },
  {
   "cell_type": "code",
   "execution_count": 167,
   "id": "957e440b",
   "metadata": {},
   "outputs": [
    {
     "name": "stdout",
     "output_type": "stream",
     "text": [
      "<All keys matched successfully>\n"
     ]
    }
   ],
   "source": [
    "load_path = \"model_saved/m-epoch_FL_vit_slip_moco_lp2.pth.tar\"\n",
    "load_model(load_path, model)"
   ]
  },
  {
   "cell_type": "code",
   "execution_count": 168,
   "id": "182a942e",
   "metadata": {},
   "outputs": [
    {
     "name": "stdout",
     "output_type": "stream",
     "text": [
      "AUROC mean  0.6089519732997768\n",
      "No Finding   0.8341346153846153\n",
      "Enlarged Cardiomediastinum   0.26038291605301916\n",
      "Cardiomegaly   0.6848262032085561\n",
      "Lung Opacity   0.7516339869281046\n",
      "Lung Lesion   0.2736318407960199\n",
      "Edema   0.7319940476190476\n",
      "Consolidation   0.8264705882352942\n",
      "Pneumonia   0.8279639175257731\n",
      "Atelectasis   0.735748031496063\n",
      "Pneumothorax   0.41025641025641024\n",
      "Pleural Effusion   0.7737771739130435\n",
      "Pleural Other   0.1990049751243781\n",
      "Fracture   0.6065509463567716\n"
     ]
    }
   ],
   "source": [
    "path = None\n",
    "outGT, outPRED = CheXpertTrainer.test(model, dataLoaderVal, nnClassCount, path, class_names)"
   ]
  },
  {
   "cell_type": "code",
   "execution_count": 169,
   "id": "3ec4003b",
   "metadata": {},
   "outputs": [
    {
     "name": "stdout",
     "output_type": "stream",
     "text": [
      "<All keys matched successfully>\n"
     ]
    }
   ],
   "source": [
    "load_path = \"model_saved/m-epoch_FL_vit_slip_moco_lp3.pth.tar\"\n",
    "load_model(load_path, model)"
   ]
  },
  {
   "cell_type": "code",
   "execution_count": 170,
   "id": "d7717a7a",
   "metadata": {
    "scrolled": true
   },
   "outputs": [
    {
     "name": "stdout",
     "output_type": "stream",
     "text": [
      "AUROC mean  0.6103760074295774\n",
      "No Finding   0.8345716783216783\n",
      "Enlarged Cardiomediastinum   0.26303387334315165\n",
      "Cardiomegaly   0.6858288770053476\n",
      "Lung Opacity   0.7514328808446455\n",
      "Lung Lesion   0.2736318407960199\n",
      "Edema   0.7324404761904761\n",
      "Consolidation   0.8270220588235294\n",
      "Pneumonia   0.8298969072164948\n",
      "Atelectasis   0.7354330708661417\n",
      "Pneumothorax   0.41758241758241754\n",
      "Pleural Effusion   0.7737771739130435\n",
      "Pleural Other   0.20398009950248752\n",
      "Fracture   0.6062567421790722\n"
     ]
    }
   ],
   "source": [
    "path = None\n",
    "outGT, outPRED = CheXpertTrainer.test(model, dataLoaderVal, nnClassCount, path, class_names)"
   ]
  },
  {
   "cell_type": "code",
   "execution_count": 3,
   "id": "21c6190c",
   "metadata": {},
   "outputs": [],
   "source": [
    "import pandas as pd"
   ]
  },
  {
   "cell_type": "code",
   "execution_count": 4,
   "id": "8091cafd",
   "metadata": {},
   "outputs": [],
   "source": [
    "df = pd.read_csv(\"/gpfs/data/denizlab/Users/hh2740/mimic-cxr_full_train.csv\", sep=\"\\t\")"
   ]
  },
  {
   "cell_type": "code",
   "execution_count": 5,
   "id": "d6d11f01",
   "metadata": {},
   "outputs": [],
   "source": [
    "df = df.dropna(subset=['impression'])"
   ]
  },
  {
   "cell_type": "code",
   "execution_count": 6,
   "id": "c3244701",
   "metadata": {},
   "outputs": [
    {
     "data": {
      "text/plain": [
       "0         AP chest compared to ___ and ___, 5:05 p.m.:\\n...\n",
       "1         As compared to ___, the lung volumes have slig...\n",
       "2         Focal consolidation at the left lung base, pos...\n",
       "3         As compared to ___, the lung volumes have slig...\n",
       "4         Focal consolidation at the left lung base, pos...\n",
       "                                ...                        \n",
       "304118    The severe multi focal infiltrative pulmonary ...\n",
       "304119    ET tube tip root is 3.5 cm above the carinal. ...\n",
       "304120    Mild generalized interstitial pulmonary abnorm...\n",
       "304121    Compared to chest radiographs since ___, most ...\n",
       "304122    Mild generalized interstitial pulmonary abnorm...\n",
       "Name: impression, Length: 304123, dtype: object"
      ]
     },
     "execution_count": 6,
     "metadata": {},
     "output_type": "execute_result"
    }
   ],
   "source": [
    "df.impression"
   ]
  },
  {
   "cell_type": "code",
   "execution_count": 7,
   "id": "136e4541",
   "metadata": {},
   "outputs": [],
   "source": [
    "import torch\n",
    "from torch.utils.data import TensorDataset, DataLoader, RandomSampler, SequentialSampler\n",
    "from keras.preprocessing.sequence import pad_sequences\n",
    "from sklearn.model_selection import train_test_split\n",
    "from transformers import BertTokenizer, BertConfig\n",
    "from tqdm import tqdm, trange\n",
    "import pandas as pd\n",
    "import io\n",
    "import numpy as np\n",
    "import matplotlib.pyplot as plt"
   ]
  },
  {
   "cell_type": "code",
   "execution_count": 8,
   "id": "36c6ca85",
   "metadata": {},
   "outputs": [],
   "source": [
    "# Create sentence and label lists\n",
    "sentences = df.impression.values\n",
    "\n",
    "# We need to add special tokens at the beginning and end of each sentence for BERT to work properly\n",
    "sentences = [\"[CLS] \" + sentence + \" [SEP]\" for sentence in sentences]"
   ]
  },
  {
   "cell_type": "code",
   "execution_count": 9,
   "id": "c18f7afc",
   "metadata": {},
   "outputs": [],
   "source": [
    "from tqdm.notebook import tqdm"
   ]
  },
  {
   "cell_type": "code",
   "execution_count": 10,
   "id": "7f32135b",
   "metadata": {},
   "outputs": [
    {
     "data": {
      "application/vnd.jupyter.widget-view+json": {
       "model_id": "5a57a17652ad4e3699138145a3fab909",
       "version_major": 2,
       "version_minor": 0
      },
      "text/plain": [
       "  0%|          | 0/304123 [00:00<?, ?it/s]"
      ]
     },
     "metadata": {},
     "output_type": "display_data"
    },
    {
     "name": "stdout",
     "output_type": "stream",
     "text": [
      "Tokenize the first sentence:\n",
      "['[CLS]', 'ap', 'chest', 'compared', 'to', '_', '_', '_', 'and', '_', '_', '_', ',', '5', ':', '05', 'p', '.', 'm', '.', ':', 'the', 'enteric', 'tube', 'has', 'been', 'advanced', 'to', 'the', 'distal', 'stomach', 'and', 'out', 'of', 'view', '.', 'feeding', 'tube', 'ends', 'in', 'the', 'upper', 'stomach', '.', 'et', 'tube', 'is', 'in', 'standard', 'placement', '.', 'moderate', 'right', 'and', 'smaller', 'left', 'pleural', 'effusions', 'are', 'unchanged', '.', 'heart', 'size', 'is', 'normal', 'size', '.', 'aside', 'from', 'attend', '##ant', 'basal', 'atelectasis', ',', 'lungs', 'are', 'clear', '.', 'there', 'is', 'no', 'pneumothorax', '.', 'right', 'pic', 'line', 'ends', 'in', 'the', 'right', 'axilla', '.', '[SEP]']\n"
     ]
    }
   ],
   "source": [
    "# import the BERT tokenizer, used to convert our text into tokens that correspond to BERT's vocabulary\n",
    "tokenizer = BertTokenizer.from_pretrained(\"microsoft/BiomedVLP-CXR-BERT-general\", do_lower_case=True)\n",
    "\n",
    "tokenized_texts = [tokenizer.tokenize(sent) for sent in tqdm(sentences)]\n",
    "print (\"Tokenize the first sentence:\")\n",
    "print (tokenized_texts[0])"
   ]
  },
  {
   "cell_type": "code",
   "execution_count": 11,
   "id": "58331be9",
   "metadata": {},
   "outputs": [
    {
     "data": {
      "application/vnd.jupyter.widget-view+json": {
       "model_id": "be014dc64da446ffb67226f698ebf7db",
       "version_major": 2,
       "version_minor": 0
      },
      "text/plain": [
       "  0%|          | 0/304123 [00:00<?, ?it/s]"
      ]
     },
     "metadata": {},
     "output_type": "display_data"
    }
   ],
   "source": [
    "texts_len = []\n",
    "for text in tqdm(tokenized_texts):\n",
    "    texts_len.append(len(text))"
   ]
  },
  {
   "cell_type": "code",
   "execution_count": 12,
   "id": "5d586493",
   "metadata": {},
   "outputs": [
    {
     "data": {
      "text/plain": [
       "301"
      ]
     },
     "execution_count": 12,
     "metadata": {},
     "output_type": "execute_result"
    }
   ],
   "source": [
    "max(texts_len)"
   ]
  },
  {
   "cell_type": "code",
   "execution_count": 13,
   "id": "19589050",
   "metadata": {},
   "outputs": [
    {
     "name": "stderr",
     "output_type": "stream",
     "text": [
      "/tmp/ipykernel_904903/4118139143.py:5: UserWarning: \n",
      "\n",
      "`distplot` is a deprecated function and will be removed in seaborn v0.14.0.\n",
      "\n",
      "Please adapt your code to use either `displot` (a figure-level function with\n",
      "similar flexibility) or `histplot` (an axes-level function for histograms).\n",
      "\n",
      "For a guide to updating your code to use the new functions, please see\n",
      "https://gist.github.com/mwaskom/de44147ed2974457ad6372750bbe5751\n",
      "\n",
      "  sns.distplot(texts_len)\n"
     ]
    },
    {
     "data": {
      "text/plain": [
       "Text(0.5, 0, 'Token count')"
      ]
     },
     "execution_count": 13,
     "metadata": {},
     "output_type": "execute_result"
    },
    {
     "data": {
      "image/png": "[encoded data removed]",
      "text/plain": [
       "<Figure size 720x576 with 1 Axes>"
      ]
     },
     "metadata": {
      "needs_background": "light"
     },
     "output_type": "display_data"
    }
   ],
   "source": [
    "import seaborn as sns\n",
    "import matplotlib.pyplot as plt\n",
    "fig_dims = (10, 8)\n",
    "fig, ax = plt.subplots(figsize=fig_dims)\n",
    "sns.distplot(texts_len)\n",
    "plt.xlim([0, 120])\n",
    "plt.xlabel('Token count')"
   ]
  },
  {
   "cell_type": "markdown",
   "id": "3b101b87",
   "metadata": {},
   "source": [
    "# DENSENET"
   ]
  },
  {
   "cell_type": "code",
   "execution_count": 46,
   "id": "ec2b460d",
   "metadata": {},
   "outputs": [],
   "source": [
    "size = 121\n",
    "features_dim = 2048\n",
    "out_size = 14\n",
    "\n",
    "model = densenet_model(size, features_dim, out_size, pretrained=True).cuda() # Step 0: Initialize global model and load the model\n",
    "model = torch.nn.DataParallel(model).cuda()\n",
    "#model = model.cuda()"
   ]
  },
  {
   "cell_type": "code",
   "execution_count": 47,
   "id": "a9b1eed1",
   "metadata": {},
   "outputs": [
    {
     "name": "stdout",
     "output_type": "stream",
     "text": [
      "Performance_Check.ipynb  \u001b[0m\u001b[38;5;9mm-epoch_FL2.pth.tar\u001b[0m         \u001b[38;5;9mm-epoch_FL_ResNet3.pth.tar\u001b[0m\r\n",
      "\u001b[38;5;33m__pycache__\u001b[0m/             \u001b[38;5;9mm-epoch_FL3.pth.tar\u001b[0m         \u001b[38;5;33mmodel_saved\u001b[0m/\r\n",
      "base3.py                 \u001b[38;5;9mm-epoch_FL_ResNet1.pth.tar\u001b[0m  train_mod.csv\r\n",
      "\u001b[38;5;9mm-epoch_FL1.pth.tar\u001b[0m      \u001b[38;5;9mm-epoch_FL_ResNet2.pth.tar\u001b[0m  valid_mod.csv\r\n"
     ]
    }
   ],
   "source": [
    "ls"
   ]
  },
  {
   "cell_type": "code",
   "execution_count": 48,
   "id": "af16359b",
   "metadata": {},
   "outputs": [],
   "source": [
    "def load_model(load_path, model):\n",
    "    load_path = load_path\n",
    "    checkpoint = torch.load(load_path)\n",
    "    state_dict = {k.replace(\"img_backbone.\", \"module.\"): v for k, v in checkpoint['state_dict'].items()}\n",
    "    model.load_state_dict(state_dict, strict=False)"
   ]
  },
  {
   "cell_type": "markdown",
   "id": "f58b5c04",
   "metadata": {},
   "source": [
    "## Original"
   ]
  },
  {
   "cell_type": "code",
   "execution_count": 49,
   "id": "fef9e080",
   "metadata": {},
   "outputs": [],
   "source": [
    "load_path = \"model_saved/m-epoch_FL_densenet1.pth.tar\"\n",
    "load_model(load_path, model)"
   ]
  },
  {
   "cell_type": "code",
   "execution_count": 50,
   "id": "9bb57df6",
   "metadata": {},
   "outputs": [
    {
     "name": "stdout",
     "output_type": "stream",
     "text": [
      "AUROC mean  0.8228874986115555\n",
      "No Finding   0.9071241258741258\n",
      "Enlarged Cardiomediastinum   0.5201767304860089\n",
      "Cardiomegaly   0.8358957219251337\n",
      "Lung Opacity   0.9156359979889391\n",
      "Lung Lesion   0.34328358208955223\n",
      "Edema   0.9342261904761905\n",
      "Consolidation   0.8536764705882354\n",
      "Pneumonia   0.8395618556701031\n",
      "Atelectasis   0.8192125984251969\n",
      "Pneumothorax   0.9472527472527472\n",
      "Pleural Effusion   0.9311594202898551\n",
      "Pleural Other   0.9104477611940298\n",
      "Fracture   0.9398842796901049\n"
     ]
    }
   ],
   "source": [
    "path = None\n",
    "outGT, outPRED = CheXpertTrainer.test(model, dataLoaderVal, nnClassCount, path, class_names)"
   ]
  },
  {
   "cell_type": "code",
   "execution_count": 51,
   "id": "679dd1e6",
   "metadata": {},
   "outputs": [],
   "source": [
    "load_path = \"model_saved/m-epoch_FL_densenet2.pth.tar\"\n",
    "load_model(load_path, model)"
   ]
  },
  {
   "cell_type": "code",
   "execution_count": 52,
   "id": "640d2dea",
   "metadata": {
    "scrolled": true
   },
   "outputs": [
    {
     "name": "stdout",
     "output_type": "stream",
     "text": [
      "AUROC mean  0.7934229595768966\n",
      "No Finding   0.9112762237762237\n",
      "Enlarged Cardiomediastinum   0.4650957290132548\n",
      "Cardiomegaly   0.7631461675579323\n",
      "Lung Opacity   0.9166415284062344\n",
      "Lung Lesion   0.29850746268656714\n",
      "Edema   0.9525297619047619\n",
      "Consolidation   0.8284926470588235\n",
      "Pneumonia   0.714561855670103\n",
      "Atelectasis   0.8035695538057743\n",
      "Pneumothorax   0.9164835164835164\n",
      "Pleural Effusion   0.9421422101449275\n",
      "Pleural Other   0.8606965174129353\n",
      "Fracture   0.9413553005786015\n"
     ]
    }
   ],
   "source": [
    "path = None\n",
    "outGT, outPRED = CheXpertTrainer.test(model, dataLoaderVal, nnClassCount, path, class_names)"
   ]
  },
  {
   "cell_type": "code",
   "execution_count": 53,
   "id": "78235c93",
   "metadata": {},
   "outputs": [],
   "source": [
    "load_path = \"model_saved/m-epoch_FL_densenet3.pth.tar\"\n",
    "load_model(load_path, model)"
   ]
  },
  {
   "cell_type": "code",
   "execution_count": 54,
   "id": "d59574b5",
   "metadata": {
    "scrolled": true
   },
   "outputs": [
    {
     "name": "stdout",
     "output_type": "stream",
     "text": [
      "AUROC mean  0.8654556482082858\n",
      "No Finding   0.895104895104895\n",
      "Enlarged Cardiomediastinum   0.6635247913598429\n",
      "Cardiomegaly   0.827874331550802\n",
      "Lung Opacity   0.902262443438914\n",
      "Lung Lesion   0.7960199004975125\n",
      "Edema   0.9450892857142857\n",
      "Consolidation   0.8650735294117646\n",
      "Pneumonia   0.7693298969072164\n",
      "Atelectasis   0.8415748031496063\n",
      "Pneumothorax   0.9106227106227107\n",
      "Pleural Effusion   0.9279891304347826\n",
      "Pleural Other   0.9601990049751243\n",
      "Fracture   0.946258703540257\n"
     ]
    }
   ],
   "source": [
    "path = None\n",
    "outGT, outPRED = CheXpertTrainer.test(model, dataLoaderVal, nnClassCount, path, class_names)"
   ]
  },
  {
   "cell_type": "markdown",
   "id": "bdaa2916",
   "metadata": {},
   "source": [
    "## CLIP"
   ]
  },
  {
   "cell_type": "code",
   "execution_count": 111,
   "id": "b0407b0c",
   "metadata": {},
   "outputs": [],
   "source": [
    "load_path = \"model_saved/m-epoch_FL_densenet_clip1.pth.tar\"\n",
    "load_model(load_path, model)"
   ]
  },
  {
   "cell_type": "code",
   "execution_count": 112,
   "id": "0cbc4c30",
   "metadata": {},
   "outputs": [
    {
     "name": "stdout",
     "output_type": "stream",
     "text": [
      "AUROC mean  0.7389302173835564\n",
      "No Finding   0.8990384615384615\n",
      "Enlarged Cardiomediastinum   0.3363770250368189\n",
      "Cardiomegaly   0.7999108734402852\n",
      "Lung Opacity   0.8751131221719457\n",
      "Lung Lesion   0.07960199004975121\n",
      "Edema   0.9239583333333333\n",
      "Consolidation   0.8292279411764705\n",
      "Pneumonia   0.7667525773195876\n",
      "Atelectasis   0.7780577427821522\n",
      "Pneumothorax   0.736996336996337\n",
      "Pleural Effusion   0.8945878623188406\n",
      "Pleural Other   0.8159203980099503\n",
      "Fracture   0.8705501618122977\n"
     ]
    }
   ],
   "source": [
    "path = None\n",
    "outGT, outPRED = CheXpertTrainer.test(model, dataLoaderVal, nnClassCount, path, class_names)"
   ]
  },
  {
   "cell_type": "code",
   "execution_count": 113,
   "id": "96f1250e",
   "metadata": {},
   "outputs": [],
   "source": [
    "load_path = \"model_saved/m-epoch_FL_densenet_clip2.pth.tar\"\n",
    "load_model(load_path, model)"
   ]
  },
  {
   "cell_type": "code",
   "execution_count": 114,
   "id": "2734e321",
   "metadata": {
    "scrolled": true
   },
   "outputs": [
    {
     "name": "stdout",
     "output_type": "stream",
     "text": [
      "AUROC mean  0.7908817588008369\n",
      "No Finding   0.9049388111888111\n",
      "Enlarged Cardiomediastinum   0.6050073637702504\n",
      "Cardiomegaly   0.8073752228163992\n",
      "Lung Opacity   0.8957264957264958\n",
      "Lung Lesion   0.1691542288557214\n",
      "Edema   0.9233630952380952\n",
      "Consolidation   0.8487132352941176\n",
      "Pneumonia   0.7989690721649485\n",
      "Atelectasis   0.7980052493438321\n",
      "Pneumothorax   0.7736263736263735\n",
      "Pleural Effusion   0.9209692028985507\n",
      "Pleural Other   0.9303482587064676\n",
      "Fracture   0.9052662547808179\n"
     ]
    }
   ],
   "source": [
    "path = None\n",
    "outGT, outPRED = CheXpertTrainer.test(model, dataLoaderVal, nnClassCount, path, class_names)"
   ]
  },
  {
   "cell_type": "code",
   "execution_count": 115,
   "id": "099e32cf",
   "metadata": {},
   "outputs": [],
   "source": [
    "load_path = \"model_saved/m-epoch_FL_densenet_clip3.pth.tar\"\n",
    "load_model(load_path, model)"
   ]
  },
  {
   "cell_type": "code",
   "execution_count": 116,
   "id": "8b412b04",
   "metadata": {
    "scrolled": true
   },
   "outputs": [
    {
     "name": "stdout",
     "output_type": "stream",
     "text": [
      "AUROC mean  0.8056834784890387\n",
      "No Finding   0.913243006993007\n",
      "Enlarged Cardiomediastinum   0.5740795287187039\n",
      "Cardiomegaly   0.8265374331550801\n",
      "Lung Opacity   0.9117144293614882\n",
      "Lung Lesion   0.07462686567164178\n",
      "Edema   0.9313988095238095\n",
      "Consolidation   0.8821691176470587\n",
      "Pneumonia   0.8859536082474228\n",
      "Atelectasis   0.8358005249343833\n",
      "Pneumothorax   0.852014652014652\n",
      "Pleural Effusion   0.9144021739130435\n",
      "Pleural Other   0.9402985074626866\n",
      "Fracture   0.931646562714524\n"
     ]
    }
   ],
   "source": [
    "path = None\n",
    "outGT, outPRED = CheXpertTrainer.test(model, dataLoaderVal, nnClassCount, path, class_names)"
   ]
  },
  {
   "cell_type": "markdown",
   "id": "b6d3f55c",
   "metadata": {},
   "source": [
    "## VICREG"
   ]
  },
  {
   "cell_type": "code",
   "execution_count": 135,
   "id": "b85c2da6",
   "metadata": {},
   "outputs": [],
   "source": [
    "load_path = \"model_saved/m-epoch_FL_densenet_vicreg1.pth.tar\"\n",
    "load_model(load_path, model)"
   ]
  },
  {
   "cell_type": "code",
   "execution_count": 136,
   "id": "fa6fb6d0",
   "metadata": {},
   "outputs": [
    {
     "name": "stdout",
     "output_type": "stream",
     "text": [
      "AUROC mean  0.7523419123478561\n",
      "No Finding   0.9066870629370629\n",
      "Enlarged Cardiomediastinum   0.40314187530682377\n",
      "Cardiomegaly   0.8590686274509804\n",
      "Lung Opacity   0.8968325791855204\n",
      "Lung Lesion   0.1990049751243781\n",
      "Edema   0.9375\n",
      "Consolidation   0.8147058823529412\n",
      "Pneumonia   0.6623711340206185\n",
      "Atelectasis   0.7829921259842519\n",
      "Pneumothorax   0.7772893772893773\n",
      "Pleural Effusion   0.9215353260869565\n",
      "Pleural Other   0.7562189054726368\n",
      "Fracture   0.8630969893105817\n"
     ]
    }
   ],
   "source": [
    "path = None\n",
    "outGT, outPRED = CheXpertTrainer.test(model, dataLoaderVal, nnClassCount, path, class_names)"
   ]
  },
  {
   "cell_type": "code",
   "execution_count": 137,
   "id": "769e718e",
   "metadata": {},
   "outputs": [],
   "source": [
    "load_path = \"model_saved/m-epoch_FL_densenet_vicreg2.pth.tar\"\n",
    "load_model(load_path, model)"
   ]
  },
  {
   "cell_type": "code",
   "execution_count": 138,
   "id": "20757cfd",
   "metadata": {
    "scrolled": true
   },
   "outputs": [
    {
     "name": "stdout",
     "output_type": "stream",
     "text": [
      "AUROC mean  0.8482944260468278\n",
      "No Finding   0.8981643356643356\n",
      "Enlarged Cardiomediastinum   0.6233676975945017\n",
      "Cardiomegaly   0.8331105169340464\n",
      "Lung Opacity   0.9084967320261438\n",
      "Lung Lesion   0.7860696517412935\n",
      "Edema   0.9370535714285713\n",
      "Consolidation   0.8545955882352942\n",
      "Pneumonia   0.7403350515463918\n",
      "Atelectasis   0.7951706036745407\n",
      "Pneumothorax   0.8241758241758241\n",
      "Pleural Effusion   0.928328804347826\n",
      "Pleural Other   0.9502487562189055\n",
      "Fracture   0.9487104050210846\n"
     ]
    }
   ],
   "source": [
    "path = None\n",
    "outGT, outPRED = CheXpertTrainer.test(model, dataLoaderVal, nnClassCount, path, class_names)"
   ]
  },
  {
   "cell_type": "code",
   "execution_count": 139,
   "id": "701cd5df",
   "metadata": {},
   "outputs": [],
   "source": [
    "load_path = \"model_saved/m-epoch_FL_densenet_vicreg3.pth.tar\"\n",
    "load_model(load_path, model)"
   ]
  },
  {
   "cell_type": "code",
   "execution_count": 140,
   "id": "eae3d234",
   "metadata": {
    "scrolled": true
   },
   "outputs": [
    {
     "name": "stdout",
     "output_type": "stream",
     "text": [
      "AUROC mean  0.8253546756484231\n",
      "No Finding   0.8830856643356644\n",
      "Enlarged Cardiomediastinum   0.6073637702503683\n",
      "Cardiomegaly   0.8594028520499108\n",
      "Lung Opacity   0.9040723981900453\n",
      "Lung Lesion   0.4776119402985075\n",
      "Edema   0.9208333333333333\n",
      "Consolidation   0.8555147058823529\n",
      "Pneumonia   0.8099226804123711\n",
      "Atelectasis   0.7982152230971129\n",
      "Pneumothorax   0.8227106227106227\n",
      "Pleural Effusion   0.9150815217391304\n",
      "Pleural Other   0.9353233830845771\n",
      "Fracture   0.9404726880455035\n"
     ]
    }
   ],
   "source": [
    "path = None\n",
    "outGT, outPRED = CheXpertTrainer.test(model, dataLoaderVal, nnClassCount, path, class_names)"
   ]
  },
  {
   "cell_type": "markdown",
   "id": "d3ead791",
   "metadata": {},
   "source": [
    "## SIMCLR"
   ]
  },
  {
   "cell_type": "code",
   "execution_count": 129,
   "id": "fb4eda56",
   "metadata": {
    "scrolled": true
   },
   "outputs": [],
   "source": [
    "load_path = \"model_saved/m-epoch_FL_densenet_simclr1.pth.tar\"\n",
    "load_model(load_path, model)"
   ]
  },
  {
   "cell_type": "code",
   "execution_count": 130,
   "id": "1289c2c9",
   "metadata": {},
   "outputs": [
    {
     "name": "stdout",
     "output_type": "stream",
     "text": [
      "AUROC mean  0.7729825985668243\n",
      "No Finding   0.9007867132867133\n",
      "Enlarged Cardiomediastinum   0.4418262150220913\n",
      "Cardiomegaly   0.8294340463458111\n",
      "Lung Opacity   0.9097033685268979\n",
      "Lung Lesion   0.30348258706467657\n",
      "Edema   0.9311011904761906\n",
      "Consolidation   0.8500000000000001\n",
      "Pneumonia   0.6726804123711341\n",
      "Atelectasis   0.7781627296587926\n",
      "Pneumothorax   0.7882783882783883\n",
      "Pleural Effusion   0.9213088768115942\n",
      "Pleural Other   0.845771144278607\n",
      "Fracture   0.876238109247818\n"
     ]
    }
   ],
   "source": [
    "path = None\n",
    "outGT, outPRED = CheXpertTrainer.test(model, dataLoaderVal, nnClassCount, path, class_names)"
   ]
  },
  {
   "cell_type": "code",
   "execution_count": 131,
   "id": "229e4888",
   "metadata": {},
   "outputs": [],
   "source": [
    "load_path = \"model_saved/m-epoch_FL_densenet_simclr2.pth.tar\"\n",
    "load_model(load_path, model)"
   ]
  },
  {
   "cell_type": "code",
   "execution_count": 132,
   "id": "4f716bde",
   "metadata": {
    "scrolled": true
   },
   "outputs": [
    {
     "name": "stdout",
     "output_type": "stream",
     "text": [
      "AUROC mean  0.8318510128055566\n",
      "No Finding   0.8968531468531469\n",
      "Enlarged Cardiomediastinum   0.636033382425135\n",
      "Cardiomegaly   0.8177361853832442\n",
      "Lung Opacity   0.8997486173956762\n",
      "Lung Lesion   0.6766169154228856\n",
      "Edema   0.9264880952380952\n",
      "Consolidation   0.8255514705882352\n",
      "Pneumonia   0.7119845360824741\n",
      "Atelectasis   0.7483464566929133\n",
      "Pneumothorax   0.841025641025641\n",
      "Pleural Effusion   0.9239130434782609\n",
      "Pleural Other   0.9651741293532339\n",
      "Fracture   0.9445915465332941\n"
     ]
    }
   ],
   "source": [
    "path = None\n",
    "outGT, outPRED = CheXpertTrainer.test(model, dataLoaderVal, nnClassCount, path, class_names)"
   ]
  },
  {
   "cell_type": "code",
   "execution_count": 133,
   "id": "ae3ce7b8",
   "metadata": {},
   "outputs": [],
   "source": [
    "load_path = \"model_saved/m-epoch_FL_densenet_simclr3.pth.tar\"\n",
    "load_model(load_path, model)"
   ]
  },
  {
   "cell_type": "code",
   "execution_count": 134,
   "id": "2ab2448d",
   "metadata": {},
   "outputs": [
    {
     "name": "stdout",
     "output_type": "stream",
     "text": [
      "AUROC mean  0.8431031390187983\n",
      "No Finding   0.8881118881118881\n",
      "Enlarged Cardiomediastinum   0.620225822287678\n",
      "Cardiomegaly   0.8270944741532977\n",
      "Lung Opacity   0.9134238310708899\n",
      "Lung Lesion   0.5124378109452736\n",
      "Edema   0.9436011904761904\n",
      "Consolidation   0.8624999999999999\n",
      "Pneumonia   0.8099226804123711\n",
      "Atelectasis   0.8183727034120736\n",
      "Pneumothorax   0.9362637362637363\n",
      "Pleural Effusion   0.9176856884057971\n",
      "Pleural Other   0.9552238805970149\n",
      "Fracture   0.9554771011081691\n"
     ]
    }
   ],
   "source": [
    "path = None\n",
    "outGT, outPRED = CheXpertTrainer.test(model, dataLoaderVal, nnClassCount, path, class_names)"
   ]
  },
  {
   "cell_type": "markdown",
   "id": "d8a2f9f3",
   "metadata": {},
   "source": [
    "## SLIP VICREG"
   ]
  },
  {
   "cell_type": "code",
   "execution_count": 123,
   "id": "97503f04",
   "metadata": {},
   "outputs": [],
   "source": [
    "load_path = \"model_saved/m-epoch_FL_densenet_slip_vicreg1.pth.tar\"\n",
    "load_model(load_path, model)"
   ]
  },
  {
   "cell_type": "code",
   "execution_count": 124,
   "id": "33dc0a54",
   "metadata": {},
   "outputs": [
    {
     "name": "stdout",
     "output_type": "stream",
     "text": [
      "AUROC mean  0.7941205250103034\n",
      "No Finding   0.9073426573426573\n",
      "Enlarged Cardiomediastinum   0.4893470790378007\n",
      "Cardiomegaly   0.8384581105169341\n",
      "Lung Opacity   0.8921065862242333\n",
      "Lung Lesion   0.3681592039800995\n",
      "Edema   0.9282738095238096\n",
      "Consolidation   0.8446691176470589\n",
      "Pneumonia   0.652061855670103\n",
      "Atelectasis   0.793490813648294\n",
      "Pneumothorax   0.873992673992674\n",
      "Pleural Effusion   0.9277626811594202\n",
      "Pleural Other   0.8855721393034826\n",
      "Fracture   0.9223300970873786\n"
     ]
    }
   ],
   "source": [
    "path = None\n",
    "outGT, outPRED = CheXpertTrainer.test(model, dataLoaderVal, nnClassCount, path, class_names)"
   ]
  },
  {
   "cell_type": "code",
   "execution_count": 125,
   "id": "252cb2f6",
   "metadata": {},
   "outputs": [],
   "source": [
    "load_path = \"model_saved/m-epoch_FL_densenet_slip_vicreg2.pth.tar\"\n",
    "load_model(load_path, model)"
   ]
  },
  {
   "cell_type": "code",
   "execution_count": 126,
   "id": "da579734",
   "metadata": {},
   "outputs": [
    {
     "name": "stdout",
     "output_type": "stream",
     "text": [
      "AUROC mean  0.8360058545984561\n",
      "No Finding   0.9060314685314685\n",
      "Enlarged Cardiomediastinum   0.538831615120275\n",
      "Cardiomegaly   0.8316622103386809\n",
      "Lung Opacity   0.9004524886877828\n",
      "Lung Lesion   0.7761194029850746\n",
      "Edema   0.934970238095238\n",
      "Consolidation   0.8369485294117647\n",
      "Pneumonia   0.7164948453608248\n",
      "Atelectasis   0.7535958005249344\n",
      "Pneumothorax   0.8637362637362638\n",
      "Pleural Effusion   0.9302536231884058\n",
      "Pleural Other   0.945273631840796\n",
      "Fracture   0.9337059919584192\n"
     ]
    }
   ],
   "source": [
    "path = None\n",
    "outGT, outPRED = CheXpertTrainer.test(model, dataLoaderVal, nnClassCount, path, class_names)"
   ]
  },
  {
   "cell_type": "code",
   "execution_count": 127,
   "id": "9281107e",
   "metadata": {},
   "outputs": [],
   "source": [
    "load_path = \"model_saved/m-epoch_FL_densenet_slip_vicreg3.pth.tar\"\n",
    "load_model(load_path, model)"
   ]
  },
  {
   "cell_type": "code",
   "execution_count": 128,
   "id": "69893267",
   "metadata": {},
   "outputs": [
    {
     "name": "stdout",
     "output_type": "stream",
     "text": [
      "AUROC mean  0.8472015685713887\n",
      "No Finding   0.896416083916084\n",
      "Enlarged Cardiomediastinum   0.5873343151693667\n",
      "Cardiomegaly   0.8413547237076648\n",
      "Lung Opacity   0.9151332327802916\n",
      "Lung Lesion   0.572139303482587\n",
      "Edema   0.9459821428571429\n",
      "Consolidation   0.8691176470588236\n",
      "Pneumonia   0.8208762886597939\n",
      "Atelectasis   0.7984251968503937\n",
      "Pneumothorax   0.9274725274725275\n",
      "Pleural Effusion   0.9215353260869565\n",
      "Pleural Other   0.9601990049751243\n",
      "Fracture   0.9576345984112974\n"
     ]
    }
   ],
   "source": [
    "path = None\n",
    "outGT, outPRED = CheXpertTrainer.test(model, dataLoaderVal, nnClassCount, path, class_names)"
   ]
  },
  {
   "cell_type": "markdown",
   "id": "db113429",
   "metadata": {},
   "source": [
    "## SLIP SIMCLR"
   ]
  },
  {
   "cell_type": "code",
   "execution_count": 147,
   "id": "95e8fde7",
   "metadata": {},
   "outputs": [],
   "source": [
    "load_path = \"model_saved/m-epoch_FL_densenet_slip_simclr1.pth.tar\"\n",
    "load_model(load_path, model)"
   ]
  },
  {
   "cell_type": "code",
   "execution_count": 148,
   "id": "db414df6",
   "metadata": {},
   "outputs": [
    {
     "name": "stdout",
     "output_type": "stream",
     "text": [
      "AUROC mean  0.7643685908865462\n",
      "No Finding   0.9206730769230769\n",
      "Enlarged Cardiomediastinum   0.42052037309769275\n",
      "Cardiomegaly   0.8547237076648841\n",
      "Lung Opacity   0.8949220713926596\n",
      "Lung Lesion   0.24378109452736318\n",
      "Edema   0.9200892857142856\n",
      "Consolidation   0.8494485294117647\n",
      "Pneumonia   0.5663659793814433\n",
      "Atelectasis   0.7596850393700788\n",
      "Pneumothorax   0.8336996336996336\n",
      "Pleural Effusion   0.9227807971014493\n",
      "Pleural Other   0.8557213930348259\n",
      "Fracture   0.894380700205943\n"
     ]
    }
   ],
   "source": [
    "path = None\n",
    "outGT, outPRED = CheXpertTrainer.test(model, dataLoaderVal, nnClassCount, path, class_names)"
   ]
  },
  {
   "cell_type": "code",
   "execution_count": 149,
   "id": "02b8ef78",
   "metadata": {},
   "outputs": [],
   "source": [
    "load_path = \"model_saved/m-epoch_FL_densenet_slip_simclr2.pth.tar\"\n",
    "load_model(load_path, model)"
   ]
  },
  {
   "cell_type": "code",
   "execution_count": 150,
   "id": "2e7d1b4e",
   "metadata": {},
   "outputs": [
    {
     "name": "stdout",
     "output_type": "stream",
     "text": [
      "AUROC mean  0.8209386452597754\n",
      "No Finding   0.89881993006993\n",
      "Enlarged Cardiomediastinum   0.5673048600883652\n",
      "Cardiomegaly   0.8194073083778967\n",
      "Lung Opacity   0.9011563599798894\n",
      "Lung Lesion   0.46766169154228854\n",
      "Edema   0.9369047619047619\n",
      "Consolidation   0.8279411764705882\n",
      "Pneumonia   0.7899484536082475\n",
      "Atelectasis   0.7819422572178477\n",
      "Pneumothorax   0.8498168498168499\n",
      "Pleural Effusion   0.9239130434782609\n",
      "Pleural Other   0.9701492537313433\n",
      "Fracture   0.9372364420908109\n"
     ]
    }
   ],
   "source": [
    "path = None\n",
    "outGT, outPRED = CheXpertTrainer.test(model, dataLoaderVal, nnClassCount, path, class_names)"
   ]
  },
  {
   "cell_type": "code",
   "execution_count": 151,
   "id": "9879c216",
   "metadata": {},
   "outputs": [],
   "source": [
    "load_path = \"model_saved/m-epoch_FL_densenet_slip_simclr3.pth.tar\"\n",
    "load_model(load_path, model)"
   ]
  },
  {
   "cell_type": "code",
   "execution_count": 152,
   "id": "de6a2e23",
   "metadata": {},
   "outputs": [
    {
     "name": "stdout",
     "output_type": "stream",
     "text": [
      "AUROC mean  0.8527790331692864\n",
      "No Finding   0.8883304195804196\n",
      "Enlarged Cardiomediastinum   0.6106038291605301\n",
      "Cardiomegaly   0.8094919786096257\n",
      "Lung Opacity   0.8976370035193565\n",
      "Lung Lesion   0.7412935323383085\n",
      "Edema   0.9447916666666667\n",
      "Consolidation   0.8503676470588235\n",
      "Pneumonia   0.8131443298969072\n",
      "Atelectasis   0.8002099737532808\n",
      "Pneumothorax   0.9157509157509157\n",
      "Pleural Effusion   0.9115715579710145\n",
      "Pleural Other   0.9402985074626866\n",
      "Fracture   0.9626360694321859\n"
     ]
    }
   ],
   "source": [
    "path = None\n",
    "outGT, outPRED = CheXpertTrainer.test(model, dataLoaderVal, nnClassCount, path, class_names)"
   ]
  },
  {
   "cell_type": "markdown",
   "id": "ca04dc72",
   "metadata": {},
   "source": [
    "# Linear Probing"
   ]
  },
  {
   "cell_type": "markdown",
   "id": "6d1606a9",
   "metadata": {},
   "source": [
    "## Original"
   ]
  },
  {
   "cell_type": "code",
   "execution_count": 12,
   "id": "bc14f93d",
   "metadata": {},
   "outputs": [
    {
     "name": "stdout",
     "output_type": "stream",
     "text": [
      "AUROC mean  0.6419114160440883\n",
      "No Finding   0.8540209790209791\n",
      "Enlarged Cardiomediastinum   0.4559646539027983\n",
      "Cardiomegaly   0.6678921568627452\n",
      "Lung Opacity   0.808044243338361\n",
      "Lung Lesion   0.04477611940298509\n",
      "Edema   0.7950892857142857\n",
      "Consolidation   0.7922794117647058\n",
      "Pneumonia   0.6623711340206185\n",
      "Atelectasis   0.7633595800524935\n",
      "Pneumothorax   0.7494505494505495\n",
      "Pleural Effusion   0.7778532608695653\n",
      "Pleural Other   0.25373134328358204\n",
      "Fracture   0.7200156908894774\n"
     ]
    }
   ],
   "source": [
    "path = \"model_saved/m-epoch_FL_resnet_lp1.pth.tar\"\n",
    "outGT, outPRED = CheXpertTrainer.test(model, dataLoaderVal, nnClassCount, path, class_names)"
   ]
  },
  {
   "cell_type": "code",
   "execution_count": 13,
   "id": "f8137b93",
   "metadata": {},
   "outputs": [
    {
     "name": "stdout",
     "output_type": "stream",
     "text": [
      "AUROC mean  0.6551112739068264\n",
      "No Finding   0.8690996503496503\n",
      "Enlarged Cardiomediastinum   0.4251350024545901\n",
      "Cardiomegaly   0.6705659536541889\n",
      "Lung Opacity   0.804927099044746\n",
      "Lung Lesion   0.02487562189054726\n",
      "Edema   0.8133928571428571\n",
      "Consolidation   0.7860294117647059\n",
      "Pneumonia   0.7203608247422681\n",
      "Atelectasis   0.7596850393700787\n",
      "Pneumothorax   0.747985347985348\n",
      "Pleural Effusion   0.7793251811594203\n",
      "Pleural Other   0.3830845771144279\n",
      "Fracture   0.7319799941159163\n"
     ]
    }
   ],
   "source": [
    "path1 = 'model_saved/m-epoch_FL_resnet_lp2.pth.tar'\n",
    "outGT, outPRED = CheXpertTrainer.test(model, dataLoaderVal, nnClassCount, path1, class_names)"
   ]
  },
  {
   "cell_type": "code",
   "execution_count": 14,
   "id": "4c188789",
   "metadata": {},
   "outputs": [
    {
     "name": "stdout",
     "output_type": "stream",
     "text": [
      "AUROC mean  0.6628867769265889\n",
      "No Finding   0.8721590909090909\n",
      "Enlarged Cardiomediastinum   0.4705940108001964\n",
      "Cardiomegaly   0.6727941176470589\n",
      "Lung Opacity   0.8143790849673203\n",
      "Lung Lesion   0.02487562189054726\n",
      "Edema   0.8165178571428572\n",
      "Consolidation   0.8001838235294118\n",
      "Pneumonia   0.731958762886598\n",
      "Atelectasis   0.7649343832020997\n",
      "Pneumothorax   0.7289377289377289\n",
      "Pleural Effusion   0.7924592391304348\n",
      "Pleural Other   0.3980099502487562\n",
      "Fracture   0.7297244287535549\n"
     ]
    }
   ],
   "source": [
    "path3 = 'model_saved/m-epoch_FL_resnet_lp3.pth.tar'\n",
    "outGT, outPRED = CheXpertTrainer.test(model, dataLoaderVal, nnClassCount, path3, class_names)"
   ]
  },
  {
   "cell_type": "markdown",
   "id": "88a5bbdb",
   "metadata": {},
   "source": [
    "## CLIP"
   ]
  },
  {
   "cell_type": "code",
   "execution_count": 15,
   "id": "6887590a",
   "metadata": {},
   "outputs": [],
   "source": [
    "load_path = \"model_saved/m-epoch_FL_resnet_clip_lp1.pth.tar\"\n",
    "load_model(load_path, model)"
   ]
  },
  {
   "cell_type": "code",
   "execution_count": 16,
   "id": "52597064",
   "metadata": {},
   "outputs": [
    {
     "name": "stdout",
     "output_type": "stream",
     "text": [
      "AUROC mean  0.5740112820066824\n",
      "No Finding   0.5563811188811189\n",
      "Enlarged Cardiomediastinum   0.3696612665684831\n",
      "Cardiomegaly   0.5424465240641712\n",
      "Lung Opacity   0.6083459024635495\n",
      "Lung Lesion   0.900497512437811\n",
      "Edema   0.5626488095238096\n",
      "Consolidation   0.7503676470588235\n",
      "Pneumonia   0.7016752577319587\n",
      "Atelectasis   0.5956955380577429\n",
      "Pneumothorax   0.5655677655677656\n",
      "Pleural Effusion   0.6913496376811595\n",
      "Pleural Other   0.13432835820895528\n",
      "Fracture   0.483181327841522\n"
     ]
    }
   ],
   "source": [
    "path = None\n",
    "outGT, outPRED = CheXpertTrainer.test(model, dataLoaderVal, nnClassCount, path, class_names)"
   ]
  },
  {
   "cell_type": "code",
   "execution_count": 17,
   "id": "5795df77",
   "metadata": {},
   "outputs": [],
   "source": [
    "load_path = \"model_saved/m-epoch_FL_resnet_clip_lp2.pth.tar\"\n",
    "load_model(load_path, model)"
   ]
  },
  {
   "cell_type": "code",
   "execution_count": 18,
   "id": "836d28f7",
   "metadata": {
    "scrolled": true
   },
   "outputs": [
    {
     "name": "stdout",
     "output_type": "stream",
     "text": [
      "AUROC mean  0.5800559281393045\n",
      "No Finding   0.5749562937062936\n",
      "Enlarged Cardiomediastinum   0.3858615611192931\n",
      "Cardiomegaly   0.5482397504456328\n",
      "Lung Opacity   0.6190045248868778\n",
      "Lung Lesion   0.8855721393034826\n",
      "Edema   0.5686011904761904\n",
      "Consolidation   0.7255514705882353\n",
      "Pneumonia   0.6804123711340206\n",
      "Atelectasis   0.6121784776902885\n",
      "Pneumothorax   0.5377289377289377\n",
      "Pleural Effusion   0.7093523550724639\n",
      "Pleural Other   0.1990049751243781\n",
      "Fracture   0.4942630185348632\n"
     ]
    }
   ],
   "source": [
    "path = None\n",
    "outGT, outPRED = CheXpertTrainer.test(model, dataLoaderVal, nnClassCount, path, class_names)"
   ]
  },
  {
   "cell_type": "code",
   "execution_count": 20,
   "id": "5ca50633",
   "metadata": {},
   "outputs": [],
   "source": [
    "load_path = \"model_saved/m-epoch_FL_resnet_clip_lp3.pth.tar\"\n",
    "load_model(load_path, model)"
   ]
  },
  {
   "cell_type": "code",
   "execution_count": 21,
   "id": "9554da85",
   "metadata": {},
   "outputs": [
    {
     "name": "stdout",
     "output_type": "stream",
     "text": [
      "AUROC mean  0.5760752692652003\n",
      "No Finding   0.5751748251748252\n",
      "Enlarged Cardiomediastinum   0.3806578301423662\n",
      "Cardiomegaly   0.5007798573975044\n",
      "Lung Opacity   0.6239316239316239\n",
      "Lung Lesion   0.8407960199004976\n",
      "Edema   0.5770833333333333\n",
      "Consolidation   0.7235294117647059\n",
      "Pneumonia   0.6514175257731959\n",
      "Atelectasis   0.6299212598425197\n",
      "Pneumothorax   0.5487179487179488\n",
      "Pleural Effusion   0.6493432971014492\n",
      "Pleural Other   0.2885572139303483\n",
      "Fracture   0.4990683534372855\n"
     ]
    }
   ],
   "source": [
    "path = None\n",
    "outGT, outPRED = CheXpertTrainer.test(model, dataLoaderVal, nnClassCount, path, class_names)"
   ]
  },
  {
   "cell_type": "markdown",
   "id": "da8bf86e",
   "metadata": {},
   "source": [
    "## VICREG"
   ]
  },
  {
   "cell_type": "code",
   "execution_count": 22,
   "id": "425f0c2c",
   "metadata": {},
   "outputs": [],
   "source": [
    "load_path = \"model_saved/m-epoch_FL_resnet_vicreg_lp1.pth.tar\"\n",
    "load_model(load_path, model)"
   ]
  },
  {
   "cell_type": "code",
   "execution_count": 23,
   "id": "12f3a8ea",
   "metadata": {},
   "outputs": [
    {
     "name": "stdout",
     "output_type": "stream",
     "text": [
      "AUROC mean  0.7204818627489432\n",
      "No Finding   0.8953234265734266\n",
      "Enlarged Cardiomediastinum   0.593127147766323\n",
      "Cardiomegaly   0.686608734402852\n",
      "Lung Opacity   0.8393162393162393\n",
      "Lung Lesion   0.05970149253731338\n",
      "Edema   0.8998511904761903\n",
      "Consolidation   0.8380514705882353\n",
      "Pneumonia   0.7261597938144331\n",
      "Atelectasis   0.7783727034120735\n",
      "Pneumothorax   0.8388278388278388\n",
      "Pleural Effusion   0.8125000000000001\n",
      "Pleural Other   0.6716417910447761\n",
      "Fracture   0.7267823869765617\n"
     ]
    }
   ],
   "source": [
    "path = None\n",
    "outGT, outPRED = CheXpertTrainer.test(model, dataLoaderVal, nnClassCount, path, class_names)"
   ]
  },
  {
   "cell_type": "code",
   "execution_count": 24,
   "id": "5f8f4452",
   "metadata": {},
   "outputs": [],
   "source": [
    "load_path = \"model_saved/m-epoch_FL_resnet_vicreg_lp2.pth.tar\"\n",
    "load_model(load_path, model)"
   ]
  },
  {
   "cell_type": "code",
   "execution_count": 25,
   "id": "aace3cc3",
   "metadata": {
    "scrolled": true
   },
   "outputs": [
    {
     "name": "stdout",
     "output_type": "stream",
     "text": [
      "AUROC mean  0.7203766446149019\n",
      "No Finding   0.9034090909090909\n",
      "Enlarged Cardiomediastinum   0.5671084928816887\n",
      "Cardiomegaly   0.6910650623885918\n",
      "Lung Opacity   0.8396178984414279\n",
      "Lung Lesion   0.03482587064676612\n",
      "Edema   0.9019345238095238\n",
      "Consolidation   0.8352941176470587\n",
      "Pneumonia   0.7564432989690721\n",
      "Atelectasis   0.7722834645669292\n",
      "Pneumothorax   0.8285714285714285\n",
      "Pleural Effusion   0.8114809782608695\n",
      "Pleural Other   0.6865671641791045\n",
      "Fracture   0.7362949887221732\n"
     ]
    }
   ],
   "source": [
    "path = None\n",
    "outGT, outPRED = CheXpertTrainer.test(model, dataLoaderVal, nnClassCount, path, class_names)"
   ]
  },
  {
   "cell_type": "code",
   "execution_count": 26,
   "id": "a145ae69",
   "metadata": {},
   "outputs": [],
   "source": [
    "load_path = \"model_saved/m-epoch_FL_resnet_vicreg_lp3.pth.tar\"\n",
    "load_model(load_path, model)"
   ]
  },
  {
   "cell_type": "code",
   "execution_count": 27,
   "id": "20408b9b",
   "metadata": {},
   "outputs": [
    {
     "name": "stdout",
     "output_type": "stream",
     "text": [
      "AUROC mean  0.7344333555610798\n",
      "No Finding   0.9060314685314685\n",
      "Enlarged Cardiomediastinum   0.6237604320078547\n",
      "Cardiomegaly   0.7027629233511586\n",
      "Lung Opacity   0.844746103569633\n",
      "Lung Lesion   0.03482587064676612\n",
      "Edema   0.9026785714285714\n",
      "Consolidation   0.8389705882352941\n",
      "Pneumonia   0.7693298969072164\n",
      "Atelectasis   0.7785826771653543\n",
      "Pneumothorax   0.8043956043956043\n",
      "Pleural Effusion   0.8268795289855073\n",
      "Pleural Other   0.7761194029850746\n",
      "Fracture   0.7385505540845347\n"
     ]
    }
   ],
   "source": [
    "path = None\n",
    "outGT, outPRED = CheXpertTrainer.test(model, dataLoaderVal, nnClassCount, path, class_names)"
   ]
  },
  {
   "cell_type": "markdown",
   "id": "f8706b4f",
   "metadata": {},
   "source": [
    "## SIMCLR"
   ]
  },
  {
   "cell_type": "code",
   "execution_count": 28,
   "id": "8a64f5c8",
   "metadata": {
    "scrolled": true
   },
   "outputs": [],
   "source": [
    "load_path = \"model_saved/m-epoch_FL_resnet_simclr_lp1.pth.tar\"\n",
    "load_model(load_path, model)"
   ]
  },
  {
   "cell_type": "code",
   "execution_count": 29,
   "id": "b9837d43",
   "metadata": {},
   "outputs": [
    {
     "name": "stdout",
     "output_type": "stream",
     "text": [
      "AUROC mean  0.7250383930746747\n",
      "No Finding   0.8988199300699301\n",
      "Enlarged Cardiomediastinum   0.6108001963672066\n",
      "Cardiomegaly   0.7182486631016043\n",
      "Lung Opacity   0.8560080442433383\n",
      "Lung Lesion   0.04477611940298509\n",
      "Edema   0.9052083333333334\n",
      "Consolidation   0.8628676470588235\n",
      "Pneumonia   0.6920103092783505\n",
      "Atelectasis   0.7733333333333333\n",
      "Pneumothorax   0.8183150183150183\n",
      "Pleural Effusion   0.8548460144927537\n",
      "Pleural Other   0.6567164179104478\n",
      "Fracture   0.7335490830636461\n"
     ]
    }
   ],
   "source": [
    "path = None\n",
    "outGT, outPRED = CheXpertTrainer.test(model, dataLoaderVal, nnClassCount, path, class_names)"
   ]
  },
  {
   "cell_type": "code",
   "execution_count": 30,
   "id": "5795df77",
   "metadata": {},
   "outputs": [],
   "source": [
    "load_path = \"model_saved/m-epoch_FL_resnet_simclr_lp2.pth.tar\"\n",
    "load_model(load_path, model)"
   ]
  },
  {
   "cell_type": "code",
   "execution_count": 31,
   "id": "836d28f7",
   "metadata": {
    "scrolled": true
   },
   "outputs": [
    {
     "name": "stdout",
     "output_type": "stream",
     "text": [
      "AUROC mean  0.7257449372900044\n",
      "No Finding   0.8975087412587412\n",
      "Enlarged Cardiomediastinum   0.5447226313205694\n",
      "Cardiomegaly   0.713903743315508\n",
      "Lung Opacity   0.8543991955756661\n",
      "Lung Lesion   0.03482587064676612\n",
      "Edema   0.9110119047619047\n",
      "Consolidation   0.8715073529411765\n",
      "Pneumonia   0.7429123711340206\n",
      "Atelectasis   0.7723884514435696\n",
      "Pneumothorax   0.7978021978021979\n",
      "Pleural Effusion   0.8624320652173912\n",
      "Pleural Other   0.691542288557214\n",
      "Fracture   0.7397273707953319\n"
     ]
    }
   ],
   "source": [
    "path = None\n",
    "outGT, outPRED = CheXpertTrainer.test(model, dataLoaderVal, nnClassCount, path, class_names)"
   ]
  },
  {
   "cell_type": "code",
   "execution_count": 32,
   "id": "5ca50633",
   "metadata": {},
   "outputs": [],
   "source": [
    "load_path = \"model_saved/m-epoch_FL_resnet_simclr_lp3.pth.tar\"\n",
    "load_model(load_path, model)"
   ]
  },
  {
   "cell_type": "code",
   "execution_count": 33,
   "id": "9554da85",
   "metadata": {},
   "outputs": [
    {
     "name": "stdout",
     "output_type": "stream",
     "text": [
      "AUROC mean  0.7350559938392067\n",
      "No Finding   0.906687062937063\n",
      "Enlarged Cardiomediastinum   0.6691212567501228\n",
      "Cardiomegaly   0.7151292335115864\n",
      "Lung Opacity   0.8518853695324284\n",
      "Lung Lesion   0.04975124378109452\n",
      "Edema   0.9141369047619047\n",
      "Consolidation   0.8683823529411765\n",
      "Pneumonia   0.7673969072164949\n",
      "Atelectasis   0.7792125984251969\n",
      "Pneumothorax   0.780952380952381\n",
      "Pleural Effusion   0.8653759057971014\n",
      "Pleural Other   0.6417910447761195\n",
      "Fracture   0.7459056585270177\n"
     ]
    }
   ],
   "source": [
    "path = None\n",
    "outGT, outPRED = CheXpertTrainer.test(model, dataLoaderVal, nnClassCount, path, class_names)"
   ]
  },
  {
   "cell_type": "markdown",
   "id": "8f1a58e9",
   "metadata": {},
   "source": [
    "## SLIP VICREG"
   ]
  },
  {
   "cell_type": "code",
   "execution_count": 34,
   "id": "bcdd7c52",
   "metadata": {},
   "outputs": [],
   "source": [
    "load_path = \"model_saved/m-epoch_FL_resnet_slip_vicreg_lp1.pth.tar\"\n",
    "load_model(load_path, model)"
   ]
  },
  {
   "cell_type": "code",
   "execution_count": 35,
   "id": "6a0cd757",
   "metadata": {},
   "outputs": [
    {
     "name": "stdout",
     "output_type": "stream",
     "text": [
      "AUROC mean  0.7293614136277273\n",
      "No Finding   0.888986013986014\n",
      "Enlarged Cardiomediastinum   0.5621993127147766\n",
      "Cardiomegaly   0.749108734402852\n",
      "Lung Opacity   0.8316742081447964\n",
      "Lung Lesion   0.14925373134328357\n",
      "Edema   0.8761904761904762\n",
      "Consolidation   0.8534926470588236\n",
      "Pneumonia   0.7880154639175259\n",
      "Atelectasis   0.779002624671916\n",
      "Pneumothorax   0.8036630036630037\n",
      "Pleural Effusion   0.7963088768115942\n",
      "Pleural Other   0.7114427860696517\n",
      "Fracture   0.692360498185741\n"
     ]
    }
   ],
   "source": [
    "path = None\n",
    "outGT, outPRED = CheXpertTrainer.test(model, dataLoaderVal, nnClassCount, path, class_names)"
   ]
  },
  {
   "cell_type": "code",
   "execution_count": 36,
   "id": "0ff3ff33",
   "metadata": {},
   "outputs": [],
   "source": [
    "load_path = \"model_saved/m-epoch_FL_resnet_slip_vicreg_lp2.pth.tar\"\n",
    "load_model(load_path, model)"
   ]
  },
  {
   "cell_type": "code",
   "execution_count": 37,
   "id": "0e0b8b9b",
   "metadata": {},
   "outputs": [
    {
     "name": "stdout",
     "output_type": "stream",
     "text": [
      "AUROC mean  0.7320789913239374\n",
      "No Finding   0.8913898601398602\n",
      "Enlarged Cardiomediastinum   0.5668139420716741\n",
      "Cardiomegaly   0.7391934046345812\n",
      "Lung Opacity   0.8381096028154852\n",
      "Lung Lesion   0.10447761194029848\n",
      "Edema   0.8831845238095238\n",
      "Consolidation   0.8558823529411765\n",
      "Pneumonia   0.7963917525773196\n",
      "Atelectasis   0.7760629921259843\n",
      "Pneumothorax   0.8329670329670329\n",
      "Pleural Effusion   0.8020833333333334\n",
      "Pleural Other   0.7313432835820896\n",
      "Fracture   0.6991271942728253\n"
     ]
    }
   ],
   "source": [
    "path = None\n",
    "outGT, outPRED = CheXpertTrainer.test(model, dataLoaderVal, nnClassCount, path, class_names)"
   ]
  },
  {
   "cell_type": "code",
   "execution_count": 38,
   "id": "99b2fdcb",
   "metadata": {},
   "outputs": [],
   "source": [
    "load_path = \"model_saved/m-epoch_FL_resnet_slip_vicreg_lp3.pth.tar\"\n",
    "load_model(load_path, model)"
   ]
  },
  {
   "cell_type": "code",
   "execution_count": 39,
   "id": "14023cb1",
   "metadata": {},
   "outputs": [
    {
     "name": "stdout",
     "output_type": "stream",
     "text": [
      "AUROC mean  0.7310885846417412\n",
      "No Finding   0.8933566433566433\n",
      "Enlarged Cardiomediastinum   0.587039764359352\n",
      "Cardiomegaly   0.7416443850267379\n",
      "Lung Opacity   0.8430367018602313\n",
      "Lung Lesion   0.02985074626865669\n",
      "Edema   0.890327380952381\n",
      "Consolidation   0.8599264705882352\n",
      "Pneumonia   0.8041237113402062\n",
      "Atelectasis   0.7801574803149607\n",
      "Pneumothorax   0.8263736263736263\n",
      "Pleural Effusion   0.8115942028985507\n",
      "Pleural Other   0.736318407960199\n",
      "Fracture   0.7004020790428558\n"
     ]
    }
   ],
   "source": [
    "path = None\n",
    "outGT, outPRED = CheXpertTrainer.test(model, dataLoaderVal, nnClassCount, path, class_names)"
   ]
  },
  {
   "cell_type": "markdown",
   "id": "4ed1b957",
   "metadata": {},
   "source": [
    "## SLIP SIMCLR"
   ]
  },
  {
   "cell_type": "code",
   "execution_count": 40,
   "id": "bcdd7c52",
   "metadata": {},
   "outputs": [],
   "source": [
    "load_path = \"model_saved/m-epoch_FL_resnet_slip_simclr_lp1.pth.tar\"\n",
    "load_model(load_path, model)"
   ]
  },
  {
   "cell_type": "code",
   "execution_count": 41,
   "id": "6a0cd757",
   "metadata": {},
   "outputs": [
    {
     "name": "stdout",
     "output_type": "stream",
     "text": [
      "AUROC mean  0.7158631496456963\n",
      "No Finding   0.892263986013986\n",
      "Enlarged Cardiomediastinum   0.5434462444771724\n",
      "Cardiomegaly   0.7174688057040999\n",
      "Lung Opacity   0.8522875816993464\n",
      "Lung Lesion   0.01990049751243783\n",
      "Edema   0.8708333333333333\n",
      "Consolidation   0.8713235294117647\n",
      "Pneumonia   0.8189432989690721\n",
      "Atelectasis   0.7864566929133858\n",
      "Pneumothorax   0.6871794871794872\n",
      "Pleural Effusion   0.8144248188405797\n",
      "Pleural Other   0.7412935323383085\n",
      "Fracture   0.6903991370010787\n"
     ]
    }
   ],
   "source": [
    "path = None\n",
    "outGT, outPRED = CheXpertTrainer.test(model, dataLoaderVal, nnClassCount, path, class_names)"
   ]
  },
  {
   "cell_type": "code",
   "execution_count": 42,
   "id": "0ff3ff33",
   "metadata": {},
   "outputs": [],
   "source": [
    "load_path = \"model_saved/m-epoch_FL_resnet_slip_simclr_lp2.pth.tar\"\n",
    "load_model(load_path, model)"
   ]
  },
  {
   "cell_type": "code",
   "execution_count": 43,
   "id": "0e0b8b9b",
   "metadata": {},
   "outputs": [
    {
     "name": "stdout",
     "output_type": "stream",
     "text": [
      "AUROC mean  0.7197351246800687\n",
      "No Finding   0.8975087412587414\n",
      "Enlarged Cardiomediastinum   0.507707412862052\n",
      "Cardiomegaly   0.723150623885918\n",
      "Lung Opacity   0.8514831573655104\n",
      "Lung Lesion   0.02487562189054726\n",
      "Edema   0.8863095238095238\n",
      "Consolidation   0.8737132352941177\n",
      "Pneumonia   0.8060567010309279\n",
      "Atelectasis   0.7828871391076115\n",
      "Pneumothorax   0.7135531135531135\n",
      "Pleural Effusion   0.8179347826086957\n",
      "Pleural Other   0.7661691542288558\n",
      "Fracture   0.705207413945278\n"
     ]
    }
   ],
   "source": [
    "path = None\n",
    "outGT, outPRED = CheXpertTrainer.test(model, dataLoaderVal, nnClassCount, path, class_names)"
   ]
  },
  {
   "cell_type": "code",
   "execution_count": 44,
   "id": "99b2fdcb",
   "metadata": {},
   "outputs": [],
   "source": [
    "load_path = \"model_saved/m-epoch_FL_resnet_slip_simclr_lp3.pth.tar\"\n",
    "load_model(load_path, model)"
   ]
  },
  {
   "cell_type": "code",
   "execution_count": 45,
   "id": "14023cb1",
   "metadata": {
    "scrolled": true
   },
   "outputs": [
    {
     "name": "stdout",
     "output_type": "stream",
     "text": [
      "AUROC mean  0.7306897074943385\n",
      "No Finding   0.8964160839160839\n",
      "Enlarged Cardiomediastinum   0.5680903289150712\n",
      "Cardiomegaly   0.7249331550802139\n",
      "Lung Opacity   0.8507792860734037\n",
      "Lung Lesion   0.04477611940298509\n",
      "Edema   0.8956845238095238\n",
      "Consolidation   0.8783088235294119\n",
      "Pneumonia   0.7880154639175259\n",
      "Atelectasis   0.7783727034120735\n",
      "Pneumothorax   0.7406593406593407\n",
      "Pleural Effusion   0.8195199275362319\n",
      "Pleural Other   0.8009950248756219\n",
      "Fracture   0.7124154162989114\n"
     ]
    }
   ],
   "source": [
    "path = None\n",
    "outGT, outPRED = CheXpertTrainer.test(model, dataLoaderVal, nnClassCount, path, class_names)"
   ]
  },
  {
   "cell_type": "markdown",
   "id": "498c87cd",
   "metadata": {},
   "source": [
    "# SIMCLR"
   ]
  },
  {
   "cell_type": "code",
   "execution_count": null,
   "id": "d8fcc338",
   "metadata": {},
   "outputs": [],
   "source": []
  },
  {
   "cell_type": "markdown",
   "id": "e2df78ab",
   "metadata": {},
   "source": [
    "             Atelectasis       Cardiomegaly       Consolidation       Edema Pleural      Effusion\n",
    "PAPER:  0.858(0.806,0.910)  0.832(0.773,0.890)  0.899(0.854,0.944)  0.941(0.903,0.980)  0.934(0.901,0.967)\n",
    "Result:    0.85070              0.84569               0.88235              0.90595          0.92142\n"
   ]
  }
 ],
 "metadata": {
  "kernelspec": {
   "display_name": "Python 3 (ipykernel)",
   "language": "python",
   "name": "python3"
  },
  "language_info": {
   "codemirror_mode": {
    "name": "ipython",
    "version": 3
   },
   "file_extension": ".py",
   "mimetype": "text/x-python",
   "name": "python",
   "nbconvert_exporter": "python",
   "pygments_lexer": "ipython3",
   "version": "3.8.12"
  }
 },
 "nbformat": 4,
 "nbformat_minor": 5
}
